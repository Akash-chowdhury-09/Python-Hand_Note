{
  "cells": [
    {
      "cell_type": "markdown",
      "metadata": {
        "id": "view-in-github",
        "colab_type": "text"
      },
      "source": [
        "<a href=\"https://colab.research.google.com/github/Akash-chowdhury-09/Python-Hand_Note/blob/main/Python_Learning.ipynb\" target=\"_parent\"><img src=\"https://colab.research.google.com/assets/colab-badge.svg\" alt=\"Open In Colab\"/></a>"
      ]
    },
    {
      "cell_type": "markdown",
      "metadata": {
        "id": "N7hlar18rb-3"
      },
      "source": [
        "#how to know data types of different variables?"
      ]
    },
    {
      "cell_type": "code",
      "execution_count": null,
      "metadata": {
        "colab": {
          "base_uri": "https://localhost:8080/"
        },
        "id": "4Bgs-qczqoyg",
        "outputId": "73b15d6d-bdaa-40d1-890b-56e766c06482"
      },
      "outputs": [
        {
          "output_type": "stream",
          "name": "stdout",
          "text": [
            "<class 'int'>\n",
            "<class 'float'>\n",
            "<class 'str'>\n",
            "<class 'list'>\n",
            "<class 'tuple'>\n",
            "<class 'dict'>\n",
            "<class 'bool'>\n",
            "Value: 10, Type: <class 'int'>\n",
            "Value: 10.5, Type: <class 'float'>\n",
            "Value: text, Type: <class 'str'>\n",
            "Value: [1, 2], Type: <class 'list'>\n",
            "Value: (3, 4), Type: <class 'tuple'>\n",
            "Value: {'key': 'value'}, Type: <class 'dict'>\n"
          ]
        }
      ],
      "source": [
        "# Integer\n",
        "x = 10\n",
        "print(type(x))  # Output: <class 'int'>\n",
        "\n",
        "# Float\n",
        "y = 10.5\n",
        "print(type(y))  # Output: <class 'float'>\n",
        "\n",
        "# String\n",
        "z = \"Hello\"\n",
        "print(type(z))  # Output: <class 'str'>\n",
        "\n",
        "# List\n",
        "a = [1, 2, 3]\n",
        "print(type(a))  # Output: <class 'list'>\n",
        "\n",
        "# Tuple\n",
        "b = (1, 2, 3)\n",
        "print(type(b))  # Output: <class 'tuple'>\n",
        "\n",
        "# Dictionary\n",
        "c = {\"key\": \"value\"}\n",
        "print(type(c))  # Output: <class 'dict'>\n",
        "\n",
        "# Boolean\n",
        "d = True\n",
        "print(type(d))  # Output: <class 'bool'>\n",
        "\n",
        "data = [10, 10.5, \"text\", [1, 2], (3, 4), {\"key\": \"value\"}]\n",
        "for item in data:\n",
        "    print(f\"Value: {item}, Type: {type(item)}\")\n"
      ]
    },
    {
      "cell_type": "markdown",
      "metadata": {
        "id": "oP4g-ihWuMgN"
      },
      "source": [
        "#Print in python"
      ]
    },
    {
      "cell_type": "code",
      "execution_count": null,
      "metadata": {
        "colab": {
          "base_uri": "https://localhost:8080/"
        },
        "id": "-FerzDFvuRUw",
        "outputId": "6a8f9314-e59b-4f47-aedd-8c35622c052e"
      },
      "outputs": [
        {
          "output_type": "stream",
          "name": "stdout",
          "text": [
            "Akash is your boss\n",
            "hello!\n"
          ]
        }
      ],
      "source": [
        "name = \"Akash is your boss\"\n",
        "print(name)\n",
        "print(\"hello!\")  #alternative way"
      ]
    },
    {
      "cell_type": "markdown",
      "source": [
        "##n Python, you can print multiple values on the same line using the print() function by managing the end parameter or concatenating strings. Here's how you can do it:"
      ],
      "metadata": {
        "id": "CYNz2yDZrZ36"
      }
    },
    {
      "cell_type": "code",
      "source": [
        "print(\"Hello\", end=\" \")\n",
        "print(\"World\")\n"
      ],
      "metadata": {
        "colab": {
          "base_uri": "https://localhost:8080/"
        },
        "id": "eebP1x2JrmLg",
        "outputId": "b2c76b04-e014-4f86-8a77-5eab71f86f6e"
      },
      "execution_count": null,
      "outputs": [
        {
          "output_type": "stream",
          "name": "stdout",
          "text": [
            "Hello World\n"
          ]
        }
      ]
    },
    {
      "cell_type": "markdown",
      "metadata": {
        "id": "uI_B2Pdiu3XN"
      },
      "source": [
        "#Want to know which python version is running here?"
      ]
    },
    {
      "cell_type": "code",
      "execution_count": null,
      "metadata": {
        "colab": {
          "base_uri": "https://localhost:8080/"
        },
        "id": "HLEx4GcWuyff",
        "outputId": "f59d4859-6d19-4411-a02a-60024852b447"
      },
      "outputs": [
        {
          "output_type": "stream",
          "name": "stdout",
          "text": [
            "3.10.12 (main, Nov  6 2024, 20:22:13) [GCC 11.4.0]\n",
            "Python 3.10.12\n"
          ]
        }
      ],
      "source": [
        "import sys\n",
        "print(sys.version)\n",
        "\n",
        "!python --version #alternative way"
      ]
    },
    {
      "cell_type": "markdown",
      "metadata": {
        "id": "dZelNeVIvZxt"
      },
      "source": [
        "#want to take input in python?\n",
        "##Remember python by default always take string as input\n",
        "\n",
        "---\n",
        "\n"
      ]
    },
    {
      "cell_type": "code",
      "execution_count": null,
      "metadata": {
        "colab": {
          "base_uri": "https://localhost:8080/"
        },
        "id": "i1ho22De3Ivn",
        "outputId": "54638746-bb39-4ea3-d155-6d9123a8e8e7"
      },
      "outputs": [
        {
          "output_type": "stream",
          "name": "stdout",
          "text": [
            "Enter what you want 5\n",
            "the input is : 5, type: <class 'str'>\n"
          ]
        }
      ],
      "source": [
        "x= input(\"Enter what you want \")\n",
        "print(f\"the input is : {x}, type: {type(x)}\")"
      ]
    },
    {
      "cell_type": "markdown",
      "metadata": {
        "id": "LNGUyIC-zH5H"
      },
      "source": [
        "##You can take different types of input by type casting the input\n"
      ]
    },
    {
      "cell_type": "code",
      "execution_count": null,
      "metadata": {
        "colab": {
          "base_uri": "https://localhost:8080/"
        },
        "id": "LGZaK3S33gAV",
        "outputId": "35b81ed4-a2ae-4e91-8122-f26362bb7a58"
      },
      "outputs": [
        {
          "output_type": "stream",
          "name": "stdout",
          "text": [
            "Enter your age: 23\n",
            "You are 23 years old.\n",
            "Enter your height in meters: 5.8333\n",
            "Your height is 5.8333 meters.\n",
            "Enter your address (type 'done' to finish):\n",
            "difjdf difjdi\n",
            "difjd dfidjf\n",
            "done\n",
            "Your address is:\n",
            "['difjdf difjdi', 'difjd dfidjf']\n",
            "difjdf difjdi\n",
            "ddifjd dfidjf\n"
          ]
        }
      ],
      "source": [
        "dage = int(input(\"Enter your age: \"))   #for taking integer input\n",
        "print(f\"You are {age} years old.\")\n",
        "\n",
        "height = float(input(\"Enter your height in meters: \"))  #for taking float input\n",
        "print(f\"Your height is {height} meters.\")\n",
        "\n",
        "\n",
        "#Multi-Line Input\n",
        "#To accept multi-line input, use a loop:\n",
        "\n",
        "print(\"Enter your address (type 'done' to finish):\")\n",
        "address = []   # is a list where we store address\n",
        "while True:\n",
        "    line = input()\n",
        "    if line.lower() == \"done\":  #case sensitive\n",
        "        break\n",
        "    address.append(line)    #append to list\n",
        "\n",
        "print(\"Your address is:\")\n",
        "print(address)  # it will print as list\n",
        "print(\"\\nd\".join(address))  #if we use this , this will combines all lines in the address list into a single string, with each line separeted by a newline\n",
        "\n"
      ]
    },
    {
      "cell_type": "markdown",
      "metadata": {
        "id": "q8-yr-AM6Ckw"
      },
      "source": [
        "#Join()\n",
        "## The join() method in Python is used to combine elements of a list (or other iterable) into a single string, with a specified separator between each element."
      ]
    },
    {
      "cell_type": "markdown",
      "metadata": {
        "id": "h_ouGry16dbl"
      },
      "source": [
        "#Examples of Different Separators with join():"
      ]
    },
    {
      "cell_type": "markdown",
      "metadata": {
        "id": "VB9RkGaU6kV3"
      },
      "source": [
        "Using No Separator:\n",
        "If you want the elements to be joined without any separator, use an empty string (\"\"):"
      ]
    },
    {
      "cell_type": "code",
      "execution_count": null,
      "metadata": {
        "colab": {
          "base_uri": "https://localhost:8080/"
        },
        "id": "Ya-hvj1h6dHv",
        "outputId": "2c892171-d4b6-4609-a702-f5107f5e894d"
      },
      "outputs": [
        {
          "output_type": "stream",
          "name": "stdout",
          "text": [
            "123 Elm StreetApartment 4BSpringfield\n"
          ]
        }
      ],
      "source": [
        "address = [\"123 Elm Street\", \"Apartment 4B\", \"Springfield\"]\n",
        "print(\"\".join(address))\n"
      ]
    },
    {
      "cell_type": "markdown",
      "metadata": {
        "id": "6DS6MXXG6rVW"
      },
      "source": [
        "Using a Comma:\n",
        "To join the elements with a comma:\n"
      ]
    },
    {
      "cell_type": "code",
      "execution_count": null,
      "metadata": {
        "colab": {
          "base_uri": "https://localhost:8080/"
        },
        "id": "ClXRHq_A6xxl",
        "outputId": "8270c623-a390-4592-f5c2-5cc82b125db1"
      },
      "outputs": [
        {
          "output_type": "stream",
          "name": "stdout",
          "text": [
            "123 Elm Street, Apartment 4B, Springfield\n"
          ]
        }
      ],
      "source": [
        "address = [\"123 Elm Street\", \"Apartment 4B\", \"Springfield\"]\n",
        "print(\", \".join(address))\n"
      ]
    },
    {
      "cell_type": "markdown",
      "metadata": {
        "id": "lbsCuW4S69Jm"
      },
      "source": [
        "Using a Space:\n",
        "To join the elements with a single space:"
      ]
    },
    {
      "cell_type": "code",
      "execution_count": null,
      "metadata": {
        "colab": {
          "base_uri": "https://localhost:8080/"
        },
        "id": "FvkzhhQf68uf",
        "outputId": "4eff3c89-8900-4793-9bae-d0938fe45813"
      },
      "outputs": [
        {
          "output_type": "stream",
          "name": "stdout",
          "text": [
            "123 Elm Street Apartment 4B Springfield\n"
          ]
        }
      ],
      "source": [
        "address = [\"123 Elm Street\", \"Apartment 4B\", \"Springfield\"]\n",
        "print(\" \".join(address))\n"
      ]
    },
    {
      "cell_type": "markdown",
      "metadata": {
        "id": "gCneLYjr68RN"
      },
      "source": [
        "#Splitting Input\n",
        "For multiple values in one line, use split():\n",
        "# by default split can detect different input by space but we can customize it\n",
        "#split method always return a list"
      ]
    },
    {
      "cell_type": "code",
      "execution_count": null,
      "metadata": {
        "id": "O__Sx51K8N3J",
        "colab": {
          "base_uri": "https://localhost:8080/"
        },
        "outputId": "119c5b9f-d2cc-46f2-f986-92da1c05e955"
      },
      "outputs": [
        {
          "output_type": "stream",
          "name": "stdout",
          "text": [
            "Enter three numbers separated by spaces: 1 2 3 \n",
            "['1', '2', '3']\n",
            "The numbers are: [1, 2, 3]\n"
          ]
        }
      ],
      "source": [
        "numbers = input(\"Enter three numbers separated by spaces: \").split()\n",
        "print(numbers)  # print list of string\n",
        "\n",
        "# Convert to integers  -> it is the most common method\n",
        "numbers = [int(num) for num in numbers]\n",
        "print(f\"The numbers are: {numbers}\")\n"
      ]
    },
    {
      "cell_type": "code",
      "execution_count": null,
      "metadata": {
        "colab": {
          "base_uri": "https://localhost:8080/",
          "height": 442
        },
        "id": "P1pLRYmk_d-O",
        "outputId": "8a11e293-f0c7-4d52-f10f-d5a2a9e88c1a"
      },
      "outputs": [
        {
          "output_type": "stream",
          "name": "stdout",
          "text": [
            "Enter numbers separated by commas: 1,2,3\n",
            "[1, 2, 3]\n"
          ]
        },
        {
          "output_type": "error",
          "ename": "KeyboardInterrupt",
          "evalue": "Interrupted by user",
          "traceback": [
            "\u001b[0;31m---------------------------------------------------------------------------\u001b[0m",
            "\u001b[0;31mKeyboardInterrupt\u001b[0m                         Traceback (most recent call last)",
            "\u001b[0;32m<ipython-input-7-589e8c0f91c5>\u001b[0m in \u001b[0;36m<cell line: 9>\u001b[0;34m()\u001b[0m\n\u001b[1;32m      7\u001b[0m \u001b[0;34m\u001b[0m\u001b[0m\n\u001b[1;32m      8\u001b[0m \u001b[0;34m\u001b[0m\u001b[0m\n\u001b[0;32m----> 9\u001b[0;31m \u001b[0mnumbers\u001b[0m \u001b[0;34m=\u001b[0m \u001b[0minput\u001b[0m\u001b[0;34m(\u001b[0m\u001b[0;34m\"Enter numbers separated by /: \"\u001b[0m\u001b[0;34m)\u001b[0m\u001b[0;34m.\u001b[0m\u001b[0msplit\u001b[0m\u001b[0;34m(\u001b[0m\u001b[0;34m\"/\"\u001b[0m\u001b[0;34m)\u001b[0m\u001b[0;34m\u001b[0m\u001b[0;34m\u001b[0m\u001b[0m\n\u001b[0m\u001b[1;32m     10\u001b[0m \u001b[0mnumbers\u001b[0m \u001b[0;34m=\u001b[0m \u001b[0;34m[\u001b[0m\u001b[0mint\u001b[0m\u001b[0;34m(\u001b[0m\u001b[0mnum\u001b[0m\u001b[0;34m)\u001b[0m \u001b[0;32mfor\u001b[0m \u001b[0mnum\u001b[0m \u001b[0;32min\u001b[0m \u001b[0mnumbers\u001b[0m\u001b[0;34m]\u001b[0m  \u001b[0;31m# Convert to integers\u001b[0m\u001b[0;34m\u001b[0m\u001b[0;34m\u001b[0m\u001b[0m\n\u001b[1;32m     11\u001b[0m \u001b[0mprint\u001b[0m\u001b[0;34m(\u001b[0m\u001b[0mnumbers\u001b[0m\u001b[0;34m)\u001b[0m\u001b[0;34m\u001b[0m\u001b[0;34m\u001b[0m\u001b[0m\n",
            "\u001b[0;32m/usr/local/lib/python3.10/dist-packages/ipykernel/kernelbase.py\u001b[0m in \u001b[0;36mraw_input\u001b[0;34m(self, prompt)\u001b[0m\n\u001b[1;32m    849\u001b[0m                 \u001b[0;34m\"raw_input was called, but this frontend does not support input requests.\"\u001b[0m\u001b[0;34m\u001b[0m\u001b[0;34m\u001b[0m\u001b[0m\n\u001b[1;32m    850\u001b[0m             )\n\u001b[0;32m--> 851\u001b[0;31m         return self._input_request(str(prompt),\n\u001b[0m\u001b[1;32m    852\u001b[0m             \u001b[0mself\u001b[0m\u001b[0;34m.\u001b[0m\u001b[0m_parent_ident\u001b[0m\u001b[0;34m,\u001b[0m\u001b[0;34m\u001b[0m\u001b[0;34m\u001b[0m\u001b[0m\n\u001b[1;32m    853\u001b[0m             \u001b[0mself\u001b[0m\u001b[0;34m.\u001b[0m\u001b[0m_parent_header\u001b[0m\u001b[0;34m,\u001b[0m\u001b[0;34m\u001b[0m\u001b[0;34m\u001b[0m\u001b[0m\n",
            "\u001b[0;32m/usr/local/lib/python3.10/dist-packages/ipykernel/kernelbase.py\u001b[0m in \u001b[0;36m_input_request\u001b[0;34m(self, prompt, ident, parent, password)\u001b[0m\n\u001b[1;32m    893\u001b[0m             \u001b[0;32mexcept\u001b[0m \u001b[0mKeyboardInterrupt\u001b[0m\u001b[0;34m:\u001b[0m\u001b[0;34m\u001b[0m\u001b[0;34m\u001b[0m\u001b[0m\n\u001b[1;32m    894\u001b[0m                 \u001b[0;31m# re-raise KeyboardInterrupt, to truncate traceback\u001b[0m\u001b[0;34m\u001b[0m\u001b[0;34m\u001b[0m\u001b[0m\n\u001b[0;32m--> 895\u001b[0;31m                 \u001b[0;32mraise\u001b[0m \u001b[0mKeyboardInterrupt\u001b[0m\u001b[0;34m(\u001b[0m\u001b[0;34m\"Interrupted by user\"\u001b[0m\u001b[0;34m)\u001b[0m \u001b[0;32mfrom\u001b[0m \u001b[0;32mNone\u001b[0m\u001b[0;34m\u001b[0m\u001b[0;34m\u001b[0m\u001b[0m\n\u001b[0m\u001b[1;32m    896\u001b[0m             \u001b[0;32mexcept\u001b[0m \u001b[0mException\u001b[0m \u001b[0;32mas\u001b[0m \u001b[0me\u001b[0m\u001b[0;34m:\u001b[0m\u001b[0;34m\u001b[0m\u001b[0;34m\u001b[0m\u001b[0m\n\u001b[1;32m    897\u001b[0m                 \u001b[0mself\u001b[0m\u001b[0;34m.\u001b[0m\u001b[0mlog\u001b[0m\u001b[0;34m.\u001b[0m\u001b[0mwarning\u001b[0m\u001b[0;34m(\u001b[0m\u001b[0;34m\"Invalid Message:\"\u001b[0m\u001b[0;34m,\u001b[0m \u001b[0mexc_info\u001b[0m\u001b[0;34m=\u001b[0m\u001b[0;32mTrue\u001b[0m\u001b[0;34m)\u001b[0m\u001b[0;34m\u001b[0m\u001b[0;34m\u001b[0m\u001b[0m\n",
            "\u001b[0;31mKeyboardInterrupt\u001b[0m: Interrupted by user"
          ]
        }
      ],
      "source": [
        " #You can specify the delimiter in .split(delimiter).\n",
        " #Input Separated by a Custom Character (e.g., Commas)\n",
        "\n",
        "numbers = input(\"Enter numbers separated by commas: \").split(\",\")\n",
        "numbers = [int(num) for num in numbers]  # Convert to integers\n",
        "print(numbers)\n",
        "\n",
        "\n",
        "numbers = input(\"Enter numbers separated by /: \").split(\"/\")\n",
        "numbers = [int(num) for num in numbers]  # Convert to integers\n",
        "print(numbers)\n"
      ]
    },
    {
      "cell_type": "markdown",
      "metadata": {
        "id": "vdCGmmeMBDKP"
      },
      "source": [
        "#Assign value to variable and print with string"
      ]
    },
    {
      "cell_type": "code",
      "execution_count": null,
      "metadata": {
        "colab": {
          "base_uri": "https://localhost:8080/"
        },
        "id": "t88_aU1hAYD-",
        "outputId": "d0cc097a-457c-4c30-b62a-9e6d23ffc231"
      },
      "outputs": [
        {
          "output_type": "stream",
          "name": "stdout",
          "text": [
            "10 11 12\n",
            "10,11,12\n"
          ]
        }
      ],
      "source": [
        "x,y,z=10,11,12\n",
        "print(x,y,z)  # default separator space\n",
        "#customize\n",
        "print(x,y,z,sep=\",\")"
      ]
    },
    {
      "cell_type": "markdown",
      "metadata": {
        "id": "LFin4G0qBmPa"
      },
      "source": [
        "#concatanation\n",
        "## only string can concate with string"
      ]
    },
    {
      "cell_type": "code",
      "execution_count": null,
      "metadata": {
        "colab": {
          "base_uri": "https://localhost:8080/",
          "height": 146
        },
        "id": "Ghuue7OTBkiX",
        "outputId": "a7693b41-b761-4779-9c5b-e9c73a0789bf"
      },
      "outputs": [
        {
          "output_type": "error",
          "ename": "TypeError",
          "evalue": "can only concatenate str (not \"int\") to str",
          "traceback": [
            "\u001b[0;31m---------------------------------------------------------------------------\u001b[0m",
            "\u001b[0;31mTypeError\u001b[0m                                 Traceback (most recent call last)",
            "\u001b[0;32m<ipython-input-2-d4124abe6c05>\u001b[0m in \u001b[0;36m<cell line: 1>\u001b[0;34m()\u001b[0m\n\u001b[0;32m----> 1\u001b[0;31m \u001b[0mprint\u001b[0m\u001b[0;34m(\u001b[0m\u001b[0;34m\"This is \"\u001b[0m \u001b[0;34m+\u001b[0m \u001b[0mx\u001b[0m\u001b[0;34m)\u001b[0m  \u001b[0;31m# error because here x in an integer\u001b[0m\u001b[0;34m\u001b[0m\u001b[0;34m\u001b[0m\u001b[0m\n\u001b[0m",
            "\u001b[0;31mTypeError\u001b[0m: can only concatenate str (not \"int\") to str"
          ]
        }
      ],
      "source": [
        "print(\"This is \" + x)  # error because here x in an integer"
      ]
    },
    {
      "cell_type": "code",
      "execution_count": null,
      "metadata": {
        "colab": {
          "base_uri": "https://localhost:8080/"
        },
        "id": "QySoqdgpB5-r",
        "outputId": "eb1a8f8c-a143-4511-a3ac-eb9082312f43"
      },
      "outputs": [
        {
          "output_type": "stream",
          "name": "stdout",
          "text": [
            "This is 10\n"
          ]
        }
      ],
      "source": [
        "print(\"This is \"+str(x))"
      ]
    },
    {
      "cell_type": "code",
      "execution_count": null,
      "metadata": {
        "colab": {
          "base_uri": "https://localhost:8080/"
        },
        "id": "wEGR0lKSCFoY",
        "outputId": "27103e96-ab23-4b85-8942-9c75a805b8e1"
      },
      "outputs": [
        {
          "output_type": "stream",
          "name": "stdout",
          "text": [
            "This is 10 and this is 11 and this is 12\n"
          ]
        }
      ],
      "source": [
        "print(\"This is \" + str(x) + \" and this is \"+str(y) +\" and this is \"+str(z))"
      ]
    },
    {
      "cell_type": "markdown",
      "metadata": {
        "id": "xzqn-tXeCmFB"
      },
      "source": [
        "#formatting"
      ]
    },
    {
      "cell_type": "code",
      "execution_count": null,
      "metadata": {
        "colab": {
          "base_uri": "https://localhost:8080/"
        },
        "id": "vrPCLa37CZ3l",
        "outputId": "2c1d2d1f-dc5d-474b-efe6-767541bf54d8"
      },
      "outputs": [
        {
          "output_type": "stream",
          "name": "stdout",
          "text": [
            "This is 10 and this is 11\n",
            "This is 11 and this is 12 and this is 10\n",
            "this is 10 and this is 11 and this is 12\n"
          ]
        }
      ],
      "source": [
        "print(\"This is {} and this is {}\".format(x,y) )\n",
        "print(\"This is {1} and this is {2} and this is {0}\".format(x,y,z) )\n",
        "print(f\"this is {x} and this is {y} and this is {z}\")"
      ]
    },
    {
      "cell_type": "markdown",
      "metadata": {
        "id": "n1P3BUjWDUEX"
      },
      "source": [
        "### multiple assignment"
      ]
    },
    {
      "cell_type": "code",
      "execution_count": null,
      "metadata": {
        "colab": {
          "base_uri": "https://localhost:8080/"
        },
        "id": "Bdgp6cueDc-a",
        "outputId": "5500dcfe-2027-4d38-c25e-5eb8bfc785d0"
      },
      "outputs": [
        {
          "output_type": "stream",
          "name": "stdout",
          "text": [
            "100 210.1 John\n",
            "Integer: 100Float: 210.1String: John\n",
            "Integer: 100, Float: 210.1, String: John\n"
          ]
        }
      ],
      "source": [
        "a_integer, a_float, a_string = 100, 210.10, \"John\"\n",
        "\n",
        "print(a_integer, a_float, a_string)\n",
        "\n",
        "\n",
        "\n",
        "print(\"Integer: \"+str(a_integer) + \"Float: \"+str(a_float)+\"String: \"+ a_string)\n",
        "print(\"Integer: {}, Float: {}, String: {}\".format(a_integer, a_float, a_string))"
      ]
    },
    {
      "cell_type": "code",
      "execution_count": null,
      "metadata": {
        "colab": {
          "base_uri": "https://localhost:8080/"
        },
        "id": "5tN7qZZUQw9g",
        "outputId": "f619841b-9b57-4962-8273-0a6a8a2a650e"
      },
      "outputs": [
        {
          "output_type": "stream",
          "name": "stdout",
          "text": [
            "Hello, World!\n",
            "H\n",
            "llo\n",
            "llo, World!\n",
            "Hello, World!Hello, World!\n",
            "Hello, World!Hello, World!Hello, World!\n",
            "Hello, World!TEST\n",
            "Hello\n",
            "World!\n",
            "Hello\n",
            "Hlo ol!\n"
          ]
        }
      ],
      "source": [
        "str1 = \"Hello, World!\"\n",
        "\n",
        "print(str1)       #prints complete string\n",
        "print(str1[0])    #prints first characte of the string\n",
        "\n",
        "#string slicing\n",
        "print(str1[2:5])  # Prints characters starting from 3rd upto 5th (index 2 to 4)\n",
        "print(str1[2:])   #prints string starting from 3rd character\n",
        "\n",
        "#string repetition\n",
        "print(str1 *2)    #prints string 2 times\n",
        "print(str1 *3)    #prints string 3 times\n",
        "print(str1 + \"TEST\") #prints concatanation string\n",
        "print(str1[0:5])  # 'Hello'  --> Characters from index 0 to 4\n",
        "print(str1[7:])   # 'World!' --> Characters from index 7 to the end\n",
        "print(str1[:5])   # 'Hello'  --> Characters from the start to index 4\n",
        "\n",
        "#skipping\n",
        "print(str1[::2])  # 'Hoo ol' --> Every second character (skipping one character)"
      ]
    },
    {
      "cell_type": "markdown",
      "metadata": {
        "id": "PRfE5JDfUyLq"
      },
      "source": [
        "#Skipping\n",
        "##string[start:end:step]\n",
        "#start: The index where the slice begins (inclusive).\n",
        "#end: The index where the slice ends (exclusive).\n",
        "#step: The number of characters to skip (optional).\n",
        "\n",
        "\n",
        "## skipping means skip this indices and delate others\n",
        "\n",
        "##[0:12:3] means This slices the string from index 0 to 11 and skips every third character. So, we take the characters at indices 0, 3, 6, and 9.\n",
        "###bakigula nibo na\n",
        "\n",
        "\n",
        "#Skipping with Negative Step (Reversing a String)\n",
        "#s = \"Python\"\n",
        "#print(s[::-1])  \n",
        "# Reverses the string\n"
      ]
    },
    {
      "cell_type": "code",
      "source": [
        "#Skipping Every Other Character\n",
        "\n",
        "s = \"Python\"\n",
        "print(s[::2])  # Skips every second character\n"
      ],
      "metadata": {
        "colab": {
          "base_uri": "https://localhost:8080/"
        },
        "id": "XlAjhXDKtN2Y",
        "outputId": "3bbf616f-af7f-4d93-8eed-375943d296ba"
      },
      "execution_count": null,
      "outputs": [
        {
          "output_type": "stream",
          "name": "stdout",
          "text": [
            "Pto\n"
          ]
        }
      ]
    },
    {
      "cell_type": "code",
      "source": [
        "#Skipping Characters in the Middle of a String\n",
        "s = \"Hello, World!\"\n",
        "print(s[0:12:3])  # Skips every third character from index 0 to 11\n"
      ],
      "metadata": {
        "colab": {
          "base_uri": "https://localhost:8080/"
        },
        "id": "-cRN9VQWtdHn",
        "outputId": "3714ed9e-b67a-4276-e6bf-531ab11f47d6"
      },
      "execution_count": null,
      "outputs": [
        {
          "output_type": "stream",
          "name": "stdout",
          "text": [
            "Hl r\n"
          ]
        }
      ]
    },
    {
      "cell_type": "code",
      "source": [
        "#Skipping with Negative Step (Reversing a String)\n",
        "\n",
        "s = \"Python\"\n",
        "print(s[::-1])  # Reverses the string\n"
      ],
      "metadata": {
        "colab": {
          "base_uri": "https://localhost:8080/"
        },
        "id": "7qd3_ObitqAX",
        "outputId": "e6b6bc72-d1bc-43b6-e1fb-512c3b5fbe59"
      },
      "execution_count": null,
      "outputs": [
        {
          "output_type": "stream",
          "name": "stdout",
          "text": [
            "nohtyP\n"
          ]
        }
      ]
    },
    {
      "cell_type": "markdown",
      "source": [
        "#Skipping in a Loop:"
      ],
      "metadata": {
        "id": "G1zduyiwt2xA"
      }
    },
    {
      "cell_type": "code",
      "source": [
        "s = \"abcdefg\"\n",
        "for char in s[::2]:\n",
        "    print(char,end=\" \")\n"
      ],
      "metadata": {
        "colab": {
          "base_uri": "https://localhost:8080/"
        },
        "id": "3DvduIOqt1Nf",
        "outputId": "d29e5d26-5244-4c45-aa82-cf08a86ee558"
      },
      "execution_count": null,
      "outputs": [
        {
          "output_type": "stream",
          "name": "stdout",
          "text": [
            "a c e g "
          ]
        }
      ]
    },
    {
      "cell_type": "markdown",
      "metadata": {
        "id": "ylQqOORmXFR6"
      },
      "source": [
        "#Operators\n",
        "##Python language supports the following types of operators.\n",
        "\n",
        "###>Arithmetic Operators\n",
        "###Comparison (Relational) Operators\n",
        "###Assignment Operators\n",
        "###Logical Operators\n",
        "###Identity Operators\n",
        "###Membership Operators\n",
        "###Bitwise Operators"
      ]
    },
    {
      "cell_type": "markdown",
      "metadata": {
        "id": "Y0tGdnXyYukc"
      },
      "source": [
        "##Arithmatic Operators\n",
        "(**) -> exponentiation operator\n"
      ]
    },
    {
      "cell_type": "code",
      "execution_count": null,
      "metadata": {
        "colab": {
          "base_uri": "https://localhost:8080/"
        },
        "id": "GCIzNXYkUKgt",
        "outputId": "ea1dabe1-5c6b-4591-9eae-5e4e2a9ba32b"
      },
      "outputs": [
        {
          "output_type": "stream",
          "name": "stdout",
          "text": [
            "1.6666666666666667\n"
          ]
        }
      ],
      "source": [
        "x,y = 5,3\n",
        "x/=y\n",
        "print(x)"
      ]
    },
    {
      "cell_type": "code",
      "execution_count": null,
      "metadata": {
        "colab": {
          "base_uri": "https://localhost:8080/"
        },
        "id": "FflwkeA1ZHb-",
        "outputId": "9d167cc7-b1f0-461a-9892-1f9ad53db445"
      },
      "outputs": [
        {
          "output_type": "execute_result",
          "data": {
            "text/plain": [
              "(4.666666666666667,\n",
              " -1.3333333333333333,\n",
              " 5.0,\n",
              " 0.5555555555555556,\n",
              " 4.629629629629631,\n",
              " 1.3333333333333333,\n",
              " 1.7099759466766968)"
            ]
          },
          "metadata": {},
          "execution_count": 9
        }
      ],
      "source": [
        "x+y, x-y, x*y, x/y, x**y, y%x, 5**(1/3)"
      ]
    },
    {
      "cell_type": "markdown",
      "metadata": {
        "id": "6Tp5MkhJa8wY"
      },
      "source": [
        "#Comarison Operator"
      ]
    },
    {
      "cell_type": "code",
      "execution_count": null,
      "metadata": {
        "colab": {
          "base_uri": "https://localhost:8080/"
        },
        "id": "YBxWZdSGa7gz",
        "outputId": "1176f41b-8e54-4090-8d5e-3db41e54a8f6"
      },
      "outputs": [
        {
          "output_type": "execute_result",
          "data": {
            "text/plain": [
              "(False, True, False, True, False, True)"
            ]
          },
          "metadata": {},
          "execution_count": 10
        }
      ],
      "source": [
        "x>20,x<20,x==10,x!=11,x>=10,y<=20"
      ]
    },
    {
      "cell_type": "markdown",
      "metadata": {
        "id": "DUiqKtAubPGa"
      },
      "source": [
        "#Assignment operators\n",
        "![image.png](data:image/png;base64,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)"
      ]
    },
    {
      "cell_type": "code",
      "execution_count": null,
      "metadata": {
        "colab": {
          "base_uri": "https://localhost:8080/"
        },
        "id": "87xhRn-fbKOE",
        "outputId": "829a9291-fe12-4231-cdf8-61939fd21d67"
      },
      "outputs": [
        {
          "output_type": "stream",
          "name": "stdout",
          "text": [
            "5\n",
            "8\n",
            "6\n",
            "12\n",
            "6.0\n",
            "2.0\n",
            "2.0\n",
            "8.0\n",
            "1\n",
            "7\n",
            "6\n",
            "10\n",
            "2\n"
          ]
        }
      ],
      "source": [
        "x = 5  # x is assigned the value 5\n",
        "print(x)\n",
        "x += 3  # x is now 8 (5 + 3)\n",
        "print(x)\n",
        "x -= 2  # x is now 6 (8 - 2)\n",
        "print(x)\n",
        "x *= 2  # x is now 12 (6 * 2)\n",
        "print(x)\n",
        "x /= 2  # x is now 6.0 (14 / 2)\n",
        "print(x)\n",
        "x //= 3  # x is now 2.0 (7 // 3)\n",
        "print(x)\n",
        "x %= 3  # x is now 2.0 (2 % 3)\n",
        "print(x)\n",
        "x **= 3  # x is now 8.0 (2 ** 3)\n",
        "print(x)\n",
        "x=5\n",
        "x &= 3  # 0011 in binary; x is now 1 (0101 & 0011)\n",
        "print(x)\n",
        "x=5\n",
        "x |= 3  # 0011 in binary; x is now 7 (0101 | 0011)\n",
        "print(x)\n",
        "x = 5  # 0101 in binary\n",
        "x ^= 3  # 0011 in binary; x is now 6 (0101 ^ 0011)\n",
        "print(x)\n",
        "x = 5  # 0101 in binary\n",
        "x <<= 1  # x is now 10 (1010 in binary)\n",
        "print(x)\n",
        "x = 5  # 0101 in binary\n",
        "x >>= 1  # x is now 2 (0010 in binary)\n",
        "print(x)"
      ]
    },
    {
      "cell_type": "markdown",
      "metadata": {
        "id": "8MI-CjiBeqhC"
      },
      "source": [
        "Logical Operator"
      ]
    },
    {
      "cell_type": "code",
      "execution_count": null,
      "metadata": {
        "colab": {
          "base_uri": "https://localhost:8080/"
        },
        "id": "ZJ5w14SGej0i",
        "outputId": "0c64e549-adbb-4790-c6a1-865c2f6b2e72"
      },
      "outputs": [
        {
          "output_type": "stream",
          "name": "stdout",
          "text": [
            "False\n"
          ]
        }
      ],
      "source": [
        "x,y=5,3\n",
        "print(x<5 and x<10)"
      ]
    },
    {
      "cell_type": "code",
      "execution_count": null,
      "metadata": {
        "colab": {
          "base_uri": "https://localhost:8080/"
        },
        "id": "RLcTW7ZJe9pp",
        "outputId": "d83ae341-b941-4d80-ba1e-b46d3136e465"
      },
      "outputs": [
        {
          "output_type": "execute_result",
          "data": {
            "text/plain": [
              "False"
            ]
          },
          "metadata": {},
          "execution_count": 13
        }
      ],
      "source": [
        "x<5 or x<4"
      ]
    },
    {
      "cell_type": "code",
      "execution_count": null,
      "metadata": {
        "colab": {
          "base_uri": "https://localhost:8080/"
        },
        "id": "gEaKRPSwfVK1",
        "outputId": "fb14c5c6-60ec-4db8-fe42-5df055b86207"
      },
      "outputs": [
        {
          "output_type": "execute_result",
          "data": {
            "text/plain": [
              "True"
            ]
          },
          "metadata": {},
          "execution_count": 14
        }
      ],
      "source": [
        "not(x<5 or x<4)"
      ]
    },
    {
      "cell_type": "code",
      "execution_count": null,
      "metadata": {
        "colab": {
          "base_uri": "https://localhost:8080/"
        },
        "id": "6LdpR7g8fZjm",
        "outputId": "8d9d625c-0f13-4c16-dbdc-675f867041da"
      },
      "outputs": [
        {
          "output_type": "execute_result",
          "data": {
            "text/plain": [
              "True"
            ]
          },
          "metadata": {},
          "execution_count": 15
        }
      ],
      "source": [
        "x is not y"
      ]
    },
    {
      "cell_type": "markdown",
      "metadata": {
        "id": "6T8Dndu3fhWI"
      },
      "source": [
        "#Membership Operator"
      ]
    },
    {
      "cell_type": "code",
      "execution_count": null,
      "metadata": {
        "colab": {
          "base_uri": "https://localhost:8080/"
        },
        "id": "VSCMYtN7ff8e",
        "outputId": "7a1d0474-e378-4f1b-8769-d2518537a5d7"
      },
      "outputs": [
        {
          "output_type": "execute_result",
          "data": {
            "text/plain": [
              "True"
            ]
          },
          "metadata": {},
          "execution_count": 16
        }
      ],
      "source": [
        "array = [1,3,5,7,9]\n",
        "1 in array"
      ]
    },
    {
      "cell_type": "code",
      "execution_count": null,
      "metadata": {
        "colab": {
          "base_uri": "https://localhost:8080/"
        },
        "id": "Vks-YJXliQ4f",
        "outputId": "ab6dea91-7e26-4259-b12e-6397c5209744"
      },
      "outputs": [
        {
          "output_type": "execute_result",
          "data": {
            "text/plain": [
              "False"
            ]
          },
          "metadata": {},
          "execution_count": 17
        }
      ],
      "source": [
        "2 in array"
      ]
    },
    {
      "cell_type": "code",
      "execution_count": null,
      "metadata": {
        "colab": {
          "base_uri": "https://localhost:8080/"
        },
        "id": "-jgB0FIdiTOq",
        "outputId": "61a1d036-e8d2-40a5-e757-314cce074a66"
      },
      "outputs": [
        {
          "output_type": "execute_result",
          "data": {
            "text/plain": [
              "True"
            ]
          },
          "metadata": {},
          "execution_count": 18
        }
      ],
      "source": [
        "2 not in array"
      ]
    },
    {
      "cell_type": "markdown",
      "metadata": {
        "id": "FYzPNL8DisAT"
      },
      "source": [
        "#Bitwise Operators"
      ]
    },
    {
      "cell_type": "code",
      "execution_count": null,
      "metadata": {
        "colab": {
          "base_uri": "https://localhost:8080/"
        },
        "id": "WMlABTDCifJ7",
        "outputId": "acba41e0-0ec0-43f9-9acf-81ec37ce15c0"
      },
      "outputs": [
        {
          "output_type": "execute_result",
          "data": {
            "text/plain": [
              "(1, 1, 0)"
            ]
          },
          "metadata": {},
          "execution_count": 19
        }
      ],
      "source": [
        "1&1, 1|1, 1^1"
      ]
    },
    {
      "cell_type": "markdown",
      "metadata": {
        "id": "9gpljTDii71p"
      },
      "source": [
        "#IF Else in Python(Conditional Statements)"
      ]
    },
    {
      "cell_type": "code",
      "execution_count": null,
      "metadata": {
        "colab": {
          "base_uri": "https://localhost:8080/"
        },
        "id": "2ld9k2pZi6pN",
        "outputId": "533db3f6-2ce1-49cd-c4b0-a7166b10f021"
      },
      "outputs": [
        {
          "output_type": "stream",
          "name": "stdout",
          "text": [
            "C is greater than 2\n",
            "b is greater than a\n",
            "CUET\n"
          ]
        }
      ],
      "source": [
        "a = 200\n",
        "b = 333\n",
        "c = 5\n",
        "d = 10\n",
        "if c>2:\n",
        "  print(\"C is greater than 2\")\n",
        "if a > b:\n",
        "  print(\"a is greater than b\")\n",
        "elif a == b:\n",
        "    print(\"a and b are equal\")\n",
        "else:\n",
        "    print(\"b is greater than a\")\n",
        "print(\"CUET\")"
      ]
    },
    {
      "cell_type": "code",
      "execution_count": null,
      "metadata": {
        "colab": {
          "base_uri": "https://localhost:8080/"
        },
        "id": "pLztGIiDjNkC",
        "outputId": "d4ca19d9-8e36-4174-b0f1-a5299ef83155"
      },
      "outputs": [
        {
          "output_type": "stream",
          "name": "stdout",
          "text": [
            "a and b are equal\n"
          ]
        }
      ],
      "source": [
        " a = 2000\n",
        " b = 2000\n",
        " if b > a:\n",
        "   print(\"b is greater than a\")\n",
        " elif a == b:\n",
        "   print(\"a and b are equal\")"
      ]
    },
    {
      "cell_type": "markdown",
      "metadata": {
        "id": "7iKlS0b2kDRC"
      },
      "source": [
        "##one-liner conditional expression, also known as a ternary conditional operator.\n",
        "\n",
        "## if er bamdikhe execute hobe jodi if condition true hobe otherwise dandikhe jabe.\n",
        "## eita diye o nested kora jay"
      ]
    },
    {
      "cell_type": "code",
      "execution_count": null,
      "metadata": {
        "colab": {
          "base_uri": "https://localhost:8080/"
        },
        "id": "XHyx2WdjjL6k",
        "outputId": "a21d3a3e-8c29-449a-cfcf-945a9dd7e9b5"
      },
      "outputs": [
        {
          "output_type": "stream",
          "name": "stdout",
          "text": [
            "a and b are equal\n"
          ]
        }
      ],
      "source": [
        "print(\"a is greater than b\") if a > b else print(\"a and b are equal\") if a == b else print(\"b is greater than a\")"
      ]
    },
    {
      "cell_type": "markdown",
      "metadata": {
        "id": "oDqjnYM7k1Ar"
      },
      "source": [
        "check substring"
      ]
    },
    {
      "cell_type": "code",
      "execution_count": null,
      "metadata": {
        "colab": {
          "base_uri": "https://localhost:8080/",
          "height": 351
        },
        "id": "XQWSeWyMk0Ig",
        "outputId": "f048ad35-7846-43e5-c80c-4ab6bf14861b"
      },
      "outputs": [
        {
          "output_type": "error",
          "ename": "KeyboardInterrupt",
          "evalue": "Interrupted by user",
          "traceback": [
            "\u001b[0;31m---------------------------------------------------------------------------\u001b[0m",
            "\u001b[0;31mKeyboardInterrupt\u001b[0m                         Traceback (most recent call last)",
            "\u001b[0;32m<ipython-input-23-0728163a5141>\u001b[0m in \u001b[0;36m<cell line: 1>\u001b[0;34m()\u001b[0m\n\u001b[0;32m----> 1\u001b[0;31m \u001b[0mname\u001b[0m \u001b[0;34m=\u001b[0m \u001b[0minput\u001b[0m\u001b[0;34m(\u001b[0m\u001b[0;34m)\u001b[0m\u001b[0;34m\u001b[0m\u001b[0;34m\u001b[0m\u001b[0m\n\u001b[0m\u001b[1;32m      2\u001b[0m \u001b[0mname\u001b[0m \u001b[0;32min\u001b[0m \u001b[0;34m\"aieouAIEOU\"\u001b[0m\u001b[0;34m\u001b[0m\u001b[0;34m\u001b[0m\u001b[0m\n",
            "\u001b[0;32m/usr/local/lib/python3.10/dist-packages/ipykernel/kernelbase.py\u001b[0m in \u001b[0;36mraw_input\u001b[0;34m(self, prompt)\u001b[0m\n\u001b[1;32m    849\u001b[0m                 \u001b[0;34m\"raw_input was called, but this frontend does not support input requests.\"\u001b[0m\u001b[0;34m\u001b[0m\u001b[0;34m\u001b[0m\u001b[0m\n\u001b[1;32m    850\u001b[0m             )\n\u001b[0;32m--> 851\u001b[0;31m         return self._input_request(str(prompt),\n\u001b[0m\u001b[1;32m    852\u001b[0m             \u001b[0mself\u001b[0m\u001b[0;34m.\u001b[0m\u001b[0m_parent_ident\u001b[0m\u001b[0;34m,\u001b[0m\u001b[0;34m\u001b[0m\u001b[0;34m\u001b[0m\u001b[0m\n\u001b[1;32m    853\u001b[0m             \u001b[0mself\u001b[0m\u001b[0;34m.\u001b[0m\u001b[0m_parent_header\u001b[0m\u001b[0;34m,\u001b[0m\u001b[0;34m\u001b[0m\u001b[0;34m\u001b[0m\u001b[0m\n",
            "\u001b[0;32m/usr/local/lib/python3.10/dist-packages/ipykernel/kernelbase.py\u001b[0m in \u001b[0;36m_input_request\u001b[0;34m(self, prompt, ident, parent, password)\u001b[0m\n\u001b[1;32m    893\u001b[0m             \u001b[0;32mexcept\u001b[0m \u001b[0mKeyboardInterrupt\u001b[0m\u001b[0;34m:\u001b[0m\u001b[0;34m\u001b[0m\u001b[0;34m\u001b[0m\u001b[0m\n\u001b[1;32m    894\u001b[0m                 \u001b[0;31m# re-raise KeyboardInterrupt, to truncate traceback\u001b[0m\u001b[0;34m\u001b[0m\u001b[0;34m\u001b[0m\u001b[0m\n\u001b[0;32m--> 895\u001b[0;31m                 \u001b[0;32mraise\u001b[0m \u001b[0mKeyboardInterrupt\u001b[0m\u001b[0;34m(\u001b[0m\u001b[0;34m\"Interrupted by user\"\u001b[0m\u001b[0;34m)\u001b[0m \u001b[0;32mfrom\u001b[0m \u001b[0;32mNone\u001b[0m\u001b[0;34m\u001b[0m\u001b[0;34m\u001b[0m\u001b[0m\n\u001b[0m\u001b[1;32m    896\u001b[0m             \u001b[0;32mexcept\u001b[0m \u001b[0mException\u001b[0m \u001b[0;32mas\u001b[0m \u001b[0me\u001b[0m\u001b[0;34m:\u001b[0m\u001b[0;34m\u001b[0m\u001b[0;34m\u001b[0m\u001b[0m\n\u001b[1;32m    897\u001b[0m                 \u001b[0mself\u001b[0m\u001b[0;34m.\u001b[0m\u001b[0mlog\u001b[0m\u001b[0;34m.\u001b[0m\u001b[0mwarning\u001b[0m\u001b[0;34m(\u001b[0m\u001b[0;34m\"Invalid Message:\"\u001b[0m\u001b[0;34m,\u001b[0m \u001b[0mexc_info\u001b[0m\u001b[0;34m=\u001b[0m\u001b[0;32mTrue\u001b[0m\u001b[0;34m)\u001b[0m\u001b[0;34m\u001b[0m\u001b[0;34m\u001b[0m\u001b[0m\n",
            "\u001b[0;31mKeyboardInterrupt\u001b[0m: Interrupted by user"
          ]
        }
      ],
      "source": [
        "name = input()\n",
        "name in \"aieouAIEOU\""
      ]
    },
    {
      "cell_type": "markdown",
      "metadata": {
        "id": "LNIzQEWulP7G"
      },
      "source": [
        "# **#Problems:**:::::"
      ]
    },
    {
      "cell_type": "markdown",
      "metadata": {
        "id": "ey0hKD5Nlmva"
      },
      "source": [
        "## 1.Check if the input number is even or odd.\n",
        "## 2.Check if the input string 1st character is any vowel.\n",
        "## 3.Write a Python program which accepts the radius of a circle from the user and compute the area.\n",
        "## 4.Write a Python program to convert temperatures to and from celsius, fahrenheit.\n",
        "## 5.Take input of age of 3 people by user and determine oldest and youngest among them"
      ]
    },
    {
      "cell_type": "code",
      "source": [
        "# Check if the input number is even or odd\n",
        "\n",
        "# Input number\n",
        "number = int(input(\"Enter a number: \"))\n",
        "\n",
        "# Check if the number is even or odd\n",
        "if number % 2 == 0:\n",
        "    print(f\"{number} is even.\")\n",
        "else:\n",
        "    print(f\"{number} is odd.\")\n"
      ],
      "metadata": {
        "colab": {
          "base_uri": "https://localhost:8080/"
        },
        "id": "nyfTiTfU7sEz",
        "outputId": "f298833b-f87d-434b-af88-76d1d59da544"
      },
      "execution_count": null,
      "outputs": [
        {
          "output_type": "stream",
          "name": "stdout",
          "text": [
            "Enter a number: 5\n",
            "5 is odd.\n"
          ]
        }
      ]
    },
    {
      "cell_type": "code",
      "source": [
        "#Check if the input string's 1st character is any vowel\n",
        "# Input string\n",
        "string = input(\"Enter a string: \")\n",
        "\n",
        "# Check if the first character is a vowel\n",
        "if string[0].lower() in 'aeiou':\n",
        "    print(f\"The first character '{string[0]}' is a vowel.\")\n",
        "else:\n",
        "    print(f\"The first character '{string[0]}' is not a vowel.\")\n"
      ],
      "metadata": {
        "colab": {
          "base_uri": "https://localhost:8080/"
        },
        "id": "RbpKLkE9iaEi",
        "outputId": "23bda3da-8fc2-4f0c-b904-e21c823d0c1d"
      },
      "execution_count": null,
      "outputs": [
        {
          "output_type": "stream",
          "name": "stdout",
          "text": [
            "Enter a string: akash\n",
            "The first character 'a' is a vowel.\n"
          ]
        }
      ]
    },
    {
      "cell_type": "code",
      "source": [
        " #Compute the area of a circle from the radius\n",
        "\n",
        "import math  #*****\n",
        "\n",
        "# Input radius\n",
        "radius = float(input(\"Enter the radius of the circle: \"))\n",
        "\n",
        "# Compute the area\n",
        "area = math.pi * radius ** 2\n",
        "\n",
        "print(f\"The area of the circle with radius {radius} is {area:.2f}.\")\n"
      ],
      "metadata": {
        "colab": {
          "base_uri": "https://localhost:8080/"
        },
        "id": "z7Kw4X9_ldtz",
        "outputId": "b4b8cc5b-9f7b-4c06-9598-91c4039d1682"
      },
      "execution_count": null,
      "outputs": [
        {
          "output_type": "stream",
          "name": "stdout",
          "text": [
            "Enter the radius of the circle: 3\n",
            "The area of the circle with radius 3.0 is 28.27.\n"
          ]
        }
      ]
    },
    {
      "cell_type": "code",
      "source": [
        "#Convert temperatures between Celsius and Fahrenheit\n",
        "\n",
        "# Function to convert Celsius to Fahrenheit\n",
        "def celsius_to_fahrenheit(celsius):\n",
        "    return (celsius * 9/5) + 32\n",
        "\n",
        "# Function to convert Fahrenheit to Celsius\n",
        "def fahrenheit_to_celsius(fahrenheit):\n",
        "    return (fahrenheit - 32) * 5/9\n",
        "\n",
        "# Input temperature and conversion choice\n",
        "choice = input(\"Convert from Celsius to Fahrenheit (C) or Fahrenheit to Celsius (F)? Enter C or F: \").upper()\n",
        "\n",
        "if choice == 'C':\n",
        "    celsius = float(input(\"Enter temperature in Celsius: \"))\n",
        "    print(f\"{celsius}°C is equal to {celsius_to_fahrenheit(celsius):.2f}°F.\")\n",
        "elif choice == 'F':\n",
        "    fahrenheit = float(input(\"Enter temperature in Fahrenheit: \"))\n",
        "    print(f\"{fahrenheit}°F is equal to {fahrenheit_to_celsius(fahrenheit):.2f}°C.\")\n",
        "else:\n",
        "    print(\"Invalid choice. Please enter 'C' or 'F'.\")\n"
      ],
      "metadata": {
        "colab": {
          "base_uri": "https://localhost:8080/"
        },
        "id": "VFe_F7LDl2r3",
        "outputId": "5666c1cd-de9c-49a2-aa89-fa1bba46f048"
      },
      "execution_count": null,
      "outputs": [
        {
          "output_type": "stream",
          "name": "stdout",
          "text": [
            "Convert from Celsius to Fahrenheit (C) or Fahrenheit to Celsius (F)? Enter C or F: c\n",
            "Enter temperature in Celsius: 35\n",
            "35.0°C is equal to 95.00°F.\n"
          ]
        }
      ]
    },
    {
      "cell_type": "markdown",
      "source": [
        "##Determine the oldest and youngest among 3 people"
      ],
      "metadata": {
        "id": "jl9QCN_dmZrg"
      }
    },
    {
      "cell_type": "code",
      "source": [
        "# Input ages of three people in a single line separated by spaces\n",
        "ages = input(\"Enter the ages of three people separated by spaces: \").split()\n",
        "\n",
        "# Convert the input string values to integers\n",
        "age1, age2, age3 = map(int, ages)\n",
        "\n",
        "# Determine the oldest and youngest\n",
        "oldest = max(age1, age2, age3)\n",
        "youngest = min(age1, age2, age3)\n",
        "\n",
        "print(f\"The oldest person is {oldest} years old.\")\n",
        "print(f\"The youngest person is {youngest} years old.\")\n"
      ],
      "metadata": {
        "colab": {
          "base_uri": "https://localhost:8080/"
        },
        "id": "iHOLmwKrmcwm",
        "outputId": "504d37ac-1caa-4bfd-e0e9-2477161c3e0b"
      },
      "execution_count": null,
      "outputs": [
        {
          "output_type": "stream",
          "name": "stdout",
          "text": [
            "Enter the ages of three people separated by spaces: 34 45 23\n",
            "The oldest person is 45 years old.\n",
            "The youngest person is 23 years old.\n"
          ]
        }
      ]
    },
    {
      "cell_type": "markdown",
      "source": [
        "###another way  and popular way"
      ],
      "metadata": {
        "id": "UcmZ0DPSm2qn"
      }
    },
    {
      "cell_type": "code",
      "source": [
        "# Input ages of three people in a single line separated by spaces\n",
        "ages = input(\"Enter the ages of three people separated by spaces: \").split()\n",
        "\n",
        "# Convert each string in the list to an integer manually\n",
        "ages = [int(age) for age in ages]\n",
        "\n",
        "# Determine the oldest and youngest\n",
        "oldest = max(ages)\n",
        "youngest = min(ages)\n",
        "\n",
        "print(f\"The oldest person is {oldest} years old.\")\n",
        "print(f\"The youngest person is {youngest} years old.\")\n"
      ],
      "metadata": {
        "colab": {
          "base_uri": "https://localhost:8080/"
        },
        "id": "Kq8D8sZSm4jH",
        "outputId": "1d86b360-9784-4d48-8df0-1892d1e9ffe4"
      },
      "execution_count": null,
      "outputs": [
        {
          "output_type": "stream",
          "name": "stdout",
          "text": [
            "Enter the ages of three people separated by spaces: 34 13 11\n",
            "The oldest person is 34 years old.\n",
            "The youngest person is 11 years old.\n"
          ]
        }
      ]
    },
    {
      "cell_type": "markdown",
      "source": [
        "##A school has following rules for grading system:\n",
        "Below 25 - F\n",
        ",25 to 45 - E\n",
        ",45 to 50 - D\n",
        ",50 to 60 - C\n",
        ",60 to 80 - B\n",
        ",Above 80 - A.\n",
        "##Now, ask user to enter marks and print the corresponding grade."
      ],
      "metadata": {
        "id": "02Q4HEkTnXII"
      }
    },
    {
      "cell_type": "code",
      "source": [
        "# Input marks from the user\n",
        "marks = int(input(\"Enter your marks: \"))\n",
        "\n",
        "# Determine the grade based on the grading system\n",
        "if marks < 25:\n",
        "    grade = \"F\"\n",
        "elif 25 <= marks < 45:\n",
        "    grade = \"E\"\n",
        "elif 45 <= marks < 50:\n",
        "    grade = \"D\"\n",
        "elif 50 <= marks < 60:\n",
        "    grade = \"C\"\n",
        "elif 60 <= marks < 80:\n",
        "    grade = \"B\"\n",
        "else:  # marks >= 80\n",
        "    grade = \"A\"\n",
        "\n",
        "# Print the corresponding grade\n",
        "print(f\"Your grade is: {grade}\")\n"
      ],
      "metadata": {
        "colab": {
          "base_uri": "https://localhost:8080/"
        },
        "id": "kOiQyLaHnd4W",
        "outputId": "b4c83ecf-e3b3-4d9a-a720-1350f65f37c1"
      },
      "execution_count": null,
      "outputs": [
        {
          "output_type": "stream",
          "name": "stdout",
          "text": [
            "Enter your marks: 96\n",
            "Your grade is: A\n"
          ]
        }
      ]
    },
    {
      "cell_type": "markdown",
      "source": [
        "Write a program to trace your subject mark. Your program should fulfill the following conditions:\n",
        "If the subject mark is below 0 and above 100, print “error: mark should be between 0 and 100 only”\n",
        "Students will fail in the subject if their mark is below 50.\n",
        "Students will pass in the subject if they score 50 and above.\n",
        "If subject mark is between 50 and 60, grade student as good.\n",
        "If subject mark is between 60 and 80, grade student as very good.\n",
        "If subject mark is between 80 and 100, grade student as outstanding."
      ],
      "metadata": {
        "id": "_5_8Z_xtnnq2"
      }
    },
    {
      "cell_type": "code",
      "source": [
        "# Input subject mark from the user\n",
        "mark = int(input(\"Enter the subject mark: \"))\n",
        "\n",
        "# Check if the mark is valid\n",
        "if mark < 0 or mark > 100:\n",
        "    print(\"Error: mark should be between 0 and 100 only\")\n",
        "else:\n",
        "    # Determine pass or fail\n",
        "    if mark < 50:\n",
        "        print(\"Student has failed in the subject.\")\n",
        "    else:\n",
        "        print(\"Student has passed in the subject.\")\n",
        "\n",
        "        # Grade the student based on the mark range\n",
        "        if 50 <= mark < 60:\n",
        "            grade = \"Good\"\n",
        "        elif 60 <= mark < 80:\n",
        "            grade = \"Very Good\"\n",
        "        elif 80 <= mark <= 100:\n",
        "            grade = \"Outstanding\"\n",
        "\n",
        "        print(f\"Grade: {grade}\")\n"
      ],
      "metadata": {
        "colab": {
          "base_uri": "https://localhost:8080/"
        },
        "id": "Q7xw95zAns_v",
        "outputId": "b02f7da9-fe87-4d85-963f-db91148c8c0b"
      },
      "execution_count": null,
      "outputs": [
        {
          "output_type": "stream",
          "name": "stdout",
          "text": [
            "Enter the subject mark: 40\n",
            "Student has failed in the subject.\n"
          ]
        }
      ]
    },
    {
      "cell_type": "markdown",
      "source": [
        "#Loop"
      ],
      "metadata": {
        "id": "d74kGZmUn3x-"
      }
    },
    {
      "cell_type": "code",
      "source": [
        "# While loop\n",
        "x, sum = 5, 0\n",
        "\n",
        "while x>0:\n",
        "    sum+=x\n",
        "    x-=1\n",
        "print(sum)"
      ],
      "metadata": {
        "colab": {
          "base_uri": "https://localhost:8080/"
        },
        "id": "T9pYF4hwn_oW",
        "outputId": "fe62e7c0-a926-44fd-a017-1f4edbb79e53"
      },
      "execution_count": null,
      "outputs": [
        {
          "output_type": "stream",
          "name": "stdout",
          "text": [
            "15\n"
          ]
        }
      ]
    },
    {
      "cell_type": "markdown",
      "source": [
        "#For loop"
      ],
      "metadata": {
        "id": "XRr61kg7oOQW"
      }
    },
    {
      "cell_type": "code",
      "source": [
        "fruits = [\"apple\", \"banana\", \"cherry\"]\n",
        "for fruit in fruits:\n",
        "    print(fruit)\n"
      ],
      "metadata": {
        "colab": {
          "base_uri": "https://localhost:8080/"
        },
        "id": "eTTrSfB7oQOv",
        "outputId": "28f84c2d-7287-4659-814f-21be0a8f0305"
      },
      "execution_count": null,
      "outputs": [
        {
          "output_type": "stream",
          "name": "stdout",
          "text": [
            "apple\n",
            "banana\n",
            "cherry\n"
          ]
        }
      ]
    },
    {
      "cell_type": "code",
      "source": [
        "list1 = [[1,[2,4],5,7,9], [2,4,6,8,10]]\n",
        "\n",
        "for l1 in list1:\n",
        "  print(l1)\n",
        "  print('\\n')\n",
        "  for l2 in l1:\n",
        "    print(l2)\n"
      ],
      "metadata": {
        "colab": {
          "base_uri": "https://localhost:8080/"
        },
        "id": "s8EfaL0toWj2",
        "outputId": "423198c9-c132-43de-8a16-d1919ccdd413"
      },
      "execution_count": null,
      "outputs": [
        {
          "output_type": "stream",
          "name": "stdout",
          "text": [
            "[1, [2, 4], 5, 7, 9]\n",
            "\n",
            "\n",
            "1\n",
            "[2, 4]\n",
            "5\n",
            "7\n",
            "9\n",
            "[2, 4, 6, 8, 10]\n",
            "\n",
            "\n",
            "2\n",
            "4\n",
            "6\n",
            "8\n",
            "10\n"
          ]
        }
      ]
    },
    {
      "cell_type": "markdown",
      "source": [
        "##. Using range():"
      ],
      "metadata": {
        "id": "vcj_m5e2oim2"
      }
    },
    {
      "cell_type": "code",
      "source": [
        "for i in range(5):  # Iterates from 0 to 4\n",
        "    print(i)\n"
      ],
      "metadata": {
        "colab": {
          "base_uri": "https://localhost:8080/"
        },
        "id": "wvjfj0ceok3m",
        "outputId": "0238a6c8-7b88-4c42-8665-8e905bdbce84"
      },
      "execution_count": null,
      "outputs": [
        {
          "output_type": "stream",
          "name": "stdout",
          "text": [
            "0\n",
            "1\n",
            "2\n",
            "3\n",
            "4\n"
          ]
        }
      ]
    },
    {
      "cell_type": "markdown",
      "source": [
        "##Custom Range with Start, Stop, and Step:\n",
        "###start (optional): The starting value of the sequence (inclusive). Default is 0.\n",
        "###stop: The end value of the sequence (exclusive).\n",
        "###step (optional): The difference between each number in the sequence. Default is 1."
      ],
      "metadata": {
        "id": "RgCXubgKoqUG"
      }
    },
    {
      "cell_type": "code",
      "source": [
        "for i in range(1, 10, 2):  # Starts at 1, stops before 10, steps by 2\n",
        "    print(i)\n"
      ],
      "metadata": {
        "colab": {
          "base_uri": "https://localhost:8080/"
        },
        "id": "5JhQCFJGo6IO",
        "outputId": "ed911a0b-f37c-4567-df28-1533a627d9c9"
      },
      "execution_count": null,
      "outputs": [
        {
          "output_type": "stream",
          "name": "stdout",
          "text": [
            "1\n",
            "3\n",
            "5\n",
            "7\n",
            "9\n"
          ]
        }
      ]
    },
    {
      "cell_type": "markdown",
      "source": [
        "#Skipping Indices in a Loop:"
      ],
      "metadata": {
        "id": "3jDg9ib3qoHP"
      }
    },
    {
      "cell_type": "code",
      "source": [
        "for i in range(0, 10, 3):  # Skips indices by 3\n",
        "    print(i)\n"
      ],
      "metadata": {
        "colab": {
          "base_uri": "https://localhost:8080/"
        },
        "id": "_tOVWS2IqmJO",
        "outputId": "e5e8bbfa-4bbf-476f-ce20-cbcb7e871f16"
      },
      "execution_count": null,
      "outputs": [
        {
          "output_type": "stream",
          "name": "stdout",
          "text": [
            "0\n",
            "3\n",
            "6\n",
            "9\n"
          ]
        }
      ]
    },
    {
      "cell_type": "code",
      "source": [
        "#range(start, stop)\n",
        "for i in range(3, 8):  # Generates numbers: 3, 4, 5, 6, 7\n",
        "    print(i)\n"
      ],
      "metadata": {
        "colab": {
          "base_uri": "https://localhost:8080/"
        },
        "id": "_kNIfSmEpTZ_",
        "outputId": "90411221-a2b1-40be-cc00-3fa7d55e9164"
      },
      "execution_count": null,
      "outputs": [
        {
          "output_type": "stream",
          "name": "stdout",
          "text": [
            "3\n",
            "4\n",
            "5\n",
            "6\n",
            "7\n"
          ]
        }
      ]
    },
    {
      "cell_type": "code",
      "source": [
        "#range(start, stop, step)\n",
        "for i in range(1, 10, 2):  # Generates numbers: 1, 3, 5, 7, 9\n",
        "    print(i)\n"
      ],
      "metadata": {
        "colab": {
          "base_uri": "https://localhost:8080/"
        },
        "id": "S05VWBjrpbFu",
        "outputId": "a16e75bd-114f-44b7-f8e1-4d0384a6da8f"
      },
      "execution_count": null,
      "outputs": [
        {
          "output_type": "stream",
          "name": "stdout",
          "text": [
            "1\n",
            "3\n",
            "5\n",
            "7\n",
            "9\n"
          ]
        }
      ]
    },
    {
      "cell_type": "markdown",
      "source": [
        "##Negative Step:"
      ],
      "metadata": {
        "id": "PMA_6Rh1pgym"
      }
    },
    {
      "cell_type": "code",
      "source": [
        "for i in range(10, 0, -2):  # Generates numbers: 10, 8, 6, 4, 2\n",
        "    print(i)\n"
      ],
      "metadata": {
        "colab": {
          "base_uri": "https://localhost:8080/"
        },
        "id": "XbeWTPESpkt3",
        "outputId": "cecd1b4b-8148-4aaf-e19f-39378f453259"
      },
      "execution_count": null,
      "outputs": [
        {
          "output_type": "stream",
          "name": "stdout",
          "text": [
            "10\n",
            "8\n",
            "6\n",
            "4\n",
            "2\n"
          ]
        }
      ]
    },
    {
      "cell_type": "markdown",
      "source": [
        " ## Empty Range:\n",
        " ### If start is greater than stop and the step is positive, or if start is less than stop and the step is negative, range produces no numbers."
      ],
      "metadata": {
        "id": "KA8WTn88ppNg"
      }
    },
    {
      "cell_type": "code",
      "source": [
        "for i in range(5, 3):  # No output because the range is empty\n",
        "    print(i)\n"
      ],
      "metadata": {
        "id": "5NwdWKmnp3JX"
      },
      "execution_count": null,
      "outputs": []
    },
    {
      "cell_type": "markdown",
      "source": [
        "# Iterating Backward Over a List:"
      ],
      "metadata": {
        "id": "-sIdbjwCqB4o"
      }
    },
    {
      "cell_type": "code",
      "source": [
        "fruits = [\"apple\", \"banana\", \"cherry\"]\n",
        "for i in range(len(fruits) - 1, -1, -1):  # Backward iteration\n",
        "    print(fruits[i])\n"
      ],
      "metadata": {
        "colab": {
          "base_uri": "https://localhost:8080/"
        },
        "id": "qTVL0iYeqD02",
        "outputId": "26f9e951-a972-4fbd-d664-1319f3cb0396"
      },
      "execution_count": null,
      "outputs": [
        {
          "output_type": "stream",
          "name": "stdout",
          "text": [
            "cherry\n",
            "banana\n",
            "apple\n"
          ]
        }
      ]
    },
    {
      "cell_type": "markdown",
      "source": [
        "##Nested Ranges:"
      ],
      "metadata": {
        "id": "PSzPJPu9qaxW"
      }
    },
    {
      "cell_type": "code",
      "source": [
        "for i in range(1, 4):\n",
        "    for j in range(1, 4):\n",
        "        print(f\"i={i}, j={j}\")\n"
      ],
      "metadata": {
        "colab": {
          "base_uri": "https://localhost:8080/"
        },
        "id": "OYEAQbm8qbbm",
        "outputId": "ae39b528-b73f-4366-edef-e91248e3e004"
      },
      "execution_count": null,
      "outputs": [
        {
          "output_type": "stream",
          "name": "stdout",
          "text": [
            "i=1, j=1\n",
            "i=1, j=2\n",
            "i=1, j=3\n",
            "i=2, j=1\n",
            "i=2, j=2\n",
            "i=2, j=3\n",
            "i=3, j=1\n",
            "i=3, j=2\n",
            "i=3, j=3\n"
          ]
        }
      ]
    },
    {
      "cell_type": "markdown",
      "source": [
        "#Break statement"
      ],
      "metadata": {
        "id": "1f47Z3Jaq4ZG"
      }
    },
    {
      "cell_type": "code",
      "source": [
        "for letter in 'Python':\n",
        "   if letter == 'h':\n",
        "      continue\n",
        "   print('Current Letter :', letter)\n",
        "\n",
        "var = 10\n",
        "while var > 0:\n",
        "   print('Current variable value :', var)\n",
        "   var = var -1\n",
        "   if var == 5:\n",
        "      break"
      ],
      "metadata": {
        "colab": {
          "base_uri": "https://localhost:8080/"
        },
        "id": "LOWLUXKdq9he",
        "outputId": "30ecd2e0-c555-498a-b4ca-6620d0c49ab3"
      },
      "execution_count": null,
      "outputs": [
        {
          "output_type": "stream",
          "name": "stdout",
          "text": [
            "Current Letter : P\n",
            "Current Letter : y\n",
            "Current Letter : t\n",
            "Current Letter : o\n",
            "Current Letter : n\n",
            "Current variable value : 10\n",
            "Current variable value : 9\n",
            "Current variable value : 8\n",
            "Current variable value : 7\n",
            "Current variable value : 6\n"
          ]
        }
      ]
    },
    {
      "cell_type": "markdown",
      "source": [
        "#Continue statement"
      ],
      "metadata": {
        "id": "W5Up7kQ9r9we"
      }
    },
    {
      "cell_type": "code",
      "source": [
        "for letter in 'Python':\n",
        "  if letter == 'h':\n",
        "    continue        #skip the remaining code inside a loop\n",
        "  print('Current Letter :', letter)\n",
        "  print('CUET')\n",
        "\n",
        "var = 10\n",
        "while var > 0:\n",
        "   var = var -1\n",
        "   if var==5:\n",
        "     continue\n",
        "   print('Current variable value :', var)\n"
      ],
      "metadata": {
        "colab": {
          "base_uri": "https://localhost:8080/"
        },
        "id": "L05_6YMQsDOO",
        "outputId": "d1f35362-b104-4589-bc41-cac4e8c4d3d0"
      },
      "execution_count": null,
      "outputs": [
        {
          "output_type": "stream",
          "name": "stdout",
          "text": [
            "Current Letter : P\n",
            "CUET\n",
            "Current Letter : y\n",
            "CUET\n",
            "Current Letter : t\n",
            "CUET\n",
            "Current Letter : o\n",
            "CUET\n",
            "Current Letter : n\n",
            "CUET\n",
            "Current variable value : 9\n",
            "Current variable value : 8\n",
            "Current variable value : 7\n",
            "Current variable value : 6\n",
            "Current variable value : 4\n",
            "Current variable value : 3\n",
            "Current variable value : 2\n",
            "Current variable value : 1\n",
            "Current variable value : 0\n"
          ]
        }
      ]
    },
    {
      "cell_type": "code",
      "source": [
        "for j in range(2, 2):\n",
        "  print(j)\n",
        "print(\"alive again\")"
      ],
      "metadata": {
        "colab": {
          "base_uri": "https://localhost:8080/"
        },
        "id": "1kej1bbLsLOe",
        "outputId": "9e239fd8-eaff-45f6-fc36-b87f3f09d9ac"
      },
      "execution_count": null,
      "outputs": [
        {
          "output_type": "stream",
          "name": "stdout",
          "text": [
            "alive again\n"
          ]
        }
      ]
    },
    {
      "cell_type": "markdown",
      "source": [
        "### prime number"
      ],
      "metadata": {
        "id": "EiscwK7xsVi3"
      }
    },
    {
      "cell_type": "code",
      "source": [
        "for i in range(2,30):\n",
        "    flag=0\n",
        "    for j in range(2, i):\n",
        "      if (i%j==0):\n",
        "        print(i, \"Not Prime\")\n",
        "        flag=1\n",
        "        break\n",
        "    if(flag==0):\n",
        "      print(i, \"Prime\")"
      ],
      "metadata": {
        "colab": {
          "base_uri": "https://localhost:8080/"
        },
        "id": "J3wIGE5wsYLv",
        "outputId": "f47fb077-e9f5-4b62-e229-f792c5c6a62b"
      },
      "execution_count": null,
      "outputs": [
        {
          "output_type": "stream",
          "name": "stdout",
          "text": [
            "2 Prime\n",
            "3 Prime\n",
            "4 Not Prime\n",
            "5 Prime\n",
            "6 Not Prime\n",
            "7 Prime\n",
            "8 Not Prime\n",
            "9 Not Prime\n",
            "10 Not Prime\n",
            "11 Prime\n",
            "12 Not Prime\n",
            "13 Prime\n",
            "14 Not Prime\n",
            "15 Not Prime\n",
            "16 Not Prime\n",
            "17 Prime\n",
            "18 Not Prime\n",
            "19 Prime\n",
            "20 Not Prime\n",
            "21 Not Prime\n",
            "22 Not Prime\n",
            "23 Prime\n",
            "24 Not Prime\n",
            "25 Not Prime\n",
            "26 Not Prime\n",
            "27 Not Prime\n",
            "28 Not Prime\n",
            "29 Prime\n"
          ]
        }
      ]
    },
    {
      "cell_type": "markdown",
      "source": [
        "# Pass statement"
      ],
      "metadata": {
        "id": "laM24jXzshA2"
      }
    },
    {
      "cell_type": "code",
      "source": [
        "for i in range(10):\n",
        "  if i%2==0:\n",
        "    continue          #present in the program, but don't execute command or code\n",
        "  else:\n",
        "    print(i)\n",
        "  print('CUET')"
      ],
      "metadata": {
        "colab": {
          "base_uri": "https://localhost:8080/"
        },
        "id": "-Xg3KYvFsm8P",
        "outputId": "38e71170-a783-41ee-e81f-0b0ae8c70ffe"
      },
      "execution_count": null,
      "outputs": [
        {
          "output_type": "stream",
          "name": "stdout",
          "text": [
            "1\n",
            "CUET\n",
            "3\n",
            "CUET\n",
            "5\n",
            "CUET\n",
            "7\n",
            "CUET\n",
            "9\n",
            "CUET\n"
          ]
        }
      ]
    },
    {
      "cell_type": "markdown",
      "source": [
        "##Probelms:\n",
        "1. Using a nested for loop generate the following pattern:\n",
        "\n",
        "```\n",
        "*\n",
        "* *\n",
        "* * *\n",
        "* * * *\n",
        "* * * * *\n",
        "* * * *\n",
        "* * *\n",
        "* *\n",
        "*\n",
        "```\n"
      ],
      "metadata": {
        "id": "m1NGlfXQuTtO"
      }
    },
    {
      "cell_type": "code",
      "source": [
        "# Upper half of the pattern\n",
        "for i in range(1, 6):  # 1 to 5\n",
        "    for j in range(i):\n",
        "        print(\"*\", end=\" \")\n",
        "    print()  # Move to the next line after each row\n",
        "\n",
        "# Lower half of the pattern\n",
        "for i in range(4, 0, -1):  # 4 to 1\n",
        "    for j in range(i):\n",
        "        print(\"*\", end=\" \")\n",
        "    print()  # Move to the next line after each row\n"
      ],
      "metadata": {
        "colab": {
          "base_uri": "https://localhost:8080/"
        },
        "id": "2g27CM0HuW1W",
        "outputId": "2ed9a814-3b66-47be-b8bc-9bd763261f24"
      },
      "execution_count": null,
      "outputs": [
        {
          "output_type": "stream",
          "name": "stdout",
          "text": [
            "* \n",
            "* * \n",
            "* * * \n",
            "* * * * \n",
            "* * * * * \n",
            "* * * * \n",
            "* * * \n",
            "* * \n",
            "* \n"
          ]
        }
      ]
    },
    {
      "cell_type": "markdown",
      "source": [
        "# 2. Write a Python program to get the Fibonacci series between 0 to 50.\n"
      ],
      "metadata": {
        "id": "rYFIrpdUus42"
      }
    },
    {
      "cell_type": "code",
      "source": [
        "# Initialize the first two numbers of the Fibonacci series\n",
        "a, b = 0, 1\n",
        "\n",
        "# Print the Fibonacci series within the range 0 to 50\n",
        "print(\"Fibonacci series between 0 and 50:\")\n",
        "while a <= 50:\n",
        "    print(a, end=\" \")\n",
        "    a, b = b, a + b\n"
      ],
      "metadata": {
        "colab": {
          "base_uri": "https://localhost:8080/"
        },
        "id": "Z7rNzuzluwQ-",
        "outputId": "a3567cdf-2a8b-4638-fe0d-242011b57f19"
      },
      "execution_count": null,
      "outputs": [
        {
          "output_type": "stream",
          "name": "stdout",
          "text": [
            "Fibonacci series between 0 and 50:\n",
            "0 1 1 2 3 5 8 13 21 34 "
          ]
        }
      ]
    },
    {
      "cell_type": "markdown",
      "source": [
        "#3. Write a Python program to check whether each alphabet of the input string is a vowel or consonant."
      ],
      "metadata": {
        "id": "d4O9rjsavG9-"
      }
    },
    {
      "cell_type": "code",
      "source": [
        "# Get input string from the user\n",
        "input_string = input(\"Enter a string: \")\n",
        "\n",
        "# Define vowels\n",
        "vowels = \"aeiou\"\n",
        "\n",
        "# Iterate through each character in the string\n",
        "for char in input_string:\n",
        "    if char.isalpha():  # Check if the character is an alphabet\n",
        "        if char.lower() in vowels:\n",
        "            print(f\"'{char}' is a vowel.\")\n",
        "        else:\n",
        "            print(f\"'{char}' is a consonant.\")\n",
        "    else:\n",
        "        print(f\"'{char}' is not an alphabet.\")\n"
      ],
      "metadata": {
        "colab": {
          "base_uri": "https://localhost:8080/"
        },
        "id": "Xm2g8-w7vIdu",
        "outputId": "4474f8ff-109c-4ad1-85be-c01d7eb3f155"
      },
      "execution_count": null,
      "outputs": [
        {
          "output_type": "stream",
          "name": "stdout",
          "text": [
            "Enter a string: A\n",
            "'A' is a vowel.\n"
          ]
        }
      ]
    },
    {
      "cell_type": "markdown",
      "source": [
        "# 4. Write a Python program to create the multiplication table (from 1 to 10) of a number. Go to the editor"
      ],
      "metadata": {
        "id": "OpikYg53v6gx"
      }
    },
    {
      "cell_type": "code",
      "source": [
        "# Get the number from the user\n",
        "num = int(input(\"Enter a number to generate its multiplication table: \"))\n",
        "\n",
        "print(f\"\\nMultiplication table of {num}:\")\n",
        "# Loop to create the multiplication table from 1 to 10\n",
        "for i in range(1, 11):\n",
        "    print(f\"{num} x {i} = {num * i}\")\n"
      ],
      "metadata": {
        "colab": {
          "base_uri": "https://localhost:8080/"
        },
        "id": "vZ5mhRntwR1H",
        "outputId": "cf8f6dc9-40c9-4505-82f7-03278f9e0ca2"
      },
      "execution_count": null,
      "outputs": [
        {
          "output_type": "stream",
          "name": "stdout",
          "text": [
            "Enter a number to generate its multiplication table: 7\n",
            "\n",
            "Multiplication table of 7:\n",
            "7 x 1 = 7\n",
            "7 x 2 = 14\n",
            "7 x 3 = 21\n",
            "7 x 4 = 28\n",
            "7 x 5 = 35\n",
            "7 x 6 = 42\n",
            "7 x 7 = 49\n",
            "7 x 8 = 56\n",
            "7 x 9 = 63\n",
            "7 x 10 = 70\n"
          ]
        }
      ]
    },
    {
      "cell_type": "markdown",
      "source": [
        "# 5. Write a Python program to construct the following pattern, using a nested loop number.\n",
        "\n",
        "```\n",
        "\n",
        "input(1 to 9) = 9\n",
        "Expected Output:\n",
        "\n",
        "1\n",
        "22\n",
        "333\n",
        "4444\n",
        "55555\n",
        "666666\n",
        "7777777\n",
        "88888888\n",
        "999999999\n",
        "88888888\n",
        "7777777\n",
        "666666\n",
        "55555\n",
        "4444\n",
        "333\n",
        "22\n",
        "1\n",
        "```"
      ],
      "metadata": {
        "id": "cTRVftdLwoFu"
      }
    },
    {
      "cell_type": "code",
      "source": [
        "x =int(input(\"Enter a number from 1 to 9: \"))\n",
        "for i in range(1,x+1):\n",
        "  for j in range(i):\n",
        "    print(i,end=\" \")\n",
        "  print()\n",
        "\n",
        "for i in range(x-1,0,-1):\n",
        "  for j in range(i):\n",
        "    print(i,end=\" \")\n",
        "  print()"
      ],
      "metadata": {
        "colab": {
          "base_uri": "https://localhost:8080/"
        },
        "id": "40brm7smwvbH",
        "outputId": "b5758ab4-be5b-4e15-b4a3-495d616f294b"
      },
      "execution_count": null,
      "outputs": [
        {
          "output_type": "stream",
          "name": "stdout",
          "text": [
            "Enter a number from 1 to 9: 9\n",
            "1 \n",
            "2 2 \n",
            "3 3 3 \n",
            "4 4 4 4 \n",
            "5 5 5 5 5 \n",
            "6 6 6 6 6 6 \n",
            "7 7 7 7 7 7 7 \n",
            "8 8 8 8 8 8 8 8 \n",
            "9 9 9 9 9 9 9 9 9 \n",
            "8 8 8 8 8 8 8 8 \n",
            "7 7 7 7 7 7 7 \n",
            "6 6 6 6 6 6 \n",
            "5 5 5 5 5 \n",
            "4 4 4 4 \n",
            "3 3 3 \n",
            "2 2 \n",
            "1 \n"
          ]
        }
      ]
    },
    {
      "cell_type": "markdown",
      "source": [
        "#6. Display numbers from -10 to -1 using for loop"
      ],
      "metadata": {
        "id": "idqeeQmVxtWg"
      }
    },
    {
      "cell_type": "code",
      "source": [
        "for i in range(-10,0,1):\n",
        "  print(i,end=\" \")"
      ],
      "metadata": {
        "colab": {
          "base_uri": "https://localhost:8080/"
        },
        "id": "VMYmvyJKxvHQ",
        "outputId": "45361ad6-ccfa-4259-c7a6-5e349497cd5d"
      },
      "execution_count": null,
      "outputs": [
        {
          "output_type": "stream",
          "name": "stdout",
          "text": [
            "-10 -9 -8 -7 -6 -5 -4 -3 -2 -1 "
          ]
        }
      ]
    },
    {
      "cell_type": "markdown",
      "source": [
        "# 7. Reverse a given integer number and find square root.\n"
      ],
      "metadata": {
        "id": "FjFs_AiSyBkd"
      }
    },
    {
      "cell_type": "code",
      "source": [
        "import math\n",
        "s = int(input(\"Enter a number: \"))\n",
        "reverse_number = int(str(abs(s))[::-1])\n",
        "\n",
        "ans = math.sqrt(reverse_number)\n",
        "print(f\"Original number: {s}\")\n",
        "print(f\"Reverse number :{reverse_number}\")\n",
        "print(f\"Solution : {ans}\")\n"
      ],
      "metadata": {
        "colab": {
          "base_uri": "https://localhost:8080/"
        },
        "id": "U4SOTtI1yFJe",
        "outputId": "307084f0-e9a8-4f31-8d79-eb4bb7cd2aee"
      },
      "execution_count": null,
      "outputs": [
        {
          "output_type": "stream",
          "name": "stdout",
          "text": [
            "Enter a number: 94\n",
            "Original number: 94\n",
            "Reverse number :49\n",
            "Solution : 7.0\n"
          ]
        }
      ]
    },
    {
      "cell_type": "markdown",
      "source": [
        "#Python Function\n"
      ],
      "metadata": {
        "id": "0eSa6ju91Ur4"
      }
    },
    {
      "cell_type": "markdown",
      "source": [
        "# Built in function:\n",
        "##Mathematical: abs(), max(), min(), pow(), round(), sum()\n",
        "##Type Conversion: int(), float(), str(), bool(), list(), tuple()\n",
        "##String Functions: len(), str.upper(), str.lower(), str.split()\n",
        "##Input/Output: print(), input()\n",
        "##Other: range(), sorted(), zip(), map()\n"
      ],
      "metadata": {
        "id": "ifbuK-oK1kDo"
      }
    },
    {
      "cell_type": "markdown",
      "source": [
        "##Mathmatical function :"
      ],
      "metadata": {
        "id": "nhQJlOMz2sCn"
      }
    },
    {
      "cell_type": "code",
      "source": [
        "\n",
        "\n",
        "#abs() - Returns the absolute value of a number.\n",
        "print(abs(-7))  # Output: 7\n",
        "\n",
        "#max() - Returns the largest item from an iterable or the largest of two or more arguments.\n",
        "print(max(1, 2, 3, 4))  # Output: 4\n",
        "print(max([1, 2, 3]))   # Output: 3\n",
        "\n",
        "#min() - Returns the smallest item from an iterable or the smallest of two or more arguments.\n",
        "print(min(1, 2, 3, 4))  # Output: 1\n",
        "print(min([1, 2, 3]))   # Output: 1\n",
        "\n",
        "#pow() - Returns the value of x raised to the power of y (x^y).\n",
        "print(pow(2, 3))  # Output: 8 (2 raised to the power 3)\n",
        "\n",
        "#round() - Rounds a floating-point number to a specified number of decimal places.\n",
        "print(round(3.14159, 2))  # Output: 3.14\n"
      ],
      "metadata": {
        "colab": {
          "base_uri": "https://localhost:8080/"
        },
        "id": "vDh3S2qx1yg5",
        "outputId": "4deb0d1c-1ba7-4121-bb83-4302b25d2b2e"
      },
      "execution_count": null,
      "outputs": [
        {
          "output_type": "stream",
          "name": "stdout",
          "text": [
            "7\n",
            "4\n",
            "3\n",
            "1\n",
            "1\n",
            "8\n",
            "3.14\n"
          ]
        }
      ]
    },
    {
      "cell_type": "markdown",
      "source": [
        "##Type Conversion Functions:"
      ],
      "metadata": {
        "id": "lpmy8S2M2ox-"
      }
    },
    {
      "cell_type": "code",
      "source": [
        "#int() - Converts a value to an integer.\n",
        "print(int(\"123\"))  # Output: 123\n",
        "print(int(3.14))   # Output: 3\n",
        "\n",
        "#float() - Converts a value to a floating-point number.\n",
        "print(float(\"3.14\"))  # Output: 3.14\n",
        "print(float(7))      # Output: 7.0\n",
        "\n",
        "#str() - Converts a value to a string.\n",
        "print(str(100))  # Output: '100'\n",
        "print(str(3.14)) # Output: '3.14'\n",
        "\n",
        "#bool() - Converts a value to a boolean (True or False).\n",
        "print(bool(0))     # Output: False\n",
        "print(bool(\"Hello\"))  # Output: True\n",
        "\n",
        "#list() - Converts a value to a list.\n",
        "print(list(\"hello\"))  # Output: ['h', 'e', 'l', 'l', 'o']\n",
        "\n",
        "#tuple() - Converts a value to a tuple.\n",
        "print(tuple([1, 2, 3]))  # Output: (1, 2, 3)\n"
      ],
      "metadata": {
        "colab": {
          "base_uri": "https://localhost:8080/"
        },
        "id": "wD8Bim4E2mqP",
        "outputId": "3f9540d5-a79c-4603-8c44-ba01e9672eb9"
      },
      "execution_count": null,
      "outputs": [
        {
          "output_type": "stream",
          "name": "stdout",
          "text": [
            "123\n",
            "3\n",
            "3.14\n",
            "7.0\n",
            "100\n",
            "3.14\n",
            "False\n",
            "True\n",
            "['h', 'e', 'l', 'l', 'o']\n",
            "(1, 2, 3)\n"
          ]
        }
      ]
    },
    {
      "cell_type": "markdown",
      "source": [
        "##String Functions:"
      ],
      "metadata": {
        "id": "pA-5TWCD3e8e"
      }
    },
    {
      "cell_type": "code",
      "source": [
        "#len() - Returns the length of an object (string, list, etc.).\n",
        "print(len(\"Python\"))  # Output: 6\n",
        "print(len([1, 2, 3]))  # Output: 3\n",
        "\n",
        "#str.upper() - Converts all characters in a string to uppercase.\n",
        "print(\"hello\".upper())  # Output: 'HELLO'\n",
        "\n",
        "#str.lower() - Converts all characters in a string to lowercase.\n",
        "print(\"HELLO\".lower())  # Output: 'hello'\n",
        "\n",
        "#str.split() - Splits a string into a list where each word is a list item.\n",
        "print(\"Python is awesome\".split())  # Output: ['Python', 'is', 'awesome']\n"
      ],
      "metadata": {
        "colab": {
          "base_uri": "https://localhost:8080/"
        },
        "id": "VRySM5c13iOw",
        "outputId": "a5d07494-3ded-465f-9856-0557c9a1ad4f"
      },
      "execution_count": null,
      "outputs": [
        {
          "output_type": "stream",
          "name": "stdout",
          "text": [
            "6\n",
            "3\n",
            "HELLO\n",
            "hello\n",
            "['Python', 'is', 'awesome']\n"
          ]
        }
      ]
    },
    {
      "cell_type": "markdown",
      "source": [
        "##Input/Output Functions:"
      ],
      "metadata": {
        "id": "EY0Kc6iU31a_"
      }
    },
    {
      "cell_type": "code",
      "source": [
        "#print() - Outputs to the console.\n",
        "print(\"Hello, World!\")  # Output: Hello, World!\n",
        "\n",
        "#input() - Takes input from the user as a string.\n",
        "name = input(\"Enter your name: \")\n",
        "print(f\"Hello, {name}!\")  # Output: Hello, <name>!\n"
      ],
      "metadata": {
        "colab": {
          "base_uri": "https://localhost:8080/"
        },
        "id": "ofFvP-7A4Jo_",
        "outputId": "5e56705f-e90d-42f2-f1f2-ae6e1effb59c"
      },
      "execution_count": null,
      "outputs": [
        {
          "output_type": "stream",
          "name": "stdout",
          "text": [
            "Hello, World!\n",
            "Enter your name: akash\n",
            "Hello, akash!\n"
          ]
        }
      ]
    },
    {
      "cell_type": "markdown",
      "source": [
        "##Other Built-in Functions:"
      ],
      "metadata": {
        "id": "LZfAeROd4T5t"
      }
    },
    {
      "cell_type": "code",
      "source": [
        "#range() - Generates a sequence of numbers.\n",
        "for i in range(5):\n",
        "    print(i)  # Output: 0 1 2 3 4\n",
        "\n",
        "#sorted() - Returns a sorted list from an iterable.\n",
        "print(sorted([3, 1, 4, 2]))  # Output: [1, 2, 3, 4]\n",
        "\n",
        "#zip() - Combines multiple iterables into tuples.\n",
        "names = [\"Alice\", \"Bob\", \"Charlie\"]\n",
        "ages = [25, 30, 35]\n",
        "zipped = zip(names, ages)\n",
        "print(list(zipped))  # Output: [('Alice', 25), ('Bob', 30), ('Charlie', 35)]\n",
        "\n"
      ],
      "metadata": {
        "colab": {
          "base_uri": "https://localhost:8080/"
        },
        "id": "xbEeBi9H4VtU",
        "outputId": "c6d74f8e-e586-4a6f-ef78-131d2376fe82"
      },
      "execution_count": null,
      "outputs": [
        {
          "output_type": "stream",
          "name": "stdout",
          "text": [
            "0\n",
            "1\n",
            "2\n",
            "3\n",
            "4\n",
            "[1, 2, 3, 4]\n",
            "[('Alice', 25), ('Bob', 30), ('Charlie', 35)]\n"
          ]
        }
      ]
    },
    {
      "cell_type": "markdown",
      "source": [
        "#Lambda Function:\n",
        "## lambda arguments: expression\n",
        "### In Python, a lambda function is a small, anonymous (unnamed) function defined using the keyword lambda. It can have any number of arguments but only one expression."
      ],
      "metadata": {
        "id": "CucwTXWq5g8-"
      }
    },
    {
      "cell_type": "code",
      "source": [
        "# Lambda function that adds 10 to the argument x\n",
        "add_ten = lambda x: x + 10\n",
        "print(add_ten(5))  # Output: 15\n",
        "\n",
        "\n",
        "# Lambda function that multiplies two arguments\n",
        "multiply = lambda x, y: x * y\n",
        "print(multiply(4, 5))  # Output: 20\n",
        "\n",
        "# Lambda function with no arguments, returns a fixed value\n",
        "greet = lambda: \"Hello!\"\n",
        "print(greet())  # Output: Hello!\n"
      ],
      "metadata": {
        "colab": {
          "base_uri": "https://localhost:8080/"
        },
        "id": "J-4K5ddq51Eo",
        "outputId": "f6db3ef7-d81e-4139-a6a7-7e89c4231c73"
      },
      "execution_count": null,
      "outputs": [
        {
          "output_type": "stream",
          "name": "stdout",
          "text": [
            "15\n",
            "20\n",
            "Hello!\n"
          ]
        }
      ]
    },
    {
      "cell_type": "markdown",
      "source": [
        "# map\n",
        "## map(function, iterable)\n",
        "\n",
        "### The map() function is used to apply a specified function to each item in an iterable (like a list).\n",
        "\n",
        " It returns an iterator (not a list directly), so you have to convert it into a list using list() or loop through it."
      ],
      "metadata": {
        "id": "rZWckctB6FWf"
      }
    },
    {
      "cell_type": "code",
      "source": [
        "numbers = [1, 2, 3, 4]           # Original list\n",
        "squared = map(lambda x: x**2, numbers)  # Apply lambda (square each number)\n",
        "print(list(squared))             # Convert iterator to list and print: [1, 4, 9, 16]\n"
      ],
      "metadata": {
        "colab": {
          "base_uri": "https://localhost:8080/"
        },
        "id": "W4ZtM-Eb6kA-",
        "outputId": "423739dd-6a83-40f7-80aa-f78f08f2bf00"
      },
      "execution_count": null,
      "outputs": [
        {
          "output_type": "stream",
          "name": "stdout",
          "text": [
            "[1, 4, 9, 16]\n"
          ]
        }
      ]
    },
    {
      "cell_type": "markdown",
      "source": [
        "# filter() :filters out elements from an iterable based on a condition.\n",
        "\n",
        "## filter(function, iterable)\n",
        "### list e convert korte hobe"
      ],
      "metadata": {
        "id": "W7K74jQx60T-"
      }
    },
    {
      "cell_type": "code",
      "source": [
        "# Using lambda to filter out even numbers\n",
        "numbers = [1, 2, 3, 4, 5]\n",
        "even_numbers = filter(lambda x: x % 2 == 0, numbers)\n",
        "print(list(even_numbers))  # Output: [2, 4]"
      ],
      "metadata": {
        "colab": {
          "base_uri": "https://localhost:8080/"
        },
        "id": "HyJgsI4I7JD-",
        "outputId": "cb5c8969-9504-4fbc-9b27-2871f7e85ac2"
      },
      "execution_count": null,
      "outputs": [
        {
          "output_type": "stream",
          "name": "stdout",
          "text": [
            "[2, 4]\n"
          ]
        }
      ]
    },
    {
      "cell_type": "markdown",
      "source": [
        "#Function"
      ],
      "metadata": {
        "id": "XMAWEKQtj_Jd"
      }
    },
    {
      "cell_type": "markdown",
      "source": [
        "# User-Defined Functions"
      ],
      "metadata": {
        "id": "xelza02x7p92"
      }
    },
    {
      "cell_type": "code",
      "source": [
        "def greet(name):\n",
        "    return f\"Hello, {name}!\"\n",
        "\n",
        "print(greet(\"Alice\"))\n"
      ],
      "metadata": {
        "colab": {
          "base_uri": "https://localhost:8080/"
        },
        "id": "R8g7n1OU7tAW",
        "outputId": "16356616-9cbd-4415-d4ff-5a4c0d012dbb"
      },
      "execution_count": null,
      "outputs": [
        {
          "output_type": "stream",
          "name": "stdout",
          "text": [
            "Hello, Alice!\n"
          ]
        }
      ]
    },
    {
      "cell_type": "code",
      "source": [
        "def name_function(fname):\n",
        "    print(fname + \" Ali\")\n",
        "\n",
        "name_function(\"Adam\")\n",
        "name_function(\"Smith\")\n",
        "name_function(\"Rebecca\")"
      ],
      "metadata": {
        "colab": {
          "base_uri": "https://localhost:8080/"
        },
        "id": "K_Pwq9MJ78Le",
        "outputId": "45c72fbb-80fb-464f-9357-53544897eefb"
      },
      "execution_count": null,
      "outputs": [
        {
          "output_type": "stream",
          "name": "stdout",
          "text": [
            "Adam Ali\n",
            "Smith Ali\n",
            "Rebecca Ali\n"
          ]
        }
      ]
    },
    {
      "cell_type": "markdown",
      "source": [
        "#arguments function"
      ],
      "metadata": {
        "id": "YH3RMILY8s2W"
      }
    },
    {
      "cell_type": "markdown",
      "source": [
        "## Positional Arguments:\n",
        "\n",
        "### They are passed to a function in the correct order. The order in which the arguments are passed must match the order of the parameters defined in the function."
      ],
      "metadata": {
        "id": "O2YTDNng81Lt"
      }
    },
    {
      "cell_type": "code",
      "source": [
        "def greet(name, age):\n",
        "    print(f\"Hello {name}, you are {age} years old.\")\n",
        "\n",
        "greet(\"Alice\", 25)  # 'Alice' is the first argument, and 25 is the second argument\n"
      ],
      "metadata": {
        "colab": {
          "base_uri": "https://localhost:8080/"
        },
        "id": "WIapeO4f8_Zv",
        "outputId": "ea6c60c1-1c36-4f56-c70b-b34ea8a72d62"
      },
      "execution_count": null,
      "outputs": [
        {
          "output_type": "stream",
          "name": "stdout",
          "text": [
            "Hello Alice, you are 25 years old.\n"
          ]
        }
      ]
    },
    {
      "cell_type": "markdown",
      "source": [
        " ## Keyword Arguments:\n",
        " ### The order of the arguments does not matter when using keyword arguments."
      ],
      "metadata": {
        "id": "1FqB0fBw9ELH"
      }
    },
    {
      "cell_type": "code",
      "source": [
        "def greet(name, age):\n",
        "    print(f\"Hello {name}, you are {age} years old.\")\n",
        "\n",
        "greet(age=30, name=\"Bob\")  # Using keyword arguments, order doesn't matter\n"
      ],
      "metadata": {
        "colab": {
          "base_uri": "https://localhost:8080/"
        },
        "id": "jP3IGfyN9Mu_",
        "outputId": "808582a8-fafa-4c49-d72a-e01977bb17af"
      },
      "execution_count": null,
      "outputs": [
        {
          "output_type": "stream",
          "name": "stdout",
          "text": [
            "Hello Bob, you are 30 years old.\n"
          ]
        }
      ]
    },
    {
      "cell_type": "markdown",
      "source": [
        "## Default Arguments:\n",
        "###You can define default values for one or more parameters in the function. If a caller does not provide a value for these parameters, the default values are used."
      ],
      "metadata": {
        "id": "gyKAWWiZ9Pgx"
      }
    },
    {
      "cell_type": "code",
      "source": [
        "def greet(name, age=18):\n",
        "    print(f\"Hello {name}, you are {age} years old.\")\n",
        "\n",
        "greet(\"Charlie\")  # age will default to 18\n",
        "greet(\"Diana\", 22)  # age is explicitly provided as 22\n"
      ],
      "metadata": {
        "colab": {
          "base_uri": "https://localhost:8080/"
        },
        "id": "ICEySO3m9VHW",
        "outputId": "9610741a-87ec-4dc5-d7e5-0b19b452535f"
      },
      "execution_count": null,
      "outputs": [
        {
          "output_type": "stream",
          "name": "stdout",
          "text": [
            "Hello Charlie, you are 18 years old.\n",
            "Hello Diana, you are 22 years old.\n"
          ]
        }
      ]
    },
    {
      "cell_type": "markdown",
      "source": [
        " # Variable-Length Arguments:\n",
        "\n",
        " ## Sometimes, you don't know in advance how many arguments will be passed to a function. Python allows you to handle this using *args (for non-keyword arguments) and **kwargs (for keyword arguments).\n",
        "\n",
        " # Non-keyword variable-length arguments (*args)\n",
        " ## Definition: These are arguments that are passed to the function without keywords. They are positional arguments, meaning the arguments are identified by their position in the function call, not by their name.\n",
        "\n",
        "#Keyword variable-length arguments (**kwargs)\n",
        "##Definition: These are arguments that are passed to the function with a keyword (or name). They are keyword arguments, meaning the arguments are passed in the form of key=value."
      ],
      "metadata": {
        "id": "dInGlHeU9p8_"
      }
    },
    {
      "cell_type": "markdown",
      "source": [
        "##args (Non-keyword variable-length arguments):\n",
        "###The *args syntax allows you to pass a variable number of positional arguments. These arguments are stored as a tuple.\n",
        "\n",
        "##always tuple ***"
      ],
      "metadata": {
        "id": "Vsqmk6A7-E2v"
      }
    },
    {
      "cell_type": "code",
      "source": [
        "def add_numbers(*args):\n",
        "    total = sum(args)\n",
        "    print(f\"The total sum is: {total}\")\n",
        "\n",
        "add_numbers(1, 2, 3)  # Outputs: The total sum is: 6\n",
        "add_numbers(5, 10, 15, 20)  # Outputs: The total sum is: 50\n"
      ],
      "metadata": {
        "colab": {
          "base_uri": "https://localhost:8080/",
          "height": 327
        },
        "id": "c5KzyKQ5-Pvn",
        "outputId": "09bc0919-cda2-45f9-cc9a-9d700a5566fd"
      },
      "execution_count": null,
      "outputs": [
        {
          "output_type": "error",
          "ename": "TypeError",
          "evalue": "'int' object is not callable",
          "traceback": [
            "\u001b[0;31m---------------------------------------------------------------------------\u001b[0m",
            "\u001b[0;31mTypeError\u001b[0m                                 Traceback (most recent call last)",
            "\u001b[0;32m<ipython-input-75-312a1e13d79e>\u001b[0m in \u001b[0;36m<cell line: 5>\u001b[0;34m()\u001b[0m\n\u001b[1;32m      3\u001b[0m     \u001b[0mprint\u001b[0m\u001b[0;34m(\u001b[0m\u001b[0;34mf\"The total sum is: {total}\"\u001b[0m\u001b[0;34m)\u001b[0m\u001b[0;34m\u001b[0m\u001b[0;34m\u001b[0m\u001b[0m\n\u001b[1;32m      4\u001b[0m \u001b[0;34m\u001b[0m\u001b[0m\n\u001b[0;32m----> 5\u001b[0;31m \u001b[0madd_numbers\u001b[0m\u001b[0;34m(\u001b[0m\u001b[0;36m1\u001b[0m\u001b[0;34m,\u001b[0m \u001b[0;36m2\u001b[0m\u001b[0;34m,\u001b[0m \u001b[0;36m3\u001b[0m\u001b[0;34m)\u001b[0m  \u001b[0;31m# Outputs: The total sum is: 6\u001b[0m\u001b[0;34m\u001b[0m\u001b[0;34m\u001b[0m\u001b[0m\n\u001b[0m\u001b[1;32m      6\u001b[0m \u001b[0madd_numbers\u001b[0m\u001b[0;34m(\u001b[0m\u001b[0;36m5\u001b[0m\u001b[0;34m,\u001b[0m \u001b[0;36m10\u001b[0m\u001b[0;34m,\u001b[0m \u001b[0;36m15\u001b[0m\u001b[0;34m,\u001b[0m \u001b[0;36m20\u001b[0m\u001b[0;34m)\u001b[0m  \u001b[0;31m# Outputs: The total sum is: 50\u001b[0m\u001b[0;34m\u001b[0m\u001b[0;34m\u001b[0m\u001b[0m\n",
            "\u001b[0;32m<ipython-input-75-312a1e13d79e>\u001b[0m in \u001b[0;36madd_numbers\u001b[0;34m(*args)\u001b[0m\n\u001b[1;32m      1\u001b[0m \u001b[0;32mdef\u001b[0m \u001b[0madd_numbers\u001b[0m\u001b[0;34m(\u001b[0m\u001b[0;34m*\u001b[0m\u001b[0margs\u001b[0m\u001b[0;34m)\u001b[0m\u001b[0;34m:\u001b[0m\u001b[0;34m\u001b[0m\u001b[0;34m\u001b[0m\u001b[0m\n\u001b[0;32m----> 2\u001b[0;31m     \u001b[0mtotal\u001b[0m \u001b[0;34m=\u001b[0m \u001b[0msum\u001b[0m\u001b[0;34m(\u001b[0m\u001b[0margs\u001b[0m\u001b[0;34m)\u001b[0m\u001b[0;34m\u001b[0m\u001b[0;34m\u001b[0m\u001b[0m\n\u001b[0m\u001b[1;32m      3\u001b[0m     \u001b[0mprint\u001b[0m\u001b[0;34m(\u001b[0m\u001b[0;34mf\"The total sum is: {total}\"\u001b[0m\u001b[0;34m)\u001b[0m\u001b[0;34m\u001b[0m\u001b[0;34m\u001b[0m\u001b[0m\n\u001b[1;32m      4\u001b[0m \u001b[0;34m\u001b[0m\u001b[0m\n\u001b[1;32m      5\u001b[0m \u001b[0madd_numbers\u001b[0m\u001b[0;34m(\u001b[0m\u001b[0;36m1\u001b[0m\u001b[0;34m,\u001b[0m \u001b[0;36m2\u001b[0m\u001b[0;34m,\u001b[0m \u001b[0;36m3\u001b[0m\u001b[0;34m)\u001b[0m  \u001b[0;31m# Outputs: The total sum is: 6\u001b[0m\u001b[0;34m\u001b[0m\u001b[0;34m\u001b[0m\u001b[0m\n",
            "\u001b[0;31mTypeError\u001b[0m: 'int' object is not callable"
          ]
        }
      ]
    },
    {
      "cell_type": "markdown",
      "source": [
        "## here showing error because i used sum as variable before"
      ],
      "metadata": {
        "id": "MEUwC81q_BMG"
      }
    },
    {
      "cell_type": "markdown",
      "source": [
        "#**kwargs (Keyword variable-length arguments):\n",
        "##The **kwargs syntax allows you to pass a variable number of keyword arguments. These arguments are stored as a dictionary."
      ],
      "metadata": {
        "id": "5yCxJAdM_YOO"
      }
    },
    {
      "cell_type": "code",
      "source": [
        "def display_info(**kwargs):\n",
        "    for key, value in kwargs.items():\n",
        "        print(f\"{key}: {value}\")\n",
        "\n",
        "display_info(name=\"Alice\", age=25, city=\"New York\")\n"
      ],
      "metadata": {
        "colab": {
          "base_uri": "https://localhost:8080/"
        },
        "id": "0tnjD2rP_eZL",
        "outputId": "c6259a34-a99e-4522-fa45-92b1ec502e91"
      },
      "execution_count": null,
      "outputs": [
        {
          "output_type": "stream",
          "name": "stdout",
          "text": [
            "name: Alice\n",
            "age: 25\n",
            "city: New York\n"
          ]
        }
      ]
    },
    {
      "cell_type": "markdown",
      "source": [
        "#Example of Both (*args and **kwargs in the Same Function):"
      ],
      "metadata": {
        "id": "L_mRnsRmFbU-"
      }
    },
    {
      "cell_type": "code",
      "source": [
        "def person_info(name, *args, **kwargs):\n",
        "    print(f\"Name: {name}\")\n",
        "    print(\"Hobbies:\", args)\n",
        "    for key, value in kwargs.items():\n",
        "        print(f\"{key}: {value}\")\n",
        "\n",
        "# Call function with both *args and **kwargs\n",
        "person_info(\"Alice\", \"Reading\", \"Traveling\", age=25, city=\"New York\")\n"
      ],
      "metadata": {
        "colab": {
          "base_uri": "https://localhost:8080/"
        },
        "id": "HPpLsBt7FfUy",
        "outputId": "d6f2a369-9504-4901-cbfb-cbe148db0db4"
      },
      "execution_count": null,
      "outputs": [
        {
          "output_type": "stream",
          "name": "stdout",
          "text": [
            "Name: Alice\n",
            "Hobbies: ('Reading', 'Traveling')\n",
            "age: 25\n",
            "city: New York\n"
          ]
        }
      ]
    },
    {
      "cell_type": "markdown",
      "source": [
        "#Multi Return Value"
      ],
      "metadata": {
        "id": "Zto7z-wDFwhz"
      }
    },
    {
      "cell_type": "code",
      "source": [
        "def my_profile():\n",
        "  name = \"Saadman Sakib\"\n",
        "  address = \"CUET\"\n",
        "  ID = 123\n",
        "  return name,address,ID\n",
        "profile = my_profile()\n",
        "print (profile)\n",
        "print (type(profile))\n",
        "\n",
        "x, y, z = my_profile()\n",
        "print(x,y,z)"
      ],
      "metadata": {
        "colab": {
          "base_uri": "https://localhost:8080/"
        },
        "id": "skhYrh7jFzcL",
        "outputId": "3d767058-505c-4d46-b353-f2426b3048a7"
      },
      "execution_count": null,
      "outputs": [
        {
          "output_type": "stream",
          "name": "stdout",
          "text": [
            "('Saadman Sakib', 'CUET', 123)\n",
            "<class 'tuple'>\n",
            "Saadman Sakib CUET 123\n"
          ]
        }
      ]
    },
    {
      "cell_type": "markdown",
      "source": [
        "#Recursive Functions\n",
        "##Functions that call themselves for tasks like factorials or Fibonacci."
      ],
      "metadata": {
        "id": "nOOeo_c4GJu7"
      }
    },
    {
      "cell_type": "code",
      "source": [
        "# Recursive function for factorial\n",
        "def factorial(n):\n",
        "    if n == 0:\n",
        "        return 1\n",
        "    return n * factorial(n - 1)\n",
        "\n",
        "print(factorial(5))  # Output: 120\n"
      ],
      "metadata": {
        "id": "8lJLC4hyGPED"
      },
      "execution_count": null,
      "outputs": []
    },
    {
      "cell_type": "markdown",
      "source": [
        "# Error Handling in Python\n",
        "\n",
        " ## 1.try Block\n",
        "### The try block contains the code that might raise an exception. If an error occurs, the rest of the code in the try block will be skipped, and the program will look for an except block to handle the error.\n",
        "\n",
        "## 2. except Block\n",
        "### The except block handles the error (exception) raised in the try block. You can specify the type of exception you want to handle or leave it general to catch all exceptions.\n",
        "\n",
        "##3. else Block\n",
        "### The else block runs if no exception was raised in the try block. It is optional.\n",
        "\n",
        "##4. finally Block\n",
        "### The finally block always runs, no matter if there was an exception or not. It is commonly used for clean-up actions, like closing files or releasing resources.\n",
        "\n",
        "try:\n",
        "    # Code that may raise an exception\n",
        "    ...\n",
        "except SomeErrorType as e:\n",
        "    # Code that handles the exception\n",
        "    ...\n",
        "else:\n",
        "    # Code to run if no exception occurs\n",
        "    ...\n",
        "finally:\n",
        "    # Code that always runs, no matter what\n",
        "    ...\n"
      ],
      "metadata": {
        "id": "ziacE7pWRcZE"
      }
    },
    {
      "cell_type": "markdown",
      "source": [
        "## Example 1: Basic Error Handling"
      ],
      "metadata": {
        "id": "tFh0LUcMSZKj"
      }
    },
    {
      "cell_type": "code",
      "source": [
        "try:\n",
        "    num1 = int(input(\"Enter a number: \"))\n",
        "    num2 = int(input(\"Enter another number: \"))\n",
        "    result = num1 / num2\n",
        "    print(\"Result:\", result)\n",
        "except ZeroDivisionError:\n",
        "    print(\"Error: Cannot divide by zero.\")\n",
        "except ValueError:\n",
        "    print(\"Error: Invalid input, please enter a number.\")\n",
        "else:\n",
        "    print(\"Division was successful!\")\n",
        "finally:\n",
        "    print(\"Execution completed.\")\n"
      ],
      "metadata": {
        "colab": {
          "base_uri": "https://localhost:8080/"
        },
        "id": "FQxuWZUnSUhU",
        "outputId": "08771c8f-6109-4c29-b74f-aeac5013d9a9"
      },
      "execution_count": null,
      "outputs": [
        {
          "output_type": "stream",
          "name": "stdout",
          "text": [
            "Enter a number: 1\n",
            "Enter another number: 0\n",
            "Error: Cannot divide by zero.\n",
            "Execution completed.\n"
          ]
        }
      ]
    },
    {
      "cell_type": "markdown",
      "source": [
        "## Example 2: Catching Multiple Exceptions"
      ],
      "metadata": {
        "id": "pQdZZ1kdS4Vc"
      }
    },
    {
      "cell_type": "code",
      "source": [
        "try:\n",
        "    number = int(input(\"Enter a number: \"))\n",
        "    result = 10 / number\n",
        "    print(f\"Result: {result}\")\n",
        "except (ValueError, ZeroDivisionError) as e:\n",
        "    print(f\"Error: {e}\")\n",
        "else:\n",
        "    print(\"Computation successful.\")\n",
        "finally:\n",
        "    print(\"End of error handling.\")\n"
      ],
      "metadata": {
        "colab": {
          "base_uri": "https://localhost:8080/"
        },
        "id": "Cqoj8rmMS45U",
        "outputId": "43d79308-c80c-4fd2-c2a9-34c128778f56"
      },
      "execution_count": null,
      "outputs": [
        {
          "output_type": "stream",
          "name": "stdout",
          "text": [
            "Enter a number: a\n",
            "Error: invalid literal for int() with base 10: 'a'\n",
            "End of error handling.\n"
          ]
        }
      ]
    },
    {
      "cell_type": "markdown",
      "source": [
        "## e dile ki type er error seta bujha jay\n",
        "### Without as e:   You catch the exception but cannot access its details.\n",
        "### With as e:   You can access the exception object and print or log specific details, such as the error message or other information about the exception.\n"
      ],
      "metadata": {
        "id": "IcsufRUoTjwj"
      }
    },
    {
      "cell_type": "code",
      "source": [
        "##  without e :\n",
        "try:\n",
        "    num1 = int(input(\"Enter a number: \"))\n",
        "    num2 = int(input(\"Enter another number: \"))\n",
        "    result = num1 / num2  # Division\n",
        "    print(f\"Result: {result}\")\n",
        "\n",
        "except ZeroDivisionError:\n",
        "    print(\"Error: Cannot divide by zero.\")\n",
        "\n",
        "except ValueError:\n",
        "    print(\"Error: Invalid input, please enter a number.\")\n",
        "\n",
        "\n",
        "## with e :\n",
        "\n",
        "try:\n",
        "    num1 = int(input(\"Enter a number: \"))\n",
        "    num2 = int(input(\"Enter another number: \"))\n",
        "    result = num1 / num2  # Division\n",
        "    print(f\"Result: {result}\")\n",
        "\n",
        "except ZeroDivisionError as e:\n",
        "    print(f\"Error: {e} (Cannot divide by zero.)\")\n",
        "\n",
        "except ValueError as e:\n",
        "    print(f\"Error: {e} (Invalid input, please enter a number.)\")\n",
        "\n"
      ],
      "metadata": {
        "colab": {
          "base_uri": "https://localhost:8080/"
        },
        "id": "yYUAc2VwT9h9",
        "outputId": "a345e928-d956-4957-f243-93aa991b3862"
      },
      "execution_count": null,
      "outputs": [
        {
          "output_type": "stream",
          "name": "stdout",
          "text": [
            "Enter a number: 5\n",
            "Enter another number: 0\n",
            "Error: Cannot divide by zero.\n",
            "Enter a number: 5\n",
            "Enter another number: 0\n",
            "Error: division by zero (Cannot divide by zero.)\n"
          ]
        }
      ]
    },
    {
      "cell_type": "markdown",
      "source": [
        "# Catching All Exceptions\n",
        "\n",
        "##  you can catch all exceptions using a general except block:"
      ],
      "metadata": {
        "id": "9fYQ5dxVUdmm"
      }
    },
    {
      "cell_type": "code",
      "source": [
        "try:\n",
        "    x = int(input(\"Enter a number: \"))\n",
        "    y = int(input(\"Enter another number: \"))\n",
        "    print(x / y)\n",
        "except Exception as e:\n",
        "    print(f\"An error occurred: {e}\")\n",
        "finally:\n",
        "    print(\"Execution finished.\")\n"
      ],
      "metadata": {
        "colab": {
          "base_uri": "https://localhost:8080/"
        },
        "id": "Q9mM0fo0UgVT",
        "outputId": "74628286-ed1c-4975-e24b-30966d8c0c84"
      },
      "execution_count": null,
      "outputs": [
        {
          "output_type": "stream",
          "name": "stdout",
          "text": [
            "Enter a number: 5\n",
            "Enter another number: a\n",
            "An error occurred: invalid literal for int() with base 10: 'a'\n",
            "Execution finished.\n"
          ]
        }
      ]
    },
    {
      "cell_type": "markdown",
      "source": [
        "# Lists in Python\n",
        "## A list in Python is an ordered collection of elements, which can be of any data type.\n",
        "### Lists are mutable, meaning you can modify them (add, remove, or change elements). Lists are created using square brackets ([]) and can hold any type of data: integers, strings, booleans, or even other lists."
      ],
      "metadata": {
        "id": "HjIJ92HVX9M7"
      }
    },
    {
      "cell_type": "markdown",
      "source": [
        "# 1. Creating a List\n",
        "### You can create a list by placing elements inside square brackets [] separated by commas."
      ],
      "metadata": {
        "id": "5MkQ16PnYWdN"
      }
    },
    {
      "cell_type": "code",
      "source": [
        "# List of integers\n",
        "numbers = [1, 2, 3, 4, 5]\n",
        "print(numbers)\n",
        "\n",
        "# List of strings\n",
        "fruits = [\"apple\", \"banana\", \"cherry\"]\n",
        "print(fruits)\n",
        "\n",
        "# Mixed list (numbers and strings)\n",
        "mixed_list = [1, \"apple\", 3.14, True]\n",
        "print(mixed_list)\n",
        "\n",
        "# Empty list\n",
        "empty_list = []\n",
        "print(empty_list)\n",
        "\n",
        "# Nested list (list inside a list)\n",
        "nested_list = [[1, 2], [\"apple\", \"banana\"], [3.14, 4.5]]\n",
        "print(nested_list)\n"
      ],
      "metadata": {
        "colab": {
          "base_uri": "https://localhost:8080/"
        },
        "id": "628jy5uZYdt8",
        "outputId": "ace180b3-2bb2-44c7-da7a-2658a1ceb7b6"
      },
      "execution_count": null,
      "outputs": [
        {
          "output_type": "stream",
          "name": "stdout",
          "text": [
            "[1, 2, 3, 4, 5]\n",
            "['apple', 'banana', 'cherry']\n",
            "[1, 'apple', 3.14, True]\n",
            "[]\n",
            "[[1, 2], ['apple', 'banana'], [3.14, 4.5]]\n"
          ]
        }
      ]
    },
    {
      "cell_type": "markdown",
      "source": [
        "## 2. Accessing Elements in a List\n",
        "### You can access elements of a list using indexing (starts at 0) and negative indexing (starts at -1 from the end).\n",
        "![image.png](data:image/png;base64,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)"
      ],
      "metadata": {
        "id": "D--IdWnJY8tM"
      }
    },
    {
      "cell_type": "code",
      "source": [
        "color_list=[\"RED\", \"Blue\", \"Green\", \"Black\"] #circular indexing\n",
        "\n",
        "print(color_list[0], color_list[3])\n",
        "\n",
        "print(color_list[-4],color_list[-1])"
      ],
      "metadata": {
        "colab": {
          "base_uri": "https://localhost:8080/"
        },
        "id": "g2GZWM7QZNmc",
        "outputId": "d212cbb7-9a0a-4d94-d8ab-d9c56de35b31"
      },
      "execution_count": null,
      "outputs": [
        {
          "output_type": "stream",
          "name": "stdout",
          "text": [
            "RED Black\n",
            "RED Black\n"
          ]
        }
      ]
    },
    {
      "cell_type": "code",
      "source": [
        "# Accessing elements by index\n",
        "print(numbers[0])  # Output: 1\n",
        "print(fruits[1])   # Output: banana\n",
        "\n",
        "# Accessing elements using negative index\n",
        "print(fruits[-1])  # Output: cherry\n",
        "print(mixed_list[-2])  # Output: 3.14\n"
      ],
      "metadata": {
        "colab": {
          "base_uri": "https://localhost:8080/"
        },
        "id": "SItUTKJCZdSA",
        "outputId": "c316f687-b78d-4817-96cb-92656e9d15ff"
      },
      "execution_count": null,
      "outputs": [
        {
          "output_type": "stream",
          "name": "stdout",
          "text": [
            "1\n",
            "banana\n",
            "cherry\n",
            "3.14\n"
          ]
        }
      ]
    },
    {
      "cell_type": "markdown",
      "source": [
        "#3. Slicing Lists"
      ],
      "metadata": {
        "id": "kO_VSWggZyUs"
      }
    },
    {
      "cell_type": "code",
      "source": [
        "# List slicing\n",
        "print(numbers[1:4])  # Output: [2, 3, 4] (from index 1 to 3)\n",
        "\n",
        "# Slicing with step\n",
        "print(fruits[::2])  # Output: ['apple', 'cherry'] (every second element)\n",
        "\n",
        "# Omitting the start or end index\n",
        "print(fruits[:3])   # Output: ['apple', 'banana', 'cherry'] (from start to index 2)\n",
        "print(fruits[1:])   # Output: ['banana', 'cherry'] (from index 1 to the end)\n"
      ],
      "metadata": {
        "colab": {
          "base_uri": "https://localhost:8080/"
        },
        "id": "PDxngJINZ014",
        "outputId": "bbf57735-5abc-419f-bec6-d1d96bee5148"
      },
      "execution_count": null,
      "outputs": [
        {
          "output_type": "stream",
          "name": "stdout",
          "text": [
            "[2, 3, 4]\n",
            "['apple', 'cherry']\n",
            "['apple', 'banana', 'cherry']\n",
            "['banana', 'cherry']\n"
          ]
        }
      ]
    },
    {
      "cell_type": "markdown",
      "source": [
        "##Reverse the elements of the list in place"
      ],
      "metadata": {
        "id": "hZwrE3s1a42s"
      }
    },
    {
      "cell_type": "code",
      "source": [
        "print(color_list)\n",
        "print(color_list[ : :-1]) #step specify an increment\n"
      ],
      "metadata": {
        "colab": {
          "base_uri": "https://localhost:8080/"
        },
        "id": "S6JixKuNa_TT",
        "outputId": "24a48202-8efe-4477-efcb-1c4fd82bd31e"
      },
      "execution_count": null,
      "outputs": [
        {
          "output_type": "stream",
          "name": "stdout",
          "text": [
            "['RED', 'Blue', 'Green', 'Black']\n",
            "['Black', 'Green', 'Blue', 'RED']\n"
          ]
        }
      ]
    },
    {
      "cell_type": "markdown",
      "source": [
        "#4. Modifying Lists"
      ],
      "metadata": {
        "id": "2_Ol_km1aEd2"
      }
    },
    {
      "cell_type": "code",
      "source": [
        "# Changing an element in the list\n",
        "numbers[2] = 10\n",
        "print(numbers)  # Output: [1, 2, 10, 4, 5]\n",
        "\n",
        "# Appending an element\n",
        "numbers.append(6)\n",
        "print(numbers)  # Output: [1, 2, 10, 4, 5, 6]\n",
        "\n",
        "# Inserting an element at a specific position\n",
        "numbers.insert(2, 7)\n",
        "print(numbers)  # Output: [1, 2, 7, 10, 4, 5, 6]\n",
        "\n",
        "# Removing an element (first occurrence)\n",
        "numbers.remove(10)\n",
        "print(numbers)  # Output: [1, 2, 7, 4, 5, 6]\n",
        "\n",
        "# Removing an element by index\n",
        "del numbers[1]\n",
        "print(numbers)  # Output: [1, 7, 4, 5, 6]\n",
        "\n",
        "#\n",
        "\n",
        "# Popping an element (removes and returns the last element)\n",
        "popped_item = numbers.pop()\n",
        "print(popped_item)  # Output: 6\n",
        "print(numbers)      # Output: [1, 7, 4, 5]\n"
      ],
      "metadata": {
        "colab": {
          "base_uri": "https://localhost:8080/"
        },
        "id": "LLPZSE4WaHFC",
        "outputId": "2622c6c4-fb04-4520-b5b6-83bd222a4b15"
      },
      "execution_count": null,
      "outputs": [
        {
          "output_type": "stream",
          "name": "stdout",
          "text": [
            "[1, 2, 10, 4, 5]\n",
            "[1, 2, 10, 4, 5, 6]\n",
            "[1, 2, 7, 10, 4, 5, 6]\n",
            "[1, 2, 7, 4, 5, 6]\n",
            "[1, 7, 4, 5, 6]\n",
            "6\n",
            "[1, 7, 4, 5]\n"
          ]
        }
      ]
    },
    {
      "cell_type": "markdown",
      "source": [
        "# List Concatenation and Repetition"
      ],
      "metadata": {
        "id": "jpXhU6m3bf8c"
      }
    },
    {
      "cell_type": "code",
      "source": [
        "# Concatenating lists\n",
        "list1 = [1, 2, 3]\n",
        "list2 = [4, 5, 6]\n",
        "combined = list1 + list2\n",
        "print(combined)  # Output: [1, 2, 3, 4, 5, 6]\n",
        "\n",
        "# Repeating a list\n",
        "repeated = [1, 2, 3] * 2\n",
        "print(repeated)  # Output: [1, 2, 3, 1, 2, 3]\n"
      ],
      "metadata": {
        "colab": {
          "base_uri": "https://localhost:8080/"
        },
        "id": "Oo6Be1o9biPS",
        "outputId": "fc14345a-391b-4056-bc51-ec05726fa115"
      },
      "execution_count": null,
      "outputs": [
        {
          "output_type": "stream",
          "name": "stdout",
          "text": [
            "[1, 2, 3, 4, 5, 6]\n",
            "[1, 2, 3, 1, 2, 3]\n"
          ]
        }
      ]
    },
    {
      "cell_type": "markdown",
      "source": [
        "#6. List Length, Min, Max, and Sum"
      ],
      "metadata": {
        "id": "7dvG2cuHb7Sc"
      }
    },
    {
      "cell_type": "code",
      "source": [
        "numbers = [1, 2, 3, 4, 5]\n",
        "\n",
        "# Length of a list\n",
        "print(len(numbers))  # Output: 5\n",
        "\n",
        "# Minimum value in a list\n",
        "print(min(numbers))  # Output: 1\n",
        "\n",
        "# Maximum value in a list\n",
        "print(max(numbers))  # Output: 5\n",
        "\n",
        "# Sum of the elements in the list\n",
        "#print(sum(numbers))  # Output: 15\n"
      ],
      "metadata": {
        "colab": {
          "base_uri": "https://localhost:8080/",
          "height": 237
        },
        "id": "t_TnF7C6b-xH",
        "outputId": "9162d588-e5d8-4a18-858e-48d4d14ab5a3"
      },
      "execution_count": null,
      "outputs": [
        {
          "output_type": "stream",
          "name": "stdout",
          "text": [
            "5\n",
            "1\n",
            "5\n"
          ]
        },
        {
          "output_type": "error",
          "ename": "TypeError",
          "evalue": "'int' object is not callable",
          "traceback": [
            "\u001b[0;31m---------------------------------------------------------------------------\u001b[0m",
            "\u001b[0;31mTypeError\u001b[0m                                 Traceback (most recent call last)",
            "\u001b[0;32m<ipython-input-93-d352f3b85b8a>\u001b[0m in \u001b[0;36m<cell line: 13>\u001b[0;34m()\u001b[0m\n\u001b[1;32m     11\u001b[0m \u001b[0;34m\u001b[0m\u001b[0m\n\u001b[1;32m     12\u001b[0m \u001b[0;31m# Sum of the elements in the list\u001b[0m\u001b[0;34m\u001b[0m\u001b[0;34m\u001b[0m\u001b[0m\n\u001b[0;32m---> 13\u001b[0;31m \u001b[0mprint\u001b[0m\u001b[0;34m(\u001b[0m\u001b[0msum\u001b[0m\u001b[0;34m(\u001b[0m\u001b[0mnumbers\u001b[0m\u001b[0;34m)\u001b[0m\u001b[0;34m)\u001b[0m  \u001b[0;31m# Output: 15\u001b[0m\u001b[0;34m\u001b[0m\u001b[0;34m\u001b[0m\u001b[0m\n\u001b[0m",
            "\u001b[0;31mTypeError\u001b[0m: 'int' object is not callable"
          ]
        }
      ]
    },
    {
      "cell_type": "markdown",
      "source": [
        "#7. List Comprehensions"
      ],
      "metadata": {
        "id": "LCJaZ2PVcMCr"
      }
    },
    {
      "cell_type": "code",
      "source": [
        "# Squaring each element in the list\n",
        "numbers = [1, 2, 3, 4, 5]\n",
        "squared_numbers = [x**2 for x in numbers]\n",
        "print(squared_numbers)  # Output: [1, 4, 9, 16, 25]\n",
        "\n",
        "# Filtering even numbers from a list\n",
        "even_numbers = [x for x in numbers if x % 2 == 0]\n",
        "print(even_numbers)  # Output: [2, 4]\n"
      ],
      "metadata": {
        "id": "Xq8LpRVpcNzE"
      },
      "execution_count": null,
      "outputs": []
    },
    {
      "cell_type": "markdown",
      "source": [
        "# 8. Checking Membership\n",
        "## You can check if an element exists in the list using the in operator."
      ],
      "metadata": {
        "id": "QUjca6CMchlb"
      }
    },
    {
      "cell_type": "code",
      "source": [
        "fruits = [\"apple\", \"banana\", \"cherry\"]\n",
        "\n",
        "# Check if 'banana' is in the list\n",
        "print(\"banana\" in fruits)  # Output: True\n",
        "\n",
        "# Check if 'grape' is in the list\n",
        "print(\"grape\" in fruits)  # Output: False\n"
      ],
      "metadata": {
        "id": "eBqh6VTDckFU"
      },
      "execution_count": null,
      "outputs": []
    },
    {
      "cell_type": "markdown",
      "source": [
        "# 9. Sorting and Reversing Lists"
      ],
      "metadata": {
        "id": "wO_ddgclczJm"
      }
    },
    {
      "cell_type": "code",
      "source": [
        "# Sorting a list (ascending)\n",
        "numbers = [4, 1, 3, 2, 5]\n",
        "numbers.sort()\n",
        "print(numbers)  # Output: [1, 2, 3, 4, 5]\n",
        "\n",
        "# Sorting a list in descending order\n",
        "numbers.sort(reverse=True)\n",
        "print(numbers)  # Output: [5, 4, 3, 2, 1]\n",
        "\n",
        "# Reversing a list\n",
        "numbers.reverse()\n",
        "print(numbers)  # Output: [1, 2, 3, 4, 5]\n"
      ],
      "metadata": {
        "colab": {
          "base_uri": "https://localhost:8080/"
        },
        "id": "R9s2i6u-c1U7",
        "outputId": "ed23f56e-c053-42c0-a709-b365775e6574"
      },
      "execution_count": null,
      "outputs": [
        {
          "output_type": "stream",
          "name": "stdout",
          "text": [
            "[1, 2, 3, 4, 5]\n",
            "[5, 4, 3, 2, 1]\n",
            "[1, 2, 3, 4, 5]\n"
          ]
        }
      ]
    },
    {
      "cell_type": "markdown",
      "source": [
        "#10. List Iteration"
      ],
      "metadata": {
        "id": "k0elDCC2dJe1"
      }
    },
    {
      "cell_type": "code",
      "source": [
        "fruits = [\"apple\", \"banana\", \"cherry\"]\n",
        "\n",
        "# Iterating through the list\n",
        "for fruit in fruits:\n",
        "    print(fruit)\n"
      ],
      "metadata": {
        "colab": {
          "base_uri": "https://localhost:8080/"
        },
        "id": "repv32BidLVE",
        "outputId": "4f2795e9-1ea7-4498-ac1f-d2c38cdf2e52"
      },
      "execution_count": null,
      "outputs": [
        {
          "output_type": "stream",
          "name": "stdout",
          "text": [
            "apple\n",
            "banana\n",
            "cherry\n"
          ]
        }
      ]
    },
    {
      "cell_type": "markdown",
      "source": [
        "# 11. List Methods"
      ],
      "metadata": {
        "id": "94YCAWWZdaHD"
      }
    },
    {
      "cell_type": "code",
      "source": [
        "# Appending an element to the end of the list\n",
        "fruits.append(\"orange\")\n",
        "print(fruits)  # Output: ['apple', 'banana', 'cherry', 'orange']\n",
        "\n",
        "# Counting occurrences of an element\n",
        "print(fruits.count(\"banana\"))  # Output: 1\n",
        "\n",
        "# Extending a list by appending elements from another iterable\n",
        "fruits.extend([\"pear\", \"grape\"])\n",
        "print(fruits)  # Output: ['apple', 'banana', 'cherry', 'orange', 'pear', 'grape']\n",
        "\n",
        "# Finding the index of an element\n",
        "print(fruits.index(\"cherry\"))  # Output: 2\n",
        "\n",
        "# Clearing all elements from the list\n",
        "fruits.clear()\n",
        "print(fruits)  # Output: []\n",
        "\n",
        "\n",
        "#assign int to all list item\n",
        "values1 = list(map(int, input(\"Enter numbers separated by space: \").split()))\n",
        "print(values1)\n",
        "\n",
        "\n"
      ],
      "metadata": {
        "colab": {
          "base_uri": "https://localhost:8080/"
        },
        "id": "LwSU86Q4ddhc",
        "outputId": "747a31bd-e1f8-457a-e281-07cd0f871e44"
      },
      "execution_count": null,
      "outputs": [
        {
          "output_type": "stream",
          "name": "stdout",
          "text": [
            "['apple', 'banana', 'cherry', 'orange']\n",
            "1\n",
            "['apple', 'banana', 'cherry', 'orange', 'pear', 'grape']\n",
            "2\n",
            "[]\n",
            "Enter numbers separated by space: 1 2 3 4 5  6 8 0 13\n",
            "[1, 2, 3, 4, 5, 6, 8, 0, 13]\n"
          ]
        }
      ]
    },
    {
      "cell_type": "markdown",
      "source": [
        "#12. Copying a List"
      ],
      "metadata": {
        "id": "q0KS8k91dkwD"
      }
    },
    {
      "cell_type": "code",
      "source": [
        "original_list = [1, 2, 3, 4, 5]\n",
        "\n",
        "# Using copy() method\n",
        "copy_list = original_list.copy()\n",
        "print(copy_list)  # Output: [1, 2, 3, 4, 5]\n",
        "\n",
        "# Using slicing\n",
        "sliced_copy = original_list[:]\n",
        "print(sliced_copy)  # Output: [1, 2, 3, 4, 5]\n"
      ],
      "metadata": {
        "colab": {
          "base_uri": "https://localhost:8080/"
        },
        "id": "rXL-DUq5dl2E",
        "outputId": "eff4296a-8cff-4fcb-b0fd-3910145237b8"
      },
      "execution_count": null,
      "outputs": [
        {
          "output_type": "stream",
          "name": "stdout",
          "text": [
            "[1, 2, 3, 4, 5]\n",
            "[1, 2, 3, 4, 5]\n"
          ]
        }
      ]
    },
    {
      "cell_type": "markdown",
      "source": [
        "#13. Nested Lists and Accessing Nested Elements"
      ],
      "metadata": {
        "id": "kd7qhHfMdu-7"
      }
    },
    {
      "cell_type": "code",
      "source": [
        "nested_list = [[1, 2, 3], [\"apple\", \"banana\", \"cherry\"], [3.14, 1.59]]\n",
        "\n",
        "# Accessing an element from the nested list\n",
        "print(nested_list[1][0])  # Output: apple\n",
        "print(nested_list[2][1])  # Output: 1.59\n"
      ],
      "metadata": {
        "colab": {
          "base_uri": "https://localhost:8080/"
        },
        "id": "AaZ9q2cVdxCs",
        "outputId": "8027fb8e-3b16-43aa-f2ab-ccf1205c06b0"
      },
      "execution_count": null,
      "outputs": [
        {
          "output_type": "stream",
          "name": "stdout",
          "text": [
            "apple\n",
            "1.59\n"
          ]
        }
      ]
    },
    {
      "cell_type": "markdown",
      "source": [
        "#Access list with Loops"
      ],
      "metadata": {
        "id": "8q5Xly0Yfh6k"
      }
    },
    {
      "cell_type": "code",
      "source": [
        "list_num=[5, 10, 15, 3, 25, 7, 4, 15]\n",
        "for i in list_num:\n",
        "    print(i,end=\" \")\n",
        "\n",
        "print()\n",
        "\n",
        "for i in list_num:\n",
        "    print(i+10,end=\" \")\n",
        "\n",
        "print()\n",
        "\n",
        "for i in list_num:\n",
        "    print(\"This is \" + str(i))\n",
        "print()"
      ],
      "metadata": {
        "colab": {
          "base_uri": "https://localhost:8080/"
        },
        "id": "gAEeCm-CfmAj",
        "outputId": "81e11e74-9f94-49ee-b197-fbff0652a263"
      },
      "execution_count": null,
      "outputs": [
        {
          "output_type": "stream",
          "name": "stdout",
          "text": [
            "5 10 15 3 25 7 4 15 \n",
            "15 20 25 13 35 17 14 25 \n",
            "This is 5\n",
            "This is 10\n",
            "This is 15\n",
            "This is 3\n",
            "This is 25\n",
            "This is 7\n",
            "This is 4\n",
            "This is 15\n",
            "\n"
          ]
        }
      ]
    },
    {
      "cell_type": "markdown",
      "source": [
        "#Zip list elements\n",
        "\n",
        "##The zip() function in Python is used to combine multiple lists (or iterables) element-wise into tuples.\n",
        "\n",
        "### zip(iterable1, iterable2, ...)\n"
      ],
      "metadata": {
        "id": "dtfb7Qv6gMx1"
      }
    },
    {
      "cell_type": "code",
      "source": [
        "list1 = [1, 2, 3]\n",
        "list2 = ['a', 'b', 'c']\n",
        "\n",
        "zipped = zip(list1, list2)\n",
        "print(list(zipped))\n",
        "\n",
        "\n",
        "\n",
        "list1 = [1, 2, 3]\n",
        "list2 = ['a', 'b', 'c']\n",
        "list3 = [True, False, True]\n",
        "\n",
        "zipped = zip(list1, list2, list3)\n",
        "print(list(zipped))\n",
        "\n",
        "\n",
        "\n",
        "###  Zipping Lists of Different Lengths\n",
        "#If the lists have different lengths, zip() stops when the shortest iterable is exhausted.\n",
        "\n",
        "list1 = [1, 2, 3, 4]\n",
        "list2 = ['a', 'b']\n",
        "\n",
        "zipped = zip(list1, list2)\n",
        "print(list(zipped))\n",
        "\n"
      ],
      "metadata": {
        "colab": {
          "base_uri": "https://localhost:8080/"
        },
        "id": "IrXXiflKglrk",
        "outputId": "d59e5a61-104a-459e-e437-5aaafe10eb16"
      },
      "execution_count": null,
      "outputs": [
        {
          "output_type": "stream",
          "name": "stdout",
          "text": [
            "[(1, 'a'), (2, 'b'), (3, 'c')]\n",
            "[(1, 'a', True), (2, 'b', False), (3, 'c', True)]\n"
          ]
        }
      ]
    },
    {
      "cell_type": "markdown",
      "source": [
        "#Unzipping with zip(*iterables)"
      ],
      "metadata": {
        "id": "NpgATnXMhAit"
      }
    },
    {
      "cell_type": "code",
      "source": [
        "zipped = [(1, 'a'), (2, 'b'), (3, 'c')]\n",
        "\n",
        "unzipped = zip(*zipped)\n",
        "list1, list2 = list(unzipped)\n",
        "print(list1)\n",
        "print(list2)\n"
      ],
      "metadata": {
        "colab": {
          "base_uri": "https://localhost:8080/"
        },
        "id": "Ccv8Wdn6hEGO",
        "outputId": "ee73c42b-fb37-40ad-bc6d-61520ae8fd28"
      },
      "execution_count": null,
      "outputs": [
        {
          "output_type": "stream",
          "name": "stdout",
          "text": [
            "(1, 2, 3)\n",
            "('a', 'b', 'c')\n"
          ]
        }
      ]
    },
    {
      "cell_type": "markdown",
      "source": [
        "#problems:"
      ],
      "metadata": {
        "id": "JLtid58vhWRm"
      }
    },
    {
      "cell_type": "code",
      "source": [
        "#Reverse and concate two list.\n",
        "# Define two lists\n",
        "list1 = [1, 2, 3]\n",
        "list2 = ['a', 'b', 'c']\n",
        "\n",
        "# Reverse both lists using slicing\n",
        "reversed_list1 = list1[::-1]\n",
        "reversed_list2 = list2[::-1]\n",
        "\n",
        "# Concatenate the reversed lists\n",
        "concatenated_list = reversed_list1 + reversed_list2\n",
        "\n",
        "print(\"Reversed List 1:\", reversed_list1)\n",
        "print(\"Reversed List 2:\", reversed_list2)\n",
        "print(\"Concatenated List:\", concatenated_list)\n"
      ],
      "metadata": {
        "id": "71FgZiFjhcIN"
      },
      "execution_count": null,
      "outputs": []
    },
    {
      "cell_type": "code",
      "source": [
        "#Remove duplicate items from the list.\n",
        "\n",
        "##Method 1: Using set() (Unordered, but removes duplicates)\n",
        "\n",
        "# Define a list with duplicates\n",
        "numbers = [1, 2, 2, 3, 4, 4, 5]\n",
        "\n",
        "# Remove duplicates by converting the list to a set\n",
        "unique_numbers = list(set(numbers))\n",
        "\n",
        "print(\"List without duplicates:\", unique_numbers)\n",
        "\n",
        "\n",
        "\n",
        "#Method 2: Using a for loop (Preserving the order)\n",
        "# Define a list with duplicates\n",
        "numbers = [1, 2, 2, 3, 4, 4, 5]\n",
        "\n",
        "# Create an empty list to store unique items\n",
        "unique_numbers = []\n",
        "\n",
        "# Iterate over the original list and add items to the new list if not already present\n",
        "for num in numbers:\n",
        "    if num not in unique_numbers:\n",
        "        unique_numbers.append(num)\n",
        "\n",
        "print(\"List without duplicates:\", unique_numbers)\n",
        "\n",
        "\n",
        "#Method 3: Using dict.fromkeys() (Preserving the order)\n",
        "\n",
        "# Define a list with duplicates\n",
        "numbers = [1, 2, 2, 3, 4, 4, 5]\n",
        "\n",
        "# Remove duplicates using dict.fromkeys()\n",
        "unique_numbers = list(dict.fromkeys(numbers))\n",
        "\n",
        "print(\"List without duplicates:\", unique_numbers)\n",
        "\n"
      ],
      "metadata": {
        "colab": {
          "base_uri": "https://localhost:8080/"
        },
        "id": "k-xKXiDfh50g",
        "outputId": "3d3b2bb5-a065-4a08-fb7b-836a7a533d13"
      },
      "execution_count": null,
      "outputs": [
        {
          "output_type": "stream",
          "name": "stdout",
          "text": [
            "List without duplicates: [1, 2, 3, 4, 5]\n",
            "List without duplicates: [1, 2, 3, 4, 5]\n",
            "List without duplicates: [1, 2, 3, 4, 5]\n"
          ]
        }
      ]
    },
    {
      "cell_type": "code",
      "source": [
        "#write a funcion to swap elements of two positions in a list.\n",
        "\n",
        "def swap_elements(lst, pos1, pos2):\n",
        "    \"\"\"\n",
        "    Swap elements at index pos1 and pos2 in the given list lst.\n",
        "\n",
        "    Parameters:\n",
        "    lst (list): The list containing the elements.\n",
        "    pos1 (int): The index of the first element to swap.\n",
        "    pos2 (int): The index of the second element to swap.\n",
        "\n",
        "    Returns:\n",
        "    list: The list with swapped elements.\n",
        "    \"\"\"\n",
        "    # Check if the positions are valid\n",
        "    if pos1 < 0 or pos1 >= len(lst) or pos2 < 0 or pos2 >= len(lst):\n",
        "        print(\"Error: Invalid positions.\")\n",
        "        return lst\n",
        "\n",
        "    # Swap the elements\n",
        "    lst[pos1], lst[pos2] = lst[pos2], lst[pos1]\n",
        "\n",
        "    return lst\n",
        "\n",
        "# Example usage\n",
        "numbers = [1, 2, 3, 4, 5]\n",
        "print(\"Original list:\", numbers)\n",
        "\n",
        "# Swap elements at positions 1 and 3\n",
        "swapped_list = swap_elements(numbers, 1, 3)\n",
        "print(\"List after swapping:\", swapped_list)\n"
      ],
      "metadata": {
        "colab": {
          "base_uri": "https://localhost:8080/"
        },
        "id": "B6N3gMleoi04",
        "outputId": "5e9002d1-b44b-4b37-f56d-ce3c0fa047e2"
      },
      "execution_count": null,
      "outputs": [
        {
          "output_type": "stream",
          "name": "stdout",
          "text": [
            "Original list: [1, 2, 3, 4, 5]\n",
            "List after swapping: [1, 4, 3, 2, 5]\n"
          ]
        }
      ]
    },
    {
      "cell_type": "code",
      "source": [
        "#Write a function to find sum and average of a list.\n",
        "\n",
        "def sum_and_average(lst):\n",
        "    \"\"\"\n",
        "    Function to calculate the sum and average of elements in a list.\n",
        "\n",
        "    Parameters:\n",
        "    lst (list): The list of numbers.\n",
        "\n",
        "    Returns:\n",
        "    tuple: A tuple containing the sum and average of the list.\n",
        "    \"\"\"\n",
        "    if len(lst) == 0:\n",
        "        return 0, 0  # If the list is empty, return 0 for both sum and average\n",
        "    total_sum = 0\n",
        "    for i in range(len(lst)):\n",
        "      total_sum +=lst[i]\n",
        "\n",
        "    #total_sum = sum(lst)\n",
        "    average = total_sum / len(lst)\n",
        "\n",
        "    return total_sum, average\n",
        "\n",
        "# Example usage\n",
        "numbers = [1, 2, 3, 4, 5]\n",
        "sum_result, average_result = sum_and_average(numbers)\n",
        "\n",
        "print(\"Sum:\", sum_result)\n",
        "print(\"Average:\", average_result)\n"
      ],
      "metadata": {
        "colab": {
          "base_uri": "https://localhost:8080/"
        },
        "id": "ADL_GLPjpN7K",
        "outputId": "7b9af151-2a70-44cc-85fb-5389d18cb4da"
      },
      "execution_count": null,
      "outputs": [
        {
          "output_type": "stream",
          "name": "stdout",
          "text": [
            "Sum: 15\n",
            "Average: 3.0\n"
          ]
        }
      ]
    },
    {
      "cell_type": "code",
      "source": [
        "#Write a Python function that takes two lists and returns True if they have at least one common member.\n",
        "def have_common_member(list1, list2):\n",
        "    \"\"\"\n",
        "    Function to check if two lists have at least one common member.\n",
        "\n",
        "    Parameters:\n",
        "    list1 (list): The first list.\n",
        "    list2 (list): The second list.\n",
        "\n",
        "    Returns:\n",
        "    bool: True if there is at least one common member, False otherwise.\n",
        "    \"\"\"\n",
        "    # Use set intersection to find common elements\n",
        "    if set(list1) & set(list2):\n",
        "        return True\n",
        "    else:\n",
        "        return False\n",
        "\n",
        "# Example usage\n",
        "list1 = [1, 2, 3, 4, 5]\n",
        "list2 = [5, 6, 7, 8]\n",
        "list3 = [10, 20, 30]\n",
        "\n",
        "print(have_common_member(list1, list2))  # Output: True (common element: 5)\n",
        "print(have_common_member(list1, list3))  # Output: False (no common element)\n",
        "\n",
        "\n",
        "def have_common_member(list1, list2):\n",
        "    for item in list1:\n",
        "        if item in list2:\n",
        "            return True\n",
        "    return False\n",
        "\n",
        "# Example usage\n",
        "list1 = [1, 2, 3, 4, 5]\n",
        "list2 = [5, 6, 7, 8]\n",
        "list3 = [10, 20, 30]\n",
        "\n",
        "print(have_common_member(list1, list2))  # Output: True (common element: 5)\n",
        "print(have_common_member(list1, list3))  # Output: False (no common element)\n",
        "\n"
      ],
      "metadata": {
        "colab": {
          "base_uri": "https://localhost:8080/"
        },
        "id": "fOK71G9jrCd4",
        "outputId": "5c39596a-4cd4-4037-96f6-321cd9be5258"
      },
      "execution_count": null,
      "outputs": [
        {
          "output_type": "stream",
          "name": "stdout",
          "text": [
            "True\n",
            "False\n",
            "True\n",
            "False\n"
          ]
        }
      ]
    },
    {
      "cell_type": "code",
      "source": [
        "#Write a python program to check whether two lists are circularly identical.\n",
        "\n",
        "def are_circularly_identical(list1, list2):\n",
        "    \"\"\"\n",
        "    Check whether two lists are circularly identical.\n",
        "\n",
        "    Parameters:\n",
        "    list1 (list): The first list.\n",
        "    list2 (list): The second list.\n",
        "\n",
        "    Returns:\n",
        "    bool: True if the lists are circularly identical, False otherwise.\n",
        "    \"\"\"\n",
        "    if len(list1) != len(list2):\n",
        "        return False  # Circularly identical lists must have the same length\n",
        "\n",
        "    # Concatenate list1 with itself\n",
        "    concatenated = list1 + list1\n",
        "\n",
        "    # Check if list2 is a subsequence of the concatenated list\n",
        "    return ''.join(map(str, list2)) in ''.join(map(str, concatenated))\n",
        "    #''.join(map(str, list2)) converts the list into a single string.\n",
        "\n",
        "\n",
        "# Example usage\n",
        "list1 = [1, 2, 3, 4]\n",
        "list2 = [3, 4, 1, 2]\n",
        "list3 = [4, 3, 2, 1]\n",
        "\n",
        "print(are_circularly_identical(list1, list2))  # Output: True (circularly identical)\n",
        "print(are_circularly_identical(list1, list3))  # Output: False (not circularly identical)\n"
      ],
      "metadata": {
        "colab": {
          "base_uri": "https://localhost:8080/"
        },
        "id": "-oOjig99uhMI",
        "outputId": "9bdfbd5b-5402-4503-c0bf-b0d014e67a15"
      },
      "execution_count": null,
      "outputs": [
        {
          "output_type": "stream",
          "name": "stdout",
          "text": [
            "True\n",
            "False\n"
          ]
        }
      ]
    },
    {
      "cell_type": "code",
      "source": [
        "#Write a Python program to find the second smallest and largest number in a list .\n",
        "\n",
        "def find_second_smallest_and_largest(numbers):\n",
        "    \"\"\"\n",
        "    Function to find the second smallest and second largest numbers in a list.\n",
        "\n",
        "    Parameters:\n",
        "    numbers (list): A list of numbers.\n",
        "\n",
        "    Returns:\n",
        "    tuple: A tuple containing the second smallest and second largest numbers.\n",
        "    \"\"\"\n",
        "    if len(numbers) < 2:\n",
        "        return None, None  # Not enough elements for second smallest/largest\n",
        "\n",
        "    # Remove duplicates and sort the list\n",
        "    unique_numbers = sorted(set(numbers))\n",
        "\n",
        "    if len(unique_numbers) < 2:\n",
        "        return None, None  # Not enough unique elements for second smallest/largest\n",
        "\n",
        "    second_smallest = unique_numbers[1]  # Second element in sorted list\n",
        "    second_largest = unique_numbers[-2]  # Second last element in sorted list\n",
        "\n",
        "    return second_smallest, second_largest\n",
        "\n",
        "\n",
        "# Example usage\n",
        "numbers = [10, 20, 4, 45, 99, 20, 4]\n",
        "second_smallest, second_largest = find_second_smallest_and_largest(numbers)\n",
        "\n",
        "print(\"Second Smallest:\", second_smallest)\n",
        "print(\"Second Largest:\", second_largest)\n"
      ],
      "metadata": {
        "colab": {
          "base_uri": "https://localhost:8080/"
        },
        "id": "6TAMbql8wSsa",
        "outputId": "5d3e0a13-f2a6-4db0-bd23-4ee6169c9df9"
      },
      "execution_count": null,
      "outputs": [
        {
          "output_type": "stream",
          "name": "stdout",
          "text": [
            "Second Smallest: 10\n",
            "Second Largest: 45\n"
          ]
        }
      ]
    },
    {
      "cell_type": "markdown",
      "source": [
        "#Write a Python program to compute the difference between two lists.\n",
        "\n",
        "Sample data: [\"red\", \"orange\", \"green\", \"blue\", \"white\"], [\"black\", \"yellow\", \"green\", \"blue\"]\n",
        "Expected Output:\n",
        "Color1-Color2: ['white', 'orange', 'red']\n",
        "Color2-Color1: ['black', 'yellow']"
      ],
      "metadata": {
        "id": "pxPZ-cHOxaVj"
      }
    },
    {
      "cell_type": "code",
      "source": [
        "def list_difference(list1, list2):\n",
        "    \"\"\"\n",
        "    Function to compute the difference between two lists.\n",
        "\n",
        "    Parameters:\n",
        "    list1 (list): The first list.\n",
        "    list2 (list): The second list.\n",
        "\n",
        "    Returns:\n",
        "    tuple: A tuple containing the differences (list1 - list2 and list2 - list1).\n",
        "    \"\"\"\n",
        "    # Compute the differences\n",
        "    difference1 = [item for item in list1 if item not in list2]\n",
        "    difference2 = [item for item in list2 if item not in list1]\n",
        "\n",
        "    return difference1, difference2\n",
        "\n",
        "\n",
        "# Sample data\n",
        "list1 = [\"red\", \"orange\", \"green\", \"blue\", \"white\"]\n",
        "list2 = [\"black\", \"yellow\", \"green\", \"blue\"]\n",
        "\n",
        "# Compute differences\n",
        "diff1, diff2 = list_difference(list1, list2)\n",
        "\n",
        "# Print results\n",
        "print(\"Color1-Color2:\", diff1)\n",
        "print(\"Color2-Color1:\", diff2)\n",
        "\n"
      ],
      "metadata": {
        "colab": {
          "base_uri": "https://localhost:8080/"
        },
        "id": "G8_F8MNcxVLx",
        "outputId": "650db295-fe53-4368-a065-275f467e7a18"
      },
      "execution_count": null,
      "outputs": [
        {
          "output_type": "stream",
          "name": "stdout",
          "text": [
            "Color1-Color2: ['red', 'orange', 'white']\n",
            "Color2-Color1: ['black', 'yellow']\n"
          ]
        }
      ]
    },
    {
      "cell_type": "code",
      "source": [
        "#Write a Python program to find the item with maximum occurrences in a given list.\n",
        "def find_max_occurrences(lst):\n",
        "    \"\"\"\n",
        "    Function to find the item with the maximum occurrences in a list.\n",
        "\n",
        "    Parameters:\n",
        "    lst (list): The list of items.\n",
        "\n",
        "    Returns:\n",
        "    tuple: A tuple containing the item with the maximum occurrences and its count.\n",
        "    \"\"\"\n",
        "    if not lst:\n",
        "        return None, 0  # Return None if the list is empty\n",
        "\n",
        "    # Create a dictionary to count occurrences\n",
        "    occurrences = {}\n",
        "    for item in lst:\n",
        "        occurrences[item] = occurrences.get(item, 0) + 1\n",
        "\n",
        "    # Find the item with the maximum occurrences\n",
        "    max_item = max(occurrences, key=occurrences.get)\n",
        "    max_count = occurrences[max_item]\n",
        "\n",
        "    return max_item, max_count\n",
        "\n",
        "\n",
        "# Example usage\n",
        "data = [1, 2, 2, 3]\n",
        "item, count = find_max_occurrences(data)\n",
        "\n",
        "print(f\"Item with maximum occurrences: {item} (Count: {count})\")\n",
        "\n"
      ],
      "metadata": {
        "colab": {
          "base_uri": "https://localhost:8080/"
        },
        "id": "PYHKy8Gjxtl5",
        "outputId": "ea150039-e967-433d-d312-b22d09fb484d"
      },
      "execution_count": null,
      "outputs": [
        {
          "output_type": "stream",
          "name": "stdout",
          "text": [
            "Item with maximum occurrences: 2 (Count: 2)\n"
          ]
        }
      ]
    },
    {
      "cell_type": "markdown",
      "source": [
        "##occurrences.get(item, 0)\n",
        "###occurrences.get(item): Looks for the current item in the dictionary\n",
        "###If item exists, it returns the value (current count).\n",
        "###If item does not exist, it returns the default value (0).\n",
        "\n",
        "##max_item = max(occurrences, key=occurrences.get)\n",
        "\n",
        "###max() iterates over the keys of occurrences: 1, 2, 3.\n",
        "###For each key, it calls occurrences.get(key):\n",
        "####occurrences.get(1) → 1\n",
        "####occurrences.get(2) → 2\n",
        "####occurrences.get(3) → 1\n",
        "\n",
        "##occurrences.get(item) retrieves the count of the item from the dictionary."
      ],
      "metadata": {
        "id": "2_lYJ61yzlpy"
      }
    },
    {
      "cell_type": "code",
      "source": [
        "#Write a Python program to check if the elements of a given list are unique or not\n",
        "def are_elements_unique(lst):\n",
        "    \"\"\"\n",
        "    Function to check if all elements in a list are unique.\n",
        "\n",
        "    Parameters:\n",
        "    lst (list): The input list to check.\n",
        "\n",
        "    Returns:\n",
        "    bool: True if all elements are unique, False otherwise.\n",
        "    \"\"\"\n",
        "    # Convert the list to a set to remove duplicates\n",
        "    unique_elements = set(lst)\n",
        "    print(unique_elements)\n",
        "\n",
        "    # Compare lengths to check uniqueness\n",
        "    if len(lst) == len(unique_elements):\n",
        "        return True\n",
        "    return False\n",
        "\n",
        "# Example usage\n",
        "numbers = [1, 2, 3, 4, 5]\n",
        "result = are_elements_unique(numbers)\n",
        "print(f\"Are elements in the list unique? {result}\")\n",
        "\n",
        "numbers_with_duplicates = [1, 2, 2, 4, 5]\n",
        "result = are_elements_unique(numbers_with_duplicates)\n",
        "print(f\"Are elements in the list unique? {result}\")\n"
      ],
      "metadata": {
        "colab": {
          "base_uri": "https://localhost:8080/"
        },
        "id": "tjTfpFzo32mR",
        "outputId": "27f7921a-4d98-4b0a-9c4e-08edd8e99a89"
      },
      "execution_count": null,
      "outputs": [
        {
          "output_type": "stream",
          "name": "stdout",
          "text": [
            "{1, 2, 3, 4, 5}\n",
            "Are elements in the list unique? True\n",
            "{1, 2, 4, 5}\n",
            "Are elements in the list unique? False\n"
          ]
        }
      ]
    },
    {
      "cell_type": "markdown",
      "source": [
        "#Python Tuples"
      ],
      "metadata": {
        "id": "0u6WqP9Gz7Ee"
      }
    },
    {
      "cell_type": "markdown",
      "source": [
        "##A tuple is a collection of immutable elements. Once created, its content cannot be changed (unlike a list). Tuples are used for grouping data and ensuring its integrity.\n",
        "\n"
      ],
      "metadata": {
        "id": "hDNsE8RFz-0_"
      }
    },
    {
      "cell_type": "markdown",
      "source": [
        "###Empty Tuple"
      ],
      "metadata": {
        "id": "L5nkuHNw0bQN"
      }
    },
    {
      "cell_type": "code",
      "source": [
        "empty_tuple = ()\n",
        "print(empty_tuple)  # Output: ()\n"
      ],
      "metadata": {
        "colab": {
          "base_uri": "https://localhost:8080/"
        },
        "id": "3ANiTNm-0hSY",
        "outputId": "bf0c3593-01a5-4fe2-ca94-6483e7136d1a"
      },
      "execution_count": null,
      "outputs": [
        {
          "output_type": "stream",
          "name": "stdout",
          "text": [
            "()\n"
          ]
        }
      ]
    },
    {
      "cell_type": "markdown",
      "source": [
        "#Single Element Tuple"
      ],
      "metadata": {
        "id": "a-Z9_vEe0kOK"
      }
    },
    {
      "cell_type": "code",
      "source": [
        "single_tuple = (1,)  # Notice the comma\n",
        "print(single_tuple)  # Output: (1,)\n"
      ],
      "metadata": {
        "colab": {
          "base_uri": "https://localhost:8080/"
        },
        "id": "6T9J6Eb80m3M",
        "outputId": "0572a77f-94f1-4809-fd26-a0a2f174eed5"
      },
      "execution_count": null,
      "outputs": [
        {
          "output_type": "stream",
          "name": "stdout",
          "text": [
            "(1,)\n"
          ]
        }
      ]
    },
    {
      "cell_type": "markdown",
      "source": [
        "###Multiple Elements Tuple"
      ],
      "metadata": {
        "id": "7m3rI3bD0rgS"
      }
    },
    {
      "cell_type": "code",
      "source": [
        "multi_tuple = (1, 2, 3)\n",
        "print(multi_tuple)  # Output: (1, 2, 3)\n"
      ],
      "metadata": {
        "colab": {
          "base_uri": "https://localhost:8080/"
        },
        "id": "5gJxYbLL0tIX",
        "outputId": "39f1339c-56e4-4fe6-c507-f98a63819153"
      },
      "execution_count": null,
      "outputs": [
        {
          "output_type": "stream",
          "name": "stdout",
          "text": [
            "(1, 2, 3)\n"
          ]
        }
      ]
    },
    {
      "cell_type": "markdown",
      "source": [
        "###Without Parentheses (Tuple Packing)"
      ],
      "metadata": {
        "id": "-vsWOFIO1lqz"
      }
    },
    {
      "cell_type": "markdown",
      "source": [
        "###When multiple values are assigned to a single variable or returned from a function, they are automatically \"packed\" into a tuple, even if no parentheses are provided."
      ],
      "metadata": {
        "id": "MaacnDwF1wFN"
      }
    },
    {
      "cell_type": "code",
      "source": [
        "packed_tuple = 1, 2, 3\n",
        "print(packed_tuple)  # Output: (1, 2, 3)\n",
        "\n",
        "# Tuple packing without parentheses\n",
        "packed_tuple = 1, 2, 3\n",
        "print(packed_tuple)  # Output: (1, 2, 3)\n",
        "print(type(packed_tuple))  # Output: <class 'tuple'>\n",
        "\n",
        "#Returning Multiple Values from a Function\n",
        "def get_coordinates():\n",
        "    return 10, 20  # Tuple packing without parentheses\n",
        "\n",
        "result = get_coordinates()\n",
        "print(result)  # Output: (10, 20)\n",
        "\n"
      ],
      "metadata": {
        "colab": {
          "base_uri": "https://localhost:8080/"
        },
        "id": "UO8FMOjJ1pH4",
        "outputId": "60af3cc7-ed7d-4cf0-8b48-96946eb691ae"
      },
      "execution_count": null,
      "outputs": [
        {
          "output_type": "stream",
          "name": "stdout",
          "text": [
            "(1, 2, 3)\n",
            "(1, 2, 3)\n",
            "<class 'tuple'>\n",
            "(10, 20)\n"
          ]
        }
      ]
    },
    {
      "cell_type": "markdown",
      "source": [
        "##Using tuple() Constructor\n"
      ],
      "metadata": {
        "id": "pFrw75CJ2XjI"
      }
    },
    {
      "cell_type": "markdown",
      "source": [
        "###In Python, the tuple() constructor is used to create a tuple explicitly. It can take any iterable (like a list, set, string, or range) as an argument and convert it into a tuple."
      ],
      "metadata": {
        "id": "50YmYWuZ2bXF"
      }
    },
    {
      "cell_type": "code",
      "source": [
        "#Converting a List to a Tuple\n",
        "my_list = [1, 2, 3, 4]\n",
        "my_tuple = tuple(my_list)\n",
        "print(my_tuple)  # Output: (1, 2, 3, 4)\n",
        "\n",
        "#Converting a String to a Tuple\n",
        "my_string = \"hello\"\n",
        "my_tuple = tuple(my_string)\n",
        "print(my_tuple)  # Output: ('h', 'e', 'l', 'l', 'o')\n",
        "\n",
        "#Converting a Set to a Tuple\n",
        "my_set = {5, 1, 3}\n",
        "my_tuple = tuple(my_set)\n",
        "print(my_tuple)  # Output: (5, 1, 3) or other order depending on the set\n",
        "\n",
        "#Converting a Dictionary to a Tuple\n",
        "my_dict = {'a': 1, 'b': 2, 'c': 3}\n",
        "my_tuple = tuple(my_dict)\n",
        "print(my_tuple)  # Output: ('a', 'b', 'c')\n"
      ],
      "metadata": {
        "colab": {
          "base_uri": "https://localhost:8080/"
        },
        "id": "uuQC7-Na2ir_",
        "outputId": "727b80ce-6a4e-47ce-e674-431a5d6a143e"
      },
      "execution_count": null,
      "outputs": [
        {
          "output_type": "stream",
          "name": "stdout",
          "text": [
            "(1, 2, 3, 4)\n",
            "('h', 'e', 'l', 'l', 'o')\n",
            "(1, 3, 5)\n",
            "('a', 'b', 'c')\n"
          ]
        }
      ]
    },
    {
      "cell_type": "code",
      "source": [
        "#Accessing Elements\n",
        "my_tuple = (10, 20, 30, 40)\n",
        "\n",
        "# Access by index\n",
        "print(my_tuple[0])  # Output: 10\n",
        "\n",
        "# Negative indexing\n",
        "print(my_tuple[-1])  # Output: 40\n"
      ],
      "metadata": {
        "colab": {
          "base_uri": "https://localhost:8080/"
        },
        "id": "zTVrZzH33MqM",
        "outputId": "c02028c8-b93d-47eb-edf1-1d07040d6f62"
      },
      "execution_count": null,
      "outputs": [
        {
          "output_type": "stream",
          "name": "stdout",
          "text": [
            "10\n",
            "40\n"
          ]
        }
      ]
    },
    {
      "cell_type": "code",
      "source": [
        "#Slicing Tuples\n",
        "slice_tuple = (10, 20, 30, 40, 50)\n",
        "\n",
        "# Slicing\n",
        "print(slice_tuple[1:4])  # Output: (20, 30, 40)\n",
        "\n",
        "# Step slicing\n",
        "print(slice_tuple[::2])  # Output: (10, 30, 50)\n"
      ],
      "metadata": {
        "colab": {
          "base_uri": "https://localhost:8080/"
        },
        "id": "83xmj2aZ3TpH",
        "outputId": "d8b4cf83-7567-4e9c-c230-23ff0fc50064"
      },
      "execution_count": null,
      "outputs": [
        {
          "output_type": "stream",
          "name": "stdout",
          "text": [
            "(20, 30, 40)\n",
            "(10, 30, 50)\n"
          ]
        }
      ]
    },
    {
      "cell_type": "code",
      "source": [
        "#Tuple Operations\n",
        "\n",
        "##Concatenation\n",
        "tuple1 = (1, 2, 3)\n",
        "tuple2 = (4, 5)\n",
        "result = tuple1 + tuple2\n",
        "print(result)  # Output: (1, 2, 3, 4, 5)\n",
        "\n",
        "##Repetition\n",
        "repeated_tuple = (1, 2) * 3\n",
        "print(repeated_tuple)  # Output: (1, 2, 1, 2, 1, 2)\n",
        "\n",
        "##Membership Test\n",
        "my_tuple = (10, 20, 30)\n",
        "print(20 in my_tuple)  # Output: True\n",
        "print(40 in my_tuple)  # Output: False\n",
        "\n",
        "##count()\n",
        "my_tuple = (1, 2, 2, 3, 4)\n",
        "print(my_tuple.count(2))  # Output: 2\n",
        "\n",
        "##index()\n",
        "my_tuple = (10, 20, 30, 40)\n",
        "print(my_tuple.index(30))  # Output: 2\n",
        "\n",
        "##Unpacking Tuples\n",
        "my_tuple = (10, 20, 30)\n",
        "a, b, c = my_tuple # Unpacking into variables\n",
        "print(a, b, c)  # Output: 10 20 30\n",
        "\n",
        "##Nested Tuples\n",
        "nested_tuple = (1, (2, 3), (4, (5, 6)))\n",
        "print(nested_tuple[1][1])  # Output: 3\n",
        "print(nested_tuple[2][1][0])  # Output: 5\n",
        "\n",
        "##Immutability of Tuples\n",
        "###Tuples cannot be modified:\n",
        "my_tuple = (1, 2, 3)\n",
        "# my_tuple[0] = 10  # This will raise an error\n",
        "\n",
        "##Tuple as Dictionary Keys\n",
        "my_dict = { (1, 2): \"value\", (3, 4): \"another value\" }\n",
        "print(my_dict[(1, 2)])  # Output: value\n",
        "\n",
        "##Tuple Comparisons\n",
        "print((1, 2, 3) < (1, 3, 2))  # Output: True\n",
        "print((1, 2, 3) == (1, 2, 3))  # Output: True\n",
        "\n",
        "##List to Tuple\n",
        "my_list = [1, 2, 3]\n",
        "my_tuple = tuple(my_list)\n",
        "print(my_tuple)  # Output: (1, 2, 3)\n",
        "\n",
        "##Tuple to List\n",
        "my_tuple = (4, 5, 6)\n",
        "my_list = list(my_tuple)\n",
        "print(my_list)  # Output: [4, 5, 6]\n"
      ],
      "metadata": {
        "colab": {
          "base_uri": "https://localhost:8080/"
        },
        "id": "OLsu7daA3YBn",
        "outputId": "060f7ba4-8c4e-4030-d31f-84a323bd381a"
      },
      "execution_count": null,
      "outputs": [
        {
          "output_type": "stream",
          "name": "stdout",
          "text": [
            "(1, 2, 3, 4, 5)\n",
            "(1, 2, 1, 2, 1, 2)\n",
            "True\n",
            "False\n",
            "2\n",
            "2\n",
            "10 20 30\n",
            "3\n",
            "5\n",
            "value\n",
            "True\n",
            "True\n",
            "(1, 2, 3)\n",
            "[4, 5, 6]\n"
          ]
        }
      ]
    },
    {
      "cell_type": "markdown",
      "source": [
        "#dictionaries"
      ],
      "metadata": {
        "id": "zGnFVI9hFKZW"
      }
    },
    {
      "cell_type": "markdown",
      "source": [
        "## Creating Dictionaries:"
      ],
      "metadata": {
        "id": "hUp97aqrFxfG"
      }
    },
    {
      "cell_type": "code",
      "source": [
        "# Creating an empty dictionary\n",
        "my_dict = {}\n",
        "\n",
        "# Creating a dictionary with key-value pairs\n",
        "my_dict = {'name': 'Alice', 'age': 25, 'city': 'New York'}\n",
        "print(my_dict)\n"
      ],
      "metadata": {
        "colab": {
          "base_uri": "https://localhost:8080/"
        },
        "id": "bc4GQcwHFz0N",
        "outputId": "eded0c52-083c-4110-e524-7ee613b4d9b8"
      },
      "execution_count": null,
      "outputs": [
        {
          "output_type": "stream",
          "name": "stdout",
          "text": [
            "{'name': 'Alice', 'age': 25, 'city': 'New York'}\n"
          ]
        }
      ]
    },
    {
      "cell_type": "markdown",
      "source": [
        "##Using dict() Constructor:\n"
      ],
      "metadata": {
        "id": "qj4lxeBlF6EP"
      }
    },
    {
      "cell_type": "code",
      "source": [
        "my_dict = dict(name='Alice', age=25, city='New York')\n",
        "print(my_dict)\n"
      ],
      "metadata": {
        "colab": {
          "base_uri": "https://localhost:8080/"
        },
        "id": "6fAFJEKPF_4m",
        "outputId": "5be0ae65-7e58-4be9-e82d-aaaf4edd9e08"
      },
      "execution_count": null,
      "outputs": [
        {
          "output_type": "stream",
          "name": "stdout",
          "text": [
            "{'name': 'Alice', 'age': 25, 'city': 'New York'}\n"
          ]
        }
      ]
    },
    {
      "cell_type": "code",
      "source": [
        "person = {\n",
        "    'name': 'Ford',\n",
        "    \"age\": 25,\n",
        "    'job': 'Dev',\n",
        "    \"city\": 'New York',\n",
        "    'email': 'bob@web.com'\n",
        "}\n",
        "print(person)\n",
        "\n",
        "print(person[\"name\"])\n",
        "person['height']=5.6\n",
        "print(person)"
      ],
      "metadata": {
        "colab": {
          "base_uri": "https://localhost:8080/"
        },
        "id": "gheU-yjlGHsm",
        "outputId": "07839eee-802a-4b04-bb24-0f20063bac88"
      },
      "execution_count": null,
      "outputs": [
        {
          "output_type": "stream",
          "name": "stdout",
          "text": [
            "{'name': 'Ford', 'age': 25, 'job': 'Dev', 'city': 'New York', 'email': 'bob@web.com'}\n",
            "Ford\n",
            "{'name': 'Ford', 'age': 25, 'job': 'Dev', 'city': 'New York', 'email': 'bob@web.com', 'height': 5.6}\n"
          ]
        }
      ]
    },
    {
      "cell_type": "markdown",
      "source": [
        "# Accessing Dictionary Items:"
      ],
      "metadata": {
        "id": "RN53CkIJGRCh"
      }
    },
    {
      "cell_type": "code",
      "source": [
        "print(my_dict['name'])  # Output: Alice\n"
      ],
      "metadata": {
        "colab": {
          "base_uri": "https://localhost:8080/"
        },
        "id": "Wr77S7BwGX2m",
        "outputId": "68cb5549-69c7-4e86-a257-51aed5356698"
      },
      "execution_count": null,
      "outputs": [
        {
          "output_type": "stream",
          "name": "stdout",
          "text": [
            "Alice\n"
          ]
        }
      ]
    },
    {
      "cell_type": "markdown",
      "source": [
        "###Using get() Method (Returns None if key doesn't exist):"
      ],
      "metadata": {
        "id": "tPegr3oDGeYy"
      }
    },
    {
      "cell_type": "code",
      "source": [
        "print(my_dict.get('age'))  # Output: 25\n",
        "print(my_dict.get('address'))  # Output: None\n"
      ],
      "metadata": {
        "colab": {
          "base_uri": "https://localhost:8080/"
        },
        "id": "bJFLZVoAGgS-",
        "outputId": "9a67d18d-8f88-4eb4-a01f-f2220f4cace9"
      },
      "execution_count": null,
      "outputs": [
        {
          "output_type": "stream",
          "name": "stdout",
          "text": [
            "25\n",
            "None\n"
          ]
        }
      ]
    },
    {
      "cell_type": "markdown",
      "source": [
        "##3. Adding or Modifying Dictionary Items:"
      ],
      "metadata": {
        "id": "6vrQdbjIG5pW"
      }
    },
    {
      "cell_type": "code",
      "source": [
        "# Adding a new key-value pair\n",
        "my_dict['address'] = '123 Main St'\n",
        "\n",
        "# Modifying an existing key-value pair\n",
        "my_dict['age'] = 26\n",
        "print(my_dict)\n"
      ],
      "metadata": {
        "colab": {
          "base_uri": "https://localhost:8080/"
        },
        "id": "bbHtjedqG7fP",
        "outputId": "b39bdfcc-b951-40e8-f221-8a8feaa1529e"
      },
      "execution_count": null,
      "outputs": [
        {
          "output_type": "stream",
          "name": "stdout",
          "text": [
            "{'name': 'Alice', 'age': 26, 'city': 'New York', 'address': '123 Main St'}\n"
          ]
        }
      ]
    },
    {
      "cell_type": "markdown",
      "source": [
        "## . Removing Items from Dictionary:"
      ],
      "metadata": {
        "id": "LGnEJnOLG-3v"
      }
    },
    {
      "cell_type": "code",
      "source": [
        "del my_dict['age']\n",
        "print(my_dict)  # Removes the 'age' key-value pair\n"
      ],
      "metadata": {
        "colab": {
          "base_uri": "https://localhost:8080/"
        },
        "id": "V7V2dDtRHAVd",
        "outputId": "21f41727-e3a3-410c-ad75-9c289fbae96c"
      },
      "execution_count": null,
      "outputs": [
        {
          "output_type": "stream",
          "name": "stdout",
          "text": [
            "{'name': 'Alice', 'city': 'New York', 'address': '123 Main St'}\n"
          ]
        }
      ]
    },
    {
      "cell_type": "markdown",
      "source": [
        "###Using pop()"
      ],
      "metadata": {
        "id": "OCe9NaiEHGRQ"
      }
    },
    {
      "cell_type": "code",
      "source": [
        "address = my_dict.pop('address', 'Not Found')  # Removes 'address' and returns its value\n",
        "print(address)  # Output: 123 Main St\n",
        "print(my_dict)\n"
      ],
      "metadata": {
        "colab": {
          "base_uri": "https://localhost:8080/"
        },
        "id": "wtnoTkIoHJg_",
        "outputId": "0d078c9b-676f-4496-a802-596e0cab7c07"
      },
      "execution_count": null,
      "outputs": [
        {
          "output_type": "stream",
          "name": "stdout",
          "text": [
            "Not Found\n",
            "{'name': 'Alice', 'city': 'New York'}\n"
          ]
        }
      ]
    },
    {
      "cell_type": "markdown",
      "source": [
        "###Using popitem() (removes the last inserted key-value pair):"
      ],
      "metadata": {
        "id": "ihrIufijHb8x"
      }
    },
    {
      "cell_type": "code",
      "source": [
        "last_item = my_dict.popitem()\n",
        "print(last_item)  # Output: ('city', 'New York')\n"
      ],
      "metadata": {
        "colab": {
          "base_uri": "https://localhost:8080/"
        },
        "id": "vJ3l4iK8Hl_g",
        "outputId": "c67f89f2-e1a9-4160-a2d7-e437ed668258"
      },
      "execution_count": null,
      "outputs": [
        {
          "output_type": "stream",
          "name": "stdout",
          "text": [
            "('city', 'New York')\n"
          ]
        }
      ]
    },
    {
      "cell_type": "markdown",
      "source": [
        "###Using clear():"
      ],
      "metadata": {
        "id": "bbmOXb1iHq3J"
      }
    },
    {
      "cell_type": "code",
      "source": [
        "my_dict.clear()  # Clears the dictionary\n",
        "print(my_dict)   # Output: {}\n"
      ],
      "metadata": {
        "colab": {
          "base_uri": "https://localhost:8080/"
        },
        "id": "uXe-l5ruHsSP",
        "outputId": "d2594ace-0875-451e-9fda-d53c9e724879"
      },
      "execution_count": null,
      "outputs": [
        {
          "output_type": "stream",
          "name": "stdout",
          "text": [
            "{}\n"
          ]
        }
      ]
    },
    {
      "cell_type": "markdown",
      "source": [
        "##5. Merging Dictionaries:\n",
        "### overide same key value"
      ],
      "metadata": {
        "id": "WCUVWsgYHvzn"
      }
    },
    {
      "cell_type": "code",
      "source": [
        "dict1 = {'a': 1, 'b': 2}\n",
        "dict2 = {'b': 3, 'c': 4}\n",
        "dict1.update(dict2)  # Merges dict2 into dict1, modifying dict1\n",
        "print(dict1)  # Output: {'a': 1, 'b': 3, 'c': 4}\n"
      ],
      "metadata": {
        "colab": {
          "base_uri": "https://localhost:8080/"
        },
        "id": "hv3tU7yTHxzY",
        "outputId": "0f4f0f22-ee89-4dd1-d387-62e1af12e76b"
      },
      "execution_count": null,
      "outputs": [
        {
          "output_type": "stream",
          "name": "stdout",
          "text": [
            "{'a': 1, 'b': 3, 'c': 4}\n"
          ]
        }
      ]
    },
    {
      "cell_type": "markdown",
      "source": [
        "###Using {**dict1, **dict2}"
      ],
      "metadata": {
        "id": "f_uBNzATH_OZ"
      }
    },
    {
      "cell_type": "code",
      "source": [
        "dict1 = {'a': 1, 'b': 2}\n",
        "dict2 = {'b': 3, 'c': 4}\n",
        "merged_dict = {**dict1, **dict2}\n",
        "print(merged_dict)  # Output: {'a': 1, 'b': 3, 'c': 4}\n"
      ],
      "metadata": {
        "colab": {
          "base_uri": "https://localhost:8080/"
        },
        "id": "A9gfQSVhIAwd",
        "outputId": "fae5b362-8eb5-42fc-dc2c-70003d7a9180"
      },
      "execution_count": null,
      "outputs": [
        {
          "output_type": "stream",
          "name": "stdout",
          "text": [
            "{'a': 1, 'b': 3, 'c': 4}\n"
          ]
        }
      ]
    },
    {
      "cell_type": "markdown",
      "source": [
        "#6. Iterating Over a Dictionary:"
      ],
      "metadata": {
        "id": "QiAI2C_5IPR2"
      }
    },
    {
      "cell_type": "markdown",
      "source": [
        "###Iterating through Keys:\n"
      ],
      "metadata": {
        "id": "QuxA-1SZITzw"
      }
    },
    {
      "cell_type": "code",
      "source": [
        "for key in my_dict:\n",
        "    print(key)\n"
      ],
      "metadata": {
        "id": "XmBpcO6cIW0m"
      },
      "execution_count": null,
      "outputs": []
    },
    {
      "cell_type": "markdown",
      "source": [
        "###Iterating through Values:"
      ],
      "metadata": {
        "id": "XWddXTovIadc"
      }
    },
    {
      "cell_type": "code",
      "source": [
        "for value in my_dict.values():\n",
        "    print(value)\n"
      ],
      "metadata": {
        "id": "Z0650QDxIRzf"
      },
      "execution_count": null,
      "outputs": []
    },
    {
      "cell_type": "markdown",
      "source": [
        "###Iterating through Key-Value Pairs:"
      ],
      "metadata": {
        "id": "munqmroMIe4y"
      }
    },
    {
      "cell_type": "code",
      "source": [
        "for key, value in my_dict.items():\n",
        "    print(f\"{key}: {value}\")\n"
      ],
      "metadata": {
        "id": "v9qCKU90Igzu"
      },
      "execution_count": null,
      "outputs": []
    },
    {
      "cell_type": "markdown",
      "source": [
        "##Checking if a Key Exists:\n"
      ],
      "metadata": {
        "id": "8q7vDegDI2KA"
      }
    },
    {
      "cell_type": "markdown",
      "source": [
        "###Using in:"
      ],
      "metadata": {
        "id": "87Nxx4StJEkf"
      }
    },
    {
      "cell_type": "code",
      "source": [
        "if 'name' in my_dict:\n",
        "    print(\"Key exists!\")\n"
      ],
      "metadata": {
        "id": "1mKpOkeBJII2"
      },
      "execution_count": null,
      "outputs": []
    },
    {
      "cell_type": "markdown",
      "source": [
        "##Using get() (Returns None if key doesn't exist):"
      ],
      "metadata": {
        "id": "aDN_P-7kJJx_"
      }
    },
    {
      "cell_type": "code",
      "source": [
        "if my_dict.get('city'):\n",
        "    print(\"City exists!\")\n",
        "else:\n",
        "  print(\"city not exist\")\n"
      ],
      "metadata": {
        "colab": {
          "base_uri": "https://localhost:8080/"
        },
        "id": "oPuX_MkiJNuq",
        "outputId": "b95761d6-4513-4494-caa0-ad1e6bf2f10e"
      },
      "execution_count": null,
      "outputs": [
        {
          "output_type": "stream",
          "name": "stdout",
          "text": [
            "City exists!\n"
          ]
        }
      ]
    },
    {
      "cell_type": "code",
      "source": [
        "my_dict.items()#list of tuples created"
      ],
      "metadata": {
        "colab": {
          "base_uri": "https://localhost:8080/"
        },
        "id": "iaH5IgYnVDSb",
        "outputId": "aa948ad7-7ffb-4995-ba02-4163e9167e36"
      },
      "execution_count": null,
      "outputs": [
        {
          "output_type": "execute_result",
          "data": {
            "text/plain": [
              "dict_items([('name', 'Alice'), ('age', 25), ('city', 'New York')])"
            ]
          },
          "metadata": {},
          "execution_count": 6
        }
      ]
    },
    {
      "cell_type": "markdown",
      "source": [
        "## Dictionary Comprehensions:"
      ],
      "metadata": {
        "id": "UYRFV-xnJ5St"
      }
    },
    {
      "cell_type": "code",
      "source": [
        "squared_numbers = {x: x**2 for x in range(5)}\n",
        "print(squared_numbers)  # Output: {0: 0, 1: 1, 2: 4, 3: 9, 4: 16}\n"
      ],
      "metadata": {
        "colab": {
          "base_uri": "https://localhost:8080/"
        },
        "id": "oYwbnrpuJ7Ir",
        "outputId": "513dc5e2-d334-4930-e33b-2fa72ca8c715"
      },
      "execution_count": null,
      "outputs": [
        {
          "output_type": "stream",
          "name": "stdout",
          "text": [
            "{0: 0, 1: 1, 2: 4, 3: 9, 4: 16}\n"
          ]
        }
      ]
    },
    {
      "cell_type": "markdown",
      "source": [
        "##Reversing Key-Value Pairs (Swapping keys and values):"
      ],
      "metadata": {
        "id": "n40neRLSKCtX"
      }
    },
    {
      "cell_type": "code",
      "source": [
        "original_dict = {'a': 1, 'b': 2, 'c': 3}\n",
        "swapped_dict = {value: key for key, value in original_dict.items()}\n",
        "print(swapped_dict)  # Output: {1: 'a', 2: 'b', 3: 'c'}\n"
      ],
      "metadata": {
        "colab": {
          "base_uri": "https://localhost:8080/"
        },
        "id": "stWVmz6gKEcQ",
        "outputId": "671866e7-1bb4-40e5-c8cc-12db1ae0cdf5"
      },
      "execution_count": null,
      "outputs": [
        {
          "output_type": "stream",
          "name": "stdout",
          "text": [
            "{1: 'a', 2: 'b', 3: 'c'}\n"
          ]
        }
      ]
    },
    {
      "cell_type": "markdown",
      "source": [
        "##Sorting a Dictionary:\n",
        "\n"
      ],
      "metadata": {
        "id": "ufsrkb92KLZO"
      }
    },
    {
      "cell_type": "markdown",
      "source": [
        "## sorting by Keys\n",
        "\n",
        "####sorted(my_dict):\n",
        "####sorted() is a built-in Python function that returns a sorted list.\n",
        "####When applied to a dictionary, my_dict, it sorts the dictionary by keys (since the default behavior of sorted() is to sort the keys of the dictionary).\n",
        "\n",
        "###or k in sorted(my_dict):\n",
        "###This part is a loop that iterates over the sorted keys of my_dict.\n",
        "\n",
        "##For each key k in the sorted list, we access the value in my_dict using my_dict[k]."
      ],
      "metadata": {
        "id": "0f8tClEuWqEE"
      }
    },
    {
      "cell_type": "code",
      "source": [
        "my_dict = {'b': 2, 'a': 1, 'c': 3}\n",
        "sorted_dict = {k: my_dict[k] for k in sorted(my_dict)}\n",
        "print(sorted_dict)  # Output: {'a': 1, 'b': 2, 'c': 3}\n"
      ],
      "metadata": {
        "id": "4hbF38yQKMtF",
        "colab": {
          "base_uri": "https://localhost:8080/"
        },
        "outputId": "3b226275-f840-4801-edde-adb96d12df4c"
      },
      "execution_count": null,
      "outputs": [
        {
          "output_type": "stream",
          "name": "stdout",
          "text": [
            "{'a': 1, 'b': 2, 'c': 3}\n"
          ]
        }
      ]
    },
    {
      "cell_type": "markdown",
      "source": [
        "## Sorting by values\n",
        "### my_dict.items()  return the dictionary as tuples\n",
        "\n",
        "###sorted(my_dict.items(), key=lambda item: item[1]):\n",
        "\n",
        "####The sorted() function is used to sort the list of tuples returned by my_dict.items().\n",
        "####sorted() takes an optional key argument, which specifies a function to extract the value for sorting.\n",
        "####Here, key=lambda item: item[1] means we're sorting by the second element of each tuple (i.e., the values in the dictionary).\n",
        "####sorted_dict = {k: v for k, v in sorted_items}\n",
        "\n",
        "\n"
      ],
      "metadata": {
        "id": "8oTMa2QvW4HT"
      }
    },
    {
      "cell_type": "code",
      "source": [
        "sorted_dict_by_values = {k: v for k, v in sorted(my_dict.items(), key=lambda item: item[1])}\n",
        "print(sorted_dict_by_values)\n"
      ],
      "metadata": {
        "colab": {
          "base_uri": "https://localhost:8080/"
        },
        "id": "pnvVYp5dX8Ha",
        "outputId": "d227ff38-d434-4089-c33f-4893b7dc3210"
      },
      "execution_count": null,
      "outputs": [
        {
          "output_type": "stream",
          "name": "stdout",
          "text": [
            "{'a': 1, 'b': 2, 'c': 3}\n"
          ]
        }
      ]
    },
    {
      "cell_type": "markdown",
      "source": [
        "#Dictionary Views:"
      ],
      "metadata": {
        "id": "ZX7vbjKlZEC0"
      }
    },
    {
      "cell_type": "markdown",
      "source": [
        "#### keys view"
      ],
      "metadata": {
        "id": "Lg8xowFfZG2y"
      }
    },
    {
      "cell_type": "code",
      "source": [
        "keys_view = my_dict.keys()\n",
        "print(keys_view)  # Output: dict_keys(['name', 'age', 'city'])\n"
      ],
      "metadata": {
        "colab": {
          "base_uri": "https://localhost:8080/"
        },
        "id": "yT82PDl8ZJu4",
        "outputId": "56565e8d-2101-4388-ab59-bff4f91f2ee7"
      },
      "execution_count": null,
      "outputs": [
        {
          "output_type": "stream",
          "name": "stdout",
          "text": [
            "dict_keys(['b', 'a', 'c'])\n"
          ]
        }
      ]
    },
    {
      "cell_type": "markdown",
      "source": [
        "####Values View:"
      ],
      "metadata": {
        "id": "qwQBSQ5uZNxD"
      }
    },
    {
      "cell_type": "code",
      "source": [
        "values_view = my_dict.values()\n",
        "print(values_view)  # Output: dict_values(['Alice', 26, 'New York'])\n"
      ],
      "metadata": {
        "colab": {
          "base_uri": "https://localhost:8080/"
        },
        "id": "u6dC0B6IZOoN",
        "outputId": "b6719f3d-80e9-4212-df82-1d52809303c7"
      },
      "execution_count": null,
      "outputs": [
        {
          "output_type": "stream",
          "name": "stdout",
          "text": [
            "dict_values([2, 1, 3])\n"
          ]
        }
      ]
    },
    {
      "cell_type": "markdown",
      "source": [
        "####Items View:"
      ],
      "metadata": {
        "id": "eE-t4iIuZZEz"
      }
    },
    {
      "cell_type": "code",
      "source": [
        "items_view = my_dict.items()\n",
        "print(items_view)  # Output: dict_items([('name', 'Alice'), ('age', 26), ('city', 'New York')])\n"
      ],
      "metadata": {
        "colab": {
          "base_uri": "https://localhost:8080/"
        },
        "id": "3xH_b6m2Zb-z",
        "outputId": "5fd8306d-2e01-4057-a860-9cfedd3595e9"
      },
      "execution_count": null,
      "outputs": [
        {
          "output_type": "stream",
          "name": "stdout",
          "text": [
            "dict_items([('b', 2), ('a', 1), ('c', 3)])\n"
          ]
        }
      ]
    },
    {
      "cell_type": "markdown",
      "source": [
        "#Handling Missing Keys (Using get() and setdefault()):"
      ],
      "metadata": {
        "id": "HJvYs_3lZoYN"
      }
    },
    {
      "cell_type": "code",
      "source": [
        "#Handling Missing Keys (Using get() and setdefault()):\n",
        "value = my_dict.get('age', 'Not Available')  # Returns 'Not Available' if 'age' key is missing\n",
        "print(value)\n",
        "\n",
        "#Using setdefault() (Adds the key if it doesn't exist):\n",
        "my_dict.setdefault('email', 'example@example.com')  # Adds the 'email' key if it doesn't exist\n",
        "print(my_dict)\n"
      ],
      "metadata": {
        "colab": {
          "base_uri": "https://localhost:8080/"
        },
        "id": "yej0_K55ZsHk",
        "outputId": "56778fa3-1320-40e7-dc9b-f4a43ab033ce"
      },
      "execution_count": null,
      "outputs": [
        {
          "output_type": "stream",
          "name": "stdout",
          "text": [
            "Not Available\n",
            "{'b': 2, 'a': 1, 'c': 3, 'email': 'example@example.com'}\n"
          ]
        }
      ]
    },
    {
      "cell_type": "markdown",
      "source": [
        "# Nested Dictionaries:"
      ],
      "metadata": {
        "id": "cVlYc9xFaLz7"
      }
    },
    {
      "cell_type": "code",
      "source": [
        "nested_dict = {\n",
        "    'student1': {'name': 'Alice', 'age': 20, 'marks': 90},\n",
        "    'student2': {'name': 'Bob', 'age': 22, 'marks': 85}\n",
        "}\n",
        "print(nested_dict['student1']['name'])  # Output: Alice\n"
      ],
      "metadata": {
        "colab": {
          "base_uri": "https://localhost:8080/"
        },
        "id": "5rwXrw2BaQeU",
        "outputId": "b5de4de5-1f29-4870-c9a6-8f38939c70cf"
      },
      "execution_count": null,
      "outputs": [
        {
          "output_type": "stream",
          "name": "stdout",
          "text": [
            "Alice\n"
          ]
        }
      ]
    },
    {
      "cell_type": "markdown",
      "source": [
        "#Combining Two Dictionaries (Adding values for common keys):\n",
        "\n",
        "###dict1.get(key,0) means?\n",
        "###key: This is the key you are looking for in the dictionary.\n",
        "\n",
        "###0: This is the default value that will be returned if the key does not exist in the dictionary.\n"
      ],
      "metadata": {
        "id": "_kadc5tlbAij"
      }
    },
    {
      "cell_type": "code",
      "source": [
        "dict1 = {'a': 10, 'b': 20}\n",
        "dict2 = {'a': 30, 'b': 40, 'c': 50}\n",
        "\n",
        "# Using a loop\n",
        "combined_dict = {}\n",
        "for key in dict1.keys() | dict2.keys():\n",
        "    combined_dict[key] = dict1.get(key, 0) + dict2.get(key, 0)\n",
        "\n",
        "print(combined_dict)  # Output: {'a': 40, 'b': 60, 'c': 50}\n"
      ],
      "metadata": {
        "colab": {
          "base_uri": "https://localhost:8080/"
        },
        "id": "yYeOoBRIbFNb",
        "outputId": "c47b3174-78c9-46b8-f47c-0df393c6c780"
      },
      "execution_count": null,
      "outputs": [
        {
          "output_type": "stream",
          "name": "stdout",
          "text": [
            "{'b': 60, 'c': 50, 'a': 40}\n"
          ]
        }
      ]
    },
    {
      "cell_type": "markdown",
      "source": [
        "#Problems:"
      ],
      "metadata": {
        "id": "eNjFFx0QcSQL"
      }
    },
    {
      "cell_type": "code",
      "source": [
        "#Write a Python script to check whether a given key already exists in a dictionary.\n",
        "\n",
        "def check_key_in_dict(dictionary, key):\n",
        "    \"\"\"\n",
        "    Function to check if a key exists in a dictionary.\n",
        "\n",
        "    Parameters:\n",
        "    dictionary (dict): The dictionary to check.\n",
        "    key: The key to look for in the dictionary.\n",
        "\n",
        "    Returns:\n",
        "    bool: True if the key exists, False otherwise.\n",
        "    \"\"\"\n",
        "    if key in dictionary:\n",
        "        return True\n",
        "    else:\n",
        "        return False\n",
        "\n",
        "# Example usage\n",
        "my_dict = {'name': 'Alice', 'age': 25, 'city': 'New York'}\n",
        "\n",
        "key_to_check = 'age'\n",
        "if check_key_in_dict(my_dict, key_to_check):\n",
        "    print(f\"The key '{key_to_check}' exists in the dictionary.\")\n",
        "else:\n",
        "    print(f\"The key '{key_to_check}' does not exist in the dictionary.\")\n",
        "\n",
        "key_to_check = 'country'\n",
        "if check_key_in_dict(my_dict, key_to_check):\n",
        "    print(f\"The key '{key_to_check}' exists in the dictionary.\")\n",
        "else:\n",
        "    print(f\"The key '{key_to_check}' does not exist in the dictionary.\")\n"
      ],
      "metadata": {
        "colab": {
          "base_uri": "https://localhost:8080/"
        },
        "id": "lDBoB1HS6Jof",
        "outputId": "26a370fe-6963-4d90-bf5a-2aaa6d63abb8"
      },
      "execution_count": null,
      "outputs": [
        {
          "output_type": "stream",
          "name": "stdout",
          "text": [
            "The key 'age' exists in the dictionary.\n",
            "The key 'country' does not exist in the dictionary.\n"
          ]
        }
      ]
    },
    {
      "cell_type": "code",
      "source": [
        "#Write a Python script to print a dictionary where the keys are numbers between 1 and 15 (both included) and the values are square of keys.\n",
        "\n",
        "def generate_square_dict():\n",
        "    # Create an empty dictionary\n",
        "    square_dict = {}\n",
        "\n",
        "    # Iterate through numbers from 1 to 15\n",
        "    for num in range(1, 16):\n",
        "        square_dict[num] = num ** 2  # Store the square of the number as the value\n",
        "\n",
        "    return square_dict\n",
        "\n",
        "# Call the function and print the result\n",
        "square_dict = generate_square_dict()\n",
        "print(square_dict)\n"
      ],
      "metadata": {
        "colab": {
          "base_uri": "https://localhost:8080/"
        },
        "id": "NWYSdllz8CVt",
        "outputId": "ee4bc5a3-6442-4560-d757-f6ed0323965f"
      },
      "execution_count": null,
      "outputs": [
        {
          "output_type": "stream",
          "name": "stdout",
          "text": [
            "{1: 1, 2: 4, 3: 9, 4: 16, 5: 25, 6: 36, 7: 49, 8: 64, 9: 81, 10: 100, 11: 121, 12: 144, 13: 169, 14: 196, 15: 225}\n"
          ]
        }
      ]
    },
    {
      "cell_type": "code",
      "source": [
        "#Write a Python script to merge two Python dictionaries.\n",
        "\n",
        "##the value from the second dictionary will overwrite the value in the first dictionary.\n",
        "\n",
        "def merge_dicts(dict1, dict2):\n",
        "    # Using update() to merge dict2 into dict1\n",
        "    dict1.update(dict2)\n",
        "    return dict1\n",
        "\n",
        "# Example usage\n",
        "dict1 = {'a': 1, 'b': 2}\n",
        "dict2 = {'b': 3, 'c': 4}\n",
        "\n",
        "merged_dict = merge_dicts(dict1, dict2)\n",
        "print(merged_dict)\n",
        "\n",
        "## another way\n",
        "def merge_dicts(dict1, dict2):\n",
        "    # Using the unpacking syntax to merge dictionaries\n",
        "    return {**dict1, **dict2}\n",
        "\n",
        "# Example usage\n",
        "dict1 = {'a': 1, 'b': 2}\n",
        "dict2 = {'b': 3, 'c': 4}\n",
        "\n",
        "merged_dict = merge_dicts(dict1, dict2)\n",
        "print(merged_dict)\n"
      ],
      "metadata": {
        "colab": {
          "base_uri": "https://localhost:8080/"
        },
        "id": "TVc-dC_S8MaK",
        "outputId": "2749ca0a-5285-45c5-d10b-5270120d2ec6"
      },
      "execution_count": null,
      "outputs": [
        {
          "output_type": "stream",
          "name": "stdout",
          "text": [
            "{'a': 1, 'b': 3, 'c': 4}\n",
            "{'a': 1, 'b': 3, 'c': 4}\n"
          ]
        }
      ]
    },
    {
      "cell_type": "code",
      "source": [
        "##Write a Python program to sum all the items in a dictionary.\n",
        "\n",
        "\n",
        "\n",
        "#or\n",
        "def sum_dict_items(dictionary):\n",
        "    total_sum = 0\n",
        "    # Iterating through the dictionary values\n",
        "    for value in dictionary.values():\n",
        "        total_sum += value  # Add each value to the total sum\n",
        "    #total_sum = sum(dictionary.values())\n",
        "    return total_sum\n",
        "\n",
        "# Example usage\n",
        "my_dict = {'a': 10, 'b': 20, 'c': 30, 'd': 40}\n",
        "result = sum_dict_items(my_dict)\n",
        "\n",
        "print(\"The sum of all items in the dictionary is:\", result)\n",
        "\n"
      ],
      "metadata": {
        "colab": {
          "base_uri": "https://localhost:8080/"
        },
        "id": "gHRhGotF89R2",
        "outputId": "085fd4a9-b9e7-422b-d73f-f84dafd3166b"
      },
      "execution_count": null,
      "outputs": [
        {
          "output_type": "stream",
          "name": "stdout",
          "text": [
            "The sum of all items in the dictionary is: 100\n"
          ]
        }
      ]
    },
    {
      "cell_type": "code",
      "source": [
        "#Write a Python program to get the maximum and minimum value in a dictionary.\n",
        "\n",
        "def get_max_min(dictionary):\n",
        "    # Get the key with maximum value\n",
        "    max_key = max(dictionary, key=dictionary.get)\n",
        "    max_value = dictionary[max_key]\n",
        "\n",
        "    # Get the key with minimum value\n",
        "    min_key = min(dictionary, key=dictionary.get)\n",
        "    min_value = dictionary[min_key]\n",
        "\n",
        "    return max_key, max_value, min_key, min_value\n",
        "\n",
        "# Example usage\n",
        "my_dict = {'a': 10, 'b': 50, 'c': 30, 'd': 5, 'e': 40}\n",
        "max_key, max_value, min_key, min_value = get_max_min(my_dict)\n",
        "\n",
        "print(f\"The key with the maximum value is: '{max_key}' with value {max_value}\")\n",
        "print(f\"The key with the minimum value is: '{min_key}' with value {min_value}\")\n"
      ],
      "metadata": {
        "colab": {
          "base_uri": "https://localhost:8080/"
        },
        "id": "fsQA0pMi-bud",
        "outputId": "d61a0f9a-7874-48f5-9700-b664c8dd0e7d"
      },
      "execution_count": null,
      "outputs": [
        {
          "output_type": "stream",
          "name": "stdout",
          "text": [
            "The key with the maximum value is: 'b' with value 50\n",
            "The key with the minimum value is: 'd' with value 5\n"
          ]
        }
      ]
    },
    {
      "cell_type": "markdown",
      "source": [
        "###Write a Python program to combine two dictionary adding values for common keys. d1 = {'a': 100, 'b': 200, 'c':300} d2 = {'a': 300, 'b': 200, 'd':400} Sample output: Counter({'a': 400, 'b': 400, 'd': 400, 'c': 300})"
      ],
      "metadata": {
        "id": "EyOgctLD-15F"
      }
    },
    {
      "cell_type": "code",
      "source": [
        "from collections import Counter\n",
        "\n",
        "# Sample dictionaries\n",
        "d1 = {'a': 100, 'b': 200, 'c': 300}\n",
        "d2 = {'a': 300, 'b': 200, 'd': 400}\n",
        "\n",
        "# Using Counter to combine the dictionaries and add values for common keys\n",
        "combined = Counter(d1) + Counter(d2)\n",
        "\n",
        "# Print the result\n",
        "print(combined)\n"
      ],
      "metadata": {
        "colab": {
          "base_uri": "https://localhost:8080/"
        },
        "id": "Q4ABLMfE-31V",
        "outputId": "cc74a63a-58cb-4861-eb34-2860411875a6"
      },
      "execution_count": null,
      "outputs": [
        {
          "output_type": "stream",
          "name": "stdout",
          "text": [
            "Counter({'a': 400, 'b': 400, 'd': 400, 'c': 300})\n"
          ]
        }
      ]
    },
    {
      "cell_type": "code",
      "source": [
        "#Convert two lists into a dictionary\n",
        "\n",
        "# Sample lists\n",
        "keys = ['a', 'b', 'c', 'd']\n",
        "values = [100, 200, 300, 400]\n",
        "\n",
        "# Convert the lists into a dictionary\n",
        "dictionary = dict(zip(keys, values))\n",
        "list = list(zip(keys,values))\n",
        "\n",
        "# Print the result\n",
        "print(dictionary)\n",
        "print(list)\n"
      ],
      "metadata": {
        "colab": {
          "base_uri": "https://localhost:8080/"
        },
        "id": "ZoME8q2W_B3P",
        "outputId": "6057ad51-2e15-49a5-8981-f8c56cae0836"
      },
      "execution_count": null,
      "outputs": [
        {
          "output_type": "stream",
          "name": "stdout",
          "text": [
            "{'a': 100, 'b': 200, 'c': 300, 'd': 400}\n",
            "[('a', 100), ('b', 200), ('c', 300), ('d', 400)]\n"
          ]
        }
      ]
    },
    {
      "cell_type": "markdown",
      "source": [
        "#Take user input and Save all student's information in a dictionary. (name,id,cgpa)"
      ],
      "metadata": {
        "id": "E4TVrH8tCR8f"
      }
    },
    {
      "cell_type": "code",
      "source": [
        "# Initialize an empty dictionary to store student information\n",
        "students = {}\n",
        "\n",
        "# Function to take student input\n",
        "def add_student():\n",
        "    # Take input from user\n",
        "    name = input(\"Enter student's name: \")\n",
        "    student_id = input(\"Enter student's ID: \")\n",
        "    cgpa = float(input(\"Enter student's CGPA: \"))\n",
        "\n",
        "    # Store the student's information in the dictionary\n",
        "    students[student_id] = {'name': name, 'cgpa': cgpa}\n",
        "\n",
        "# Function to display all students' information\n",
        "def display_students():\n",
        "    if students:\n",
        "        print(\"\\nStudent Information:\")\n",
        "        for student_id, info in students.items():\n",
        "            print(f\"ID: {student_id}, Name: {info['name']}, CGPA: {info['cgpa']}\")\n",
        "    else:\n",
        "        print(\"\\nNo student information available.\")\n",
        "\n",
        "# Main program loop\n",
        "while True:\n",
        "    print(\"\\n1. Add student information\")\n",
        "    print(\"2. Display all student information\")\n",
        "    print(\"3. Exit\")\n",
        "\n",
        "    # Get the user's choice\n",
        "    choice = input(\"Enter your choice (1/2/3): \")\n",
        "\n",
        "    if choice == '1':\n",
        "        add_student()  # Add student's information\n",
        "    elif choice == '2':\n",
        "        display_students()  # Display all student information\n",
        "    elif choice == '3':\n",
        "        print(\"Exiting the program.\")\n",
        "        break\n",
        "    else:\n",
        "        print(\"Invalid choice. Please try again.\")\n"
      ],
      "metadata": {
        "colab": {
          "base_uri": "https://localhost:8080/"
        },
        "id": "wKhtaA0CCGbr",
        "outputId": "ee89dca3-aea4-4957-f9ad-4ab8f307979e"
      },
      "execution_count": null,
      "outputs": [
        {
          "output_type": "stream",
          "name": "stdout",
          "text": [
            "\n",
            "1. Add student information\n",
            "2. Display all student information\n",
            "3. Exit\n",
            "Enter your choice (1/2/3): 1\n",
            "Enter student's name: akash\n",
            "Enter student's ID: 2004009\n",
            "Enter student's CGPA: 3.66\n",
            "\n",
            "1. Add student information\n",
            "2. Display all student information\n",
            "3. Exit\n",
            "Enter your choice (1/2/3): 3\n",
            "Exiting the program.\n"
          ]
        }
      ]
    },
    {
      "cell_type": "markdown",
      "source": [
        "##Sort a dictionary in ascending order by summation of key and value. key= Age and value=height"
      ],
      "metadata": {
        "id": "6TKAgVWSDGmP"
      }
    },
    {
      "cell_type": "code",
      "source": [
        "# Sample dictionary with age as the key and height as the value\n",
        "age_height_dict = {\n",
        "    25: 175,\n",
        "    30: 160,\n",
        "    20: 180,\n",
        "    35: 165,\n",
        "    40: 170\n",
        "}\n",
        "\n",
        "# Sorting the dictionary by the summation of key and value (Age + Height)\n",
        "sorted_dict = sorted(age_height_dict.items(), key=lambda x: x[0] + x[1])\n",
        "\n",
        "# Displaying the sorted dictionary\n",
        "print(\"Sorted dictionary by summation of Age and Height (ascending order):\")\n",
        "for key, value in sorted_dict:\n",
        "    print(f\"Age: {key}, Height: {value}, Sum (Age + Height): {key + value}\")\n"
      ],
      "metadata": {
        "id": "n-dt4d38C-nw",
        "colab": {
          "base_uri": "https://localhost:8080/"
        },
        "outputId": "872cca6c-261a-4721-ae0f-c81a0b670d8a"
      },
      "execution_count": null,
      "outputs": [
        {
          "output_type": "stream",
          "name": "stdout",
          "text": [
            "Sorted dictionary by summation of Age and Height (ascending order):\n",
            "Age: 30, Height: 160, Sum (Age + Height): 190\n",
            "Age: 25, Height: 175, Sum (Age + Height): 200\n",
            "Age: 20, Height: 180, Sum (Age + Height): 200\n",
            "Age: 35, Height: 165, Sum (Age + Height): 200\n",
            "Age: 40, Height: 170, Sum (Age + Height): 210\n"
          ]
        }
      ]
    },
    {
      "cell_type": "markdown",
      "source": [
        "###Create a dictionary by interchanging key and value of another dictionary."
      ],
      "metadata": {
        "id": "14nfm7ZDDQhe"
      }
    },
    {
      "cell_type": "code",
      "source": [
        "# Original dictionary\n",
        "original_dict = {\n",
        "    'a': 1,\n",
        "    'b': 2,\n",
        "    'c': 3\n",
        "}\n",
        "\n",
        "# Swapping keys and values using dictionary comprehension\n",
        "swapped_dict = {value: key for key, value in original_dict.items()}\n",
        "\n",
        "## swapped_dict = {value: key}  for key,value in original_dict.items()\n",
        "\n",
        "# Print the swapped dictionary\n",
        "print(swapped_dict)"
      ],
      "metadata": {
        "id": "wv-eleXnDSJ_",
        "colab": {
          "base_uri": "https://localhost:8080/"
        },
        "outputId": "d20737ec-159a-425c-dc65-9d796d3b8dc0"
      },
      "execution_count": null,
      "outputs": [
        {
          "output_type": "stream",
          "name": "stdout",
          "text": [
            "{1: 'a', 2: 'b', 3: 'c'}\n"
          ]
        }
      ]
    },
    {
      "cell_type": "markdown",
      "source": [
        "#Set Operations"
      ],
      "metadata": {
        "id": "1Ea2BGzIoVoN"
      }
    },
    {
      "cell_type": "markdown",
      "source": [
        "###Union\n",
        "###Combines elements from two sets, removing duplicates."
      ],
      "metadata": {
        "id": "msivzIFNogdc"
      }
    },
    {
      "cell_type": "code",
      "source": [
        "A = {1, 2, 3}\n",
        "B = {3, 4, 5}\n",
        "print(A | B)       # Output: {1, 2, 3, 4, 5}\n",
        "print(A.union(B))  # Output: {1, 2, 3, 4, 5}\n"
      ],
      "metadata": {
        "colab": {
          "base_uri": "https://localhost:8080/"
        },
        "id": "WtH01Pawo3dc",
        "outputId": "c638288a-1992-4051-d993-d9519d28a95d"
      },
      "execution_count": null,
      "outputs": [
        {
          "output_type": "stream",
          "name": "stdout",
          "text": [
            "{1, 2, 3, 4, 5}\n",
            "{1, 2, 3, 4, 5}\n"
          ]
        }
      ]
    },
    {
      "cell_type": "markdown",
      "source": [
        "###Intersection\n",
        "Returns common *elemen*"
      ],
      "metadata": {
        "id": "X6eRDh3qo9OO"
      }
    },
    {
      "cell_type": "code",
      "source": [
        "print(A & B)         # Output: {3}\n",
        "print(A.intersection(B))  # Output: {3}\n"
      ],
      "metadata": {
        "colab": {
          "base_uri": "https://localhost:8080/"
        },
        "id": "Y7uOfdI2pG0e",
        "outputId": "c3a2eb61-6890-467b-a1ad-e89ab8a4d3a8"
      },
      "execution_count": null,
      "outputs": [
        {
          "output_type": "stream",
          "name": "stdout",
          "text": [
            "{3}\n",
            "{3}\n"
          ]
        }
      ]
    },
    {
      "cell_type": "markdown",
      "source": [
        "### Difference\n",
        "Returns elements in one set but not the other."
      ],
      "metadata": {
        "id": "hUpl8XbXpLQk"
      }
    },
    {
      "cell_type": "code",
      "source": [
        "print(A - B)       # Output: {1, 2} (elements in A but not in B)\n",
        "print(A.difference(B))  # Output: {1, 2}\n"
      ],
      "metadata": {
        "colab": {
          "base_uri": "https://localhost:8080/"
        },
        "id": "D3UPKwtKpOEs",
        "outputId": "8a9038ef-1fbd-45e9-82c1-044816f799fc"
      },
      "execution_count": null,
      "outputs": [
        {
          "output_type": "stream",
          "name": "stdout",
          "text": [
            "{1, 2}\n",
            "{1, 2}\n"
          ]
        }
      ]
    },
    {
      "cell_type": "markdown",
      "source": [
        "###Symmetric Difference\n",
        "Returns elements in either set but not both.\n",
        "\n"
      ],
      "metadata": {
        "id": "xPClpPxYpRoN"
      }
    },
    {
      "cell_type": "code",
      "source": [
        "print(A ^ B)  # Output: {1, 2, 4, 5}\n",
        "print(A.symmetric_difference(B))  # Output: {1, 2, 4, 5}\n"
      ],
      "metadata": {
        "colab": {
          "base_uri": "https://localhost:8080/"
        },
        "id": "Sl43JSEopWFr",
        "outputId": "5d7bb4c7-0f51-4a8a-a31c-61f94f738aa4"
      },
      "execution_count": null,
      "outputs": [
        {
          "output_type": "stream",
          "name": "stdout",
          "text": [
            "{1, 2, 4, 5}\n",
            "{1, 2, 4, 5}\n"
          ]
        }
      ]
    },
    {
      "cell_type": "markdown",
      "source": [
        "#Set Comparisons"
      ],
      "metadata": {
        "id": "l0MXX-qypuhc"
      }
    },
    {
      "cell_type": "code",
      "source": [
        "A = {1, 2, 3}\n",
        "B = {1, 2, 3, 4, 5}\n",
        "\n",
        "print(A.issubset(B))  # True (A is a subset of B)\n",
        "print(B.issuperset(A))  # True (B is a superset of A)\n",
        "print(A.isdisjoint(B))  # False (A and B have common elements)"
      ],
      "metadata": {
        "colab": {
          "base_uri": "https://localhost:8080/"
        },
        "id": "z9HHeVMfqKXb",
        "outputId": "8f383f8d-68ec-436e-ac2f-5150bd2b0c32"
      },
      "execution_count": null,
      "outputs": [
        {
          "output_type": "stream",
          "name": "stdout",
          "text": [
            "True\n",
            "True\n",
            "False\n"
          ]
        }
      ]
    },
    {
      "cell_type": "markdown",
      "source": [
        "###rozen Sets\n",
        "####A frozen set is an immutable version of a set.\n",
        "####frozenset() constructor and behaves just like a set, except it cannot be modified after it is created.\n"
      ],
      "metadata": {
        "id": "w2JC6BYEtW5E"
      }
    },
    {
      "cell_type": "code",
      "source": [
        "fs = frozenset([1, 2, 3,4,5,1,2,3,4])\n",
        "print(fs)\n",
        "#fs.add(4)  # Error: 'frozenset' object has no attribute 'add'\n",
        "#fs.remove(1)  # Error: 'frozenset' object has no attribute 'remove'\n"
      ],
      "metadata": {
        "colab": {
          "base_uri": "https://localhost:8080/"
        },
        "id": "lM2ggDhzt4Pc",
        "outputId": "c68e50c2-c2fc-47ae-cf5b-801a0662b273"
      },
      "execution_count": null,
      "outputs": [
        {
          "output_type": "stream",
          "name": "stdout",
          "text": [
            "frozenset({1, 2, 3, 4, 5})\n"
          ]
        }
      ]
    },
    {
      "cell_type": "markdown",
      "source": [
        "###Other Set Methods"
      ],
      "metadata": {
        "id": "cGRCaq0puYmb"
      }
    },
    {
      "cell_type": "code",
      "source": [
        "A = {1, 2, 3}\n",
        "B = {3, 4, 5}\n",
        "\n",
        "# Check if an element exists\n",
        "print(2 in A)  # True\n",
        "\n",
        "# Clear all elements from a set\n",
        "A.clear()\n",
        "print(A)  # Output: set()\n",
        "\n",
        "# Copy a set\n",
        "C = B.copy()\n",
        "print(C)  # Output: {3, 4, 5}\n"
      ],
      "metadata": {
        "colab": {
          "base_uri": "https://localhost:8080/"
        },
        "id": "SPp91zNZubiL",
        "outputId": "3d90e824-5439-4024-ada9-23d9cb5d7753"
      },
      "execution_count": null,
      "outputs": [
        {
          "output_type": "stream",
          "name": "stdout",
          "text": [
            "True\n",
            "set()\n",
            "{3, 4, 5}\n"
          ]
        }
      ]
    },
    {
      "cell_type": "markdown",
      "source": [
        "##Example Use Cases of Sets"
      ],
      "metadata": {
        "id": "k8lj7GQ8ueor"
      }
    },
    {
      "cell_type": "markdown",
      "source": [
        "###Remove Duplicates from a List\n",
        "\n"
      ],
      "metadata": {
        "id": "azMBRFbWuk81"
      }
    },
    {
      "cell_type": "code",
      "source": [
        "lst = [1, 2, 2, 3, 4, 4, 5]\n",
        "unique = set(lst)\n",
        "print(unique)  # Output: {1, 2, 3, 4, 5}\n"
      ],
      "metadata": {
        "colab": {
          "base_uri": "https://localhost:8080/"
        },
        "id": "kDbdKE_aunoN",
        "outputId": "b6aaf94a-b0a9-47d6-8441-6c21d1404f48"
      },
      "execution_count": null,
      "outputs": [
        {
          "output_type": "stream",
          "name": "stdout",
          "text": [
            "{1, 2, 3, 4, 5}\n"
          ]
        }
      ]
    },
    {
      "cell_type": "markdown",
      "source": [
        "###Find Common Elements"
      ],
      "metadata": {
        "id": "sfHMbD9AvwNt"
      }
    },
    {
      "cell_type": "code",
      "source": [
        "list1 = [1, 2, 3, 4]\n",
        "list2 = [3, 4, 5, 6]\n",
        "common = set(list1) & set(list2)\n",
        "print(common)  # Output: {3, 4}\n"
      ],
      "metadata": {
        "colab": {
          "base_uri": "https://localhost:8080/"
        },
        "id": "QeuntWJFvy3v",
        "outputId": "2645f17a-ee6f-4061-8168-75c450c8308e"
      },
      "execution_count": null,
      "outputs": [
        {
          "output_type": "stream",
          "name": "stdout",
          "text": [
            "{3, 4}\n"
          ]
        }
      ]
    },
    {
      "cell_type": "markdown",
      "source": [
        "##Check for Subset or Superset\n",
        "###1. Subset\n",
        "###A set A is considered a subset of set B if all elements of A are also elements of B.\n",
        "\n",
        "###Denoted as: A ⊆ B\n",
        "\n",
        "##2. Proper Subset\n",
        "###A proper subset is a subset that is strictly smaller than the original set. This means all elements of A are in B, but A is not equal to B.\n",
        "\n",
        "###Denoted as: A ⊂ B\n",
        "\n",
        "##3. Superset\n",
        "###A set B is considered a superset of set A if all elements of A are also elements of B.\n",
        "\n",
        "###Denoted as: B ⊇ A\n",
        "\n",
        "##4. Proper Superset\n",
        "###A proper superset is a superset that is strictly larger than the original set.\n",
        "\n",
        "###Denoted as: B ⊃ A\n"
      ],
      "metadata": {
        "id": "7V0ZB7nyv29E"
      }
    },
    {
      "cell_type": "code",
      "source": [
        "set_a = {1, 2}\n",
        "set_b = {1, 2, 3, 4}\n",
        "\n",
        "# Check if A is a subset of B\n",
        "print(set_a.issubset(set_b))  # Output: True\n",
        "##print(set_a <= set_b)\n",
        "\n",
        "# Check if A is a proper subset of B\n",
        "print(set_a < set_b)  # Output: True (proper subset)\n",
        "\n",
        "# Check if B is a superset of A\n",
        "print(set_b.issuperset(set_a))  # Output: True\n",
        "##print(set_b >= set_a)\n",
        "\n",
        "# Check if B is a proper superset of A\n",
        "print(set_b > set_a)  # Output: True (proper superset)\n"
      ],
      "metadata": {
        "colab": {
          "base_uri": "https://localhost:8080/"
        },
        "id": "L5KyLsybxWRs",
        "outputId": "4fed310a-a618-451f-fa6b-fe1e3597be32"
      },
      "execution_count": null,
      "outputs": [
        {
          "output_type": "stream",
          "name": "stdout",
          "text": [
            "True\n",
            "True\n",
            "True\n",
            "True\n"
          ]
        }
      ]
    },
    {
      "cell_type": "markdown",
      "source": [
        "###Symmetric Difference to Compare Files\n",
        "\n",
        "####The symmetric difference operation between two sets in Python finds elements that are in either of the sets but not in both. It effectively excludes the common elements."
      ],
      "metadata": {
        "id": "wQyvK6otyXic"
      }
    },
    {
      "cell_type": "code",
      "source": [
        "file1 = {\"line1\", \"line2\", \"line3\"}\n",
        "file2 = {\"line2\", \"line3\", \"line4\"}\n",
        "diff = file1 ^ file2\n",
        "print(diff)  # Output: {'line1', 'line4'}  i donot understand this  topic"
      ],
      "metadata": {
        "colab": {
          "base_uri": "https://localhost:8080/"
        },
        "id": "CMnhJCsnyckN",
        "outputId": "2a5c9da7-0c83-41ad-fa79-5e91ccdbfda3"
      },
      "execution_count": null,
      "outputs": [
        {
          "output_type": "stream",
          "name": "stdout",
          "text": [
            "{'line1', 'line4'}\n"
          ]
        }
      ]
    },
    {
      "cell_type": "code",
      "source": [
        "fruits = {\"apple\", \"banana\", \"cherry\"}\n",
        "print(fruits)\n",
        "\n",
        "fruits.add(\"Lichi\")\n",
        "print(fruits)\n",
        "\n",
        "fruits.remove(\"apple\")\n",
        "print(fruits)\n"
      ],
      "metadata": {
        "colab": {
          "base_uri": "https://localhost:8080/"
        },
        "id": "90PRQClLy6Y1",
        "outputId": "a681f08b-5fee-438b-f944-dffd63026003"
      },
      "execution_count": null,
      "outputs": [
        {
          "output_type": "stream",
          "name": "stdout",
          "text": [
            "{'cherry', 'apple', 'banana'}\n",
            "{'Lichi', 'cherry', 'apple', 'banana'}\n",
            "{'Lichi', 'cherry', 'banana'}\n"
          ]
        }
      ]
    },
    {
      "cell_type": "markdown",
      "source": [
        "###Sorting"
      ],
      "metadata": {
        "id": "fLeC-QvvzJOc"
      }
    },
    {
      "cell_type": "code",
      "source": [
        "num_set = {5,7,6,3,4,9,7,2,3,3,1}\n",
        "\n",
        "sorted_set = sorted(num_set)\n",
        "desc_sorted_set = sorted(num_set, reverse=True)\n",
        "\n",
        "print(sorted_set)\n",
        "print(desc_sorted_set)"
      ],
      "metadata": {
        "colab": {
          "base_uri": "https://localhost:8080/"
        },
        "id": "dEN3-GGozMyN",
        "outputId": "a014a195-c41f-4e5a-e173-ff81908bb747"
      },
      "execution_count": null,
      "outputs": [
        {
          "output_type": "stream",
          "name": "stdout",
          "text": [
            "[1, 2, 3, 4, 5, 6, 7, 9]\n",
            "[9, 7, 6, 5, 4, 3, 2, 1]\n"
          ]
        }
      ]
    },
    {
      "cell_type": "markdown",
      "source": [
        "##List to Set"
      ],
      "metadata": {
        "id": "o071rKoWzTrV"
      }
    },
    {
      "cell_type": "code",
      "source": [
        "num = [5,2,8,2,7,1,6,3]\n",
        "print(num)\n",
        "print( set(num) )"
      ],
      "metadata": {
        "colab": {
          "base_uri": "https://localhost:8080/"
        },
        "id": "6QcyqYSvzVA8",
        "outputId": "3ae9b098-1d94-4dc5-c52e-dcf7fc3b52ff"
      },
      "execution_count": null,
      "outputs": [
        {
          "output_type": "stream",
          "name": "stdout",
          "text": [
            "[5, 2, 8, 2, 7, 1, 6, 3]\n",
            "{1, 2, 3, 5, 6, 7, 8}\n"
          ]
        }
      ]
    }
  ],
  "metadata": {
    "colab": {
      "provenance": [],
      "authorship_tag": "ABX9TyN4byM+s1rw6zmBK0j0+TCx",
      "include_colab_link": true
    },
    "kernelspec": {
      "display_name": "Python 3",
      "name": "python3"
    },
    "language_info": {
      "name": "python"
    }
  },
  "nbformat": 4,
  "nbformat_minor": 0
}